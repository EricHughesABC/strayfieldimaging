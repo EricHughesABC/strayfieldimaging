{
 "cells": [
  {
   "cell_type": "markdown",
   "metadata": {},
   "source": [
    "## Compressed Sensing (Non-Uniform-Sampling) of MQMAS Experiment using Iterative Soft Thresholding"
   ]
  },
  {
   "cell_type": "markdown",
   "metadata": {},
   "source": [
    "### Sodium poly"
   ]
  },
  {
   "cell_type": "code",
   "execution_count": 47,
   "metadata": {
    "collapsed": false
   },
   "outputs": [],
   "source": [
    "\n",
    "import pylab\n",
    "import numpy\n",
    "import scipy\n",
    "from   scipy import fftpack\n",
    "from   scipy.fftpack import fft, ifft, hilbert, fftshift, rfft \n",
    "import os\n",
    "import nmrglue\n",
    "\n",
    "import numpy as np\n",
    "import matplotlib\n",
    "import matplotlib.pyplot as plt\n",
    "from matplotlib.ticker import NullFormatter\n",
    "\n",
    "%matplotlib inline"
   ]
  },
  {
   "cell_type": "markdown",
   "metadata": {},
   "source": [
    "### IST Algorithm"
   ]
  },
  {
   "cell_type": "code",
   "execution_count": 48,
   "metadata": {
    "collapsed": false
   },
   "outputs": [],
   "source": [
    "def numPeaks( sss ):\n",
    "    www = numpy.where( sss > 0 )\n",
    "    numPeaks = 0\n",
    "    ppp = www[0]\n",
    "    for i in range(len(ppp[:-1])):\n",
    "        v = www[0][i]\n",
    "        v1 = www[0][i+1]\n",
    "        if v1-v > 1:\n",
    "            numPeaks +=1\n",
    "\n",
    "    return( numPeaks ) \n",
    "\n",
    "\n",
    "\n",
    "def compressed_sensing_1VD( fid, mask, num_iter=500, factor=0.95, tol = 0.01, maxPeaks=2 ):\n",
    "    \n",
    "    sss = numpy.zeros( len(fid))\n",
    "    sss0 = numpy.zeros( len(fid))\n",
    "    \n",
    "    final_iter_value  = 0\n",
    "    final_tol_value   = 0\n",
    "    final_numpeaks_value = 0\n",
    "\n",
    "    fid1 = fid.copy()\n",
    "    tol_diff = (numpy.sqrt(((abs(fid1)).sum())/32.))\n",
    "    \n",
    "    k=0\n",
    "    rrr = fftpack.fft(fid1)\n",
    "    rss0 = []\n",
    "    rss0.append(abs(rrr).sum())\n",
    "    \n",
    "    tol0 = abs(rrr).sum()\n",
    "    tol_diff = ( tol0 - abs(rrr).sum() )*100.0 / tol0\n",
    "    while (tol_diff < tol) and (k < num_iter) and numPeaks( sss ) <maxPeaks:\n",
    "        \n",
    "        sss0 = 1.0*sss\n",
    "        \n",
    "        rrr = fftpack.fft(fid1)\n",
    "        m1 = max(rrr.real)\n",
    "        \n",
    "        sss_max_old = sss.max()\n",
    "               \n",
    "        for i,r in enumerate(rrr):\n",
    "            if r.real > m1* factor:\n",
    "                sss[i] = sss[i]+rrr[i].real-m1*factor\n",
    "                rrr[i] = complex(m1*factor)\n",
    "        sss_max = sss.max()\n",
    "        \n",
    "        rrr_iii = fftpack.hilbert( rrr.real )\n",
    "        \n",
    "        rrr = rrr.real + 1j * rrr_iii\n",
    "        \n",
    "        fid1 = fftpack.ifft(rrr)\n",
    "        \n",
    "        fid1 *= mask\n",
    "        tol_diff = ( tol0 - abs(rrr).sum() )*100.0 / tol0\n",
    "        k +=1\n",
    "\n",
    "    final_iter_value = k\n",
    "    final_numpeaks_value = numPeaks(sss)\n",
    "    final_tol_value = tol_diff\n",
    "    \n",
    "    return( sss0, [final_iter_value, final_numpeaks_value, final_tol_value ] )"
   ]
  },
  {
   "cell_type": "code",
   "execution_count": 49,
   "metadata": {
    "collapsed": false
   },
   "outputs": [],
   "source": [
    "def numPeaks( sss ):\n",
    "    www = numpy.where( sss > 0 )\n",
    "    numPeaks = 0\n",
    "    ppp = www[0]\n",
    "    for i in range(len(ppp[:-1])):\n",
    "        v = ppp[i]\n",
    "        v1 = ppp[i+1]\n",
    "        if v1-v > 1:\n",
    "            numPeaks +=1\n",
    "\n",
    "    return( numPeaks ) \n",
    "\n",
    "\n",
    "\n",
    "def compressed_sensing_1D_VI( fid, mask, num_iter=500, factor=0.95, tol = 0.01, maxPeaks=2 ):\n",
    "    \n",
    "#    print tol\n",
    "    sss = numpy.zeros( len(fid))\n",
    "    \n",
    "    final_iter_value  = 0\n",
    "    final_tol_value   = 0\n",
    "    final_numpeaks_value = 0\n",
    "    \n",
    "    tolerance = []\n",
    "    numberOfpeaks = []\n",
    "    \n",
    "    fid1 = fid.copy()\n",
    "    tol_diff = 1000.0\n",
    "    \n",
    "    k=0\n",
    "    rrr = fft(fid1)\n",
    "    \n",
    "#    print \"tol_diff\",tol_diff\n",
    "#    print \"Num Peaks\", numPeaks( sss )\n",
    "    \n",
    "    \n",
    "    while (tol_diff > tol) and (k < num_iter) and numPeaks( sss ) < maxPeaks:\n",
    "        \n",
    "        rrr = fft(fid1)\n",
    "        m1 = max(rrr.real)*factor\n",
    "               \n",
    "        for i,r in enumerate(rrr):\n",
    "            if r.real > m1:\n",
    "                sss[i] = sss[i]+rrr[i].real-m1\n",
    "                rrr[i] = complex(m1)\n",
    "        rrr = rrr.real + 1j * hilbert( rrr.real )\n",
    "        \n",
    "        fid1 = ifft(rrr)*mask\n",
    "\n",
    "        fid00 = ifft(sss+1j*hilbert(sss))*mask\n",
    "        \n",
    "        tol_diff = (abs(fid00.real-fid.real)).sum()\n",
    "        tolerance.append(tol_diff)\n",
    "        numberOfpeaks.append( numPeaks( sss ))\n",
    "        k +=1\n",
    "#        print tol_diff,k,\n",
    "        \n",
    "\n",
    "        \n",
    "    final_iter_value = k\n",
    "    final_numpeaks_value = numPeaks(sss)\n",
    "    final_tol_value = tol_diff\n",
    "    \n",
    "    return( sss, [final_iter_value, numberOfpeaks, tolerance ] )\n",
    "\n",
    "\n"
   ]
  },
  {
   "cell_type": "markdown",
   "metadata": {},
   "source": [
    "### Matplotlib Class to plot 2D NMR spectrum"
   ]
  },
  {
   "cell_type": "code",
   "execution_count": 50,
   "metadata": {
    "collapsed": false
   },
   "outputs": [],
   "source": [
    "class TwoD_NMR_MAT_plot:\n",
    "    \n",
    "    def __init__(self, exp, pinfo, info, dimensions_ppm=[]):\n",
    "        \n",
    "        print exp.shape\n",
    "        \n",
    "        self.exp = exp\n",
    "        self.pinfo = pinfo\n",
    "        self.info  = info\n",
    "        \n",
    "        self.rr,self.cc = exp.shape\n",
    "        self.X = np.zeros(exp.shape)\n",
    "        self.Y = np.zeros(exp.shape)\n",
    "        \n",
    "        r1=0\n",
    "        r2=self.rr\n",
    "\n",
    "        c1=0\n",
    "        c2=self.cc\n",
    "        \n",
    "        print r2,c2\n",
    "        \n",
    "        self.create_axes(  pinfo, info, self.rr, self.cc, dimensions_ppm )\n",
    "          \n",
    "        self.create_plot_layout(self.dimensions_index)\n",
    "        \n",
    "        self.plot_plots()\n",
    "        \n",
    "\n",
    "        \n",
    "    def create_axes( self, pinfo, info, rr,cc, dimensions_ppm):\n",
    "                \n",
    "        self.f1_offset_p = pinfo['procs' ]['OFFSET']\n",
    "        self.f1_sw_hz     = pinfo['procs' ]['SW_p']\n",
    "        self.f1_omega    = pinfo['procs' ]['SF']\n",
    "        self.f1_sw_ppm   = self.f1_sw_hz/self.f1_omega\n",
    "        \n",
    "        self.f2_offset_p = pinfo['proc2s' ]['OFFSET']\n",
    "        self.f2_sw_hz     = pinfo['proc2s' ]['SW_p']\n",
    "        self.f2_omega    = pinfo['proc2s' ]['SF']\n",
    "        self.f2_sw_ppm   = self.f2_sw_hz/self.f2_omega\n",
    "        print self.f1_sw_ppm\n",
    "        \n",
    "        self.f1 = np.linspace(self.f1_offset_p, self.f1_offset_p-self.f1_sw_ppm,  self.rr)\n",
    "        self.f2 = np.linspace(self.f2_offset_p, self.f2_offset_p-self.f2_sw_ppm,  self.cc)\n",
    "        \n",
    "        self.dw_f1_ppm = self.f1[1]-self.f1[0]\n",
    "        self.dw_f2_ppm = self.f2[1]-self.f2[0]\n",
    "        \n",
    "        for r in range(self.rr):\n",
    "    \n",
    "            for c in range( self.cc):\n",
    "        \n",
    "                self.Y[r,c] = self.f1[r]\n",
    "                self.X[r,c] = self.f2[c] \n",
    "                \n",
    "        print dimensions_ppm       \n",
    "        if dimensions_ppm == []:\n",
    "            self.dimensions_index = scipy.array([0,self.rr-1,0,self.cc-1])\n",
    "        else:\n",
    "            r1 = int( (dimensions_ppm[1]-self.f1_offset_p)/self.dw_f1_ppm)\n",
    "            r2 = int( (dimensions_ppm[0]-self.f1_offset_p)/self.dw_f1_ppm)\n",
    "            c1 = int( (dimensions_ppm[2]-self.f2_offset_p)/self.dw_f2_ppm)\n",
    "            c2 = int( (dimensions_ppm[3]-self.f2_offset_p)/self.dw_f2_ppm)\n",
    "            \n",
    "            self.dimensions_index = scipy.array([r1,r2,c1,c2 ])\n",
    "            \n",
    "        print \"self.dimensions_index\", self.dimensions_index\n",
    "            \n",
    "        self.Z1 = self.exp[self.dimensions_index[0]:self.dimensions_index[1],self.dimensions_index[2]:self.dimensions_index[3]]\n",
    "        self.X1 =   self.X[self.dimensions_index[0]:self.dimensions_index[1],self.dimensions_index[2]:self.dimensions_index[3]]\n",
    "        self.Y1 =   self.Y[self.dimensions_index[0]:self.dimensions_index[1],self.dimensions_index[2]:self.dimensions_index[3]]\n",
    "        \n",
    "        \n",
    "    def create_plot_layout( self, dimensions_index):\n",
    "        \n",
    "        print \"dimensions_index\",dimensions_index\n",
    "        \n",
    "        nullfmt   = NullFormatter()         # no labels\n",
    "\n",
    "        # definitions for the axes\n",
    "        left, width = 0.1, 0.65\n",
    "        bottom, height = 0.1, 0.65\n",
    "        bottom_h = left_h = left+width+0.02\n",
    "\n",
    "        rect_scatter = [left, bottom, width, height]\n",
    "        rect_histx = [left, bottom_h, width, 0.2]\n",
    "        rect_histy = [left_h, bottom, 0.2, height]\n",
    "\n",
    "        # start with a rectangular Figure\n",
    "        plt.figure(2, figsize=(6,6))\n",
    "\n",
    "        self.axScatter = plt.axes(rect_scatter)\n",
    "        self.axHistx = plt.axes(rect_histx)\n",
    "        self.axHisty = plt.axes(rect_histy)\n",
    "\n",
    "# no labels\n",
    "        self.axHistx.xaxis.set_major_formatter(nullfmt)\n",
    "        self.axHisty.yaxis.set_major_formatter(nullfmt)\n",
    "        \n",
    "        self.axScatter.tick_params(axis='x', labelsize=16)\n",
    "        self.axScatter.tick_params(axis='y', labelsize=16)\n",
    "        self.axScatter.set_xlabel('${^1}$H [ppm]',fontsize=16)\n",
    "        #ax.set_xlim(-60, 60)\n",
    "        self.axScatter.set_ylabel('${^1}$H [ppm]', fontsize=16)\n",
    "        \n",
    "        self.axHistx.axis('off')\n",
    "        self.axHisty.axis('off')\n",
    "\n",
    "        f1_start = self.f1[dimensions_index[0]]\n",
    "        f1_end   = self.f1[dimensions_index[1]]\n",
    "\n",
    "        f2_start = self.f2[dimensions_index[2]]\n",
    "        f2_end   = self.f2[dimensions_index[3]]\n",
    "\n",
    "        self.axScatter.set_ylim( (f1_start, f1_end) )\n",
    "        self.axScatter.set_xlim( (f2_start, f2_end) )\n",
    "        \n",
    "        \n",
    "\n",
    "    def plot_plots(self):\n",
    "        \n",
    "        # the scatter plot:\n",
    "        cl = np.linspace(self.Z1.max()*0.01, self.Z1.max()*1.1,10)\n",
    "        print \"Z1.shape\",self.Z1.shape\n",
    "        \n",
    "\n",
    "        sum_f1 = self.Z1.sum(axis=0)\n",
    "        print \"len(sum_f1)\",len(sum_f1)\n",
    "        sum_f2 = self.Z1.sum(axis=1)\n",
    "        print \"len(sum_f2)\",len(sum_f2)\n",
    "\n",
    "        cset = self.axScatter.contour(self.X1, self.Y1, self.Z1,  cl,  colors='red')\n",
    "        #\n",
    "        self.axHistx.plot(sum_f1, 'r-')\n",
    "        self.axHisty.plot(sum_f2,range(len(sum_f2)),'r')\n",
    "\n",
    "\n",
    "        self.axHistx.set_xlim( (0,len(sum_f1)-1) )\n",
    "        self.axHisty.set_ylim( (0,len(sum_f2)-1) )        \n",
    "        \n",
    "        \n",
    "        "
   ]
  },
  {
   "cell_type": "markdown",
   "metadata": {},
   "source": [
    "### Read in Experimental Data"
   ]
  },
  {
   "cell_type": "code",
   "execution_count": 51,
   "metadata": {
    "collapsed": false
   },
   "outputs": [],
   "source": [
    "\n",
    "\n",
    "f1=64\n",
    "zerofill = 512\n",
    "f2=512\n",
    "pp=32\n",
    "\n",
    "\n",
    "expt_no = \"16\"  # PGSTE -MAT, 32 scans, D1=1s, 15Hz, 32_64 from 200\n",
    "\n",
    "directory = os.path.join(\"Y:\", os.sep,\"SSNMR\",\"Backup\", \"Avance\", \"bdat07\",\"eeh_20160115_mqmas\" )\n",
    "\n",
    "expt_no = \"10\"  # PGSTE -MAT, 32 scans, D1=1s, 15Hz, 32_64 from 200\n",
    "\n",
    "directory = os.path.join(\"Y:\", os.sep,\"SSNMR\",\"Backup\", \"Avance\", \"bdat07\",\"eeh_20160124_mqmas\" )\n",
    "#directory = os.path.join( \"NMRDATA\",\"eeh_20150710_4mmHXG_MAT\" )\n",
    "\n",
    "file_rrr = os.path.join( directory, expt_no, \"pdata\", \"1\")\n",
    "\n",
    "file_ser = os.path.join(directory,expt_no)\n",
    "                         \n",
    "cs_file  = os.path.join( directory,expt_no,\"nuslist\")\n",
    "file1    = os.path.join( directory,expt_no,\"pdata\",\"1\",\"2rr\" )\n",
    "\n",
    "\n",
    "\n",
    "max_num_peaks = 100\n",
    "tolerance = 80e3\n",
    "iterations = 500"
   ]
  },
  {
   "cell_type": "code",
   "execution_count": 52,
   "metadata": {
    "collapsed": false
   },
   "outputs": [
    {
     "name": "stdout",
     "output_type": "stream",
     "text": [
      "(512L, 512L)\n",
      "(64L, 1024L)\n"
     ]
    }
   ],
   "source": [
    "pinfo,expt = nmrglue.fileio.bruker.read_pdata( file_rrr )\n",
    "print expt.shape\n",
    "info,expt_fid = nmrglue.bruker.read( file_ser )\n",
    "print expt_fid.shape"
   ]
  },
  {
   "cell_type": "code",
   "execution_count": 53,
   "metadata": {
    "collapsed": false
   },
   "outputs": [
    {
     "name": "stdout",
     "output_type": "stream",
     "text": [
      "4\n"
     ]
    },
    {
     "data": {
      "image/png": "[encoded data removed]",
      "text/plain": [
       "<matplotlib.figure.Figure at 0x1fbce550>"
      ]
     },
     "metadata": {},
     "output_type": "display_data"
    }
   ],
   "source": [
    "pylab.plot(expt[-1].real);\n",
    "nus_pts=32\n",
    "print  ((abs(expt[0][-nus_pts:].real)).sum())"
   ]
  },
  {
   "cell_type": "code",
   "execution_count": 54,
   "metadata": {
    "collapsed": false
   },
   "outputs": [
    {
     "name": "stdout",
     "output_type": "stream",
     "text": [
      "64 1024\n",
      "64 1024\n"
     ]
    }
   ],
   "source": [
    "## transfer fid into matrix with dimensions of final FFT spectra\n",
    "\n",
    "(rr1,cc1) = expt.shape\n",
    "print rr,cc\n",
    "expt = numpy.zeros((zerofill,f2),dtype=numpy.complex128)\n",
    "\n",
    "(rr,cc) = expt_fid.shape\n",
    "print rr,cc\n",
    "for r in range(rr):\n",
    "    for c in range(f2):\n",
    "        expt[r][c] = expt_fid[r][c]\n",
    "        \n",
    "del expt_fid"
   ]
  },
  {
   "cell_type": "code",
   "execution_count": 55,
   "metadata": {
    "collapsed": false
   },
   "outputs": [],
   "source": [
    "## read in compressed sensing positions \n",
    "\n",
    "cs_array = scipy.fromfile( cs_file, sep = \" \" )\n",
    "cs_array = scipy.array( cs_array, dtype=numpy.int32 )\n",
    "\n",
    "numpts = zerofill\n",
    "mask = numpy.zeros(numpts, dtype=numpy.float32)\n",
    "\n",
    "for i in cs_array[:pp]:\n",
    "    mask[i] = 1.0\n"
   ]
  },
  {
   "cell_type": "code",
   "execution_count": 56,
   "metadata": {
    "collapsed": false
   },
   "outputs": [
    {
     "name": "stdout",
     "output_type": "stream",
     "text": [
      "2027774.31946\n"
     ]
    },
    {
     "data": {
      "image/png": "[encoded data removed]",
      "text/plain": [
       "<matplotlib.figure.Figure at 0x1df86780>"
      ]
     },
     "metadata": {},
     "output_type": "display_data"
    }
   ],
   "source": [
    "# Fourier Transform in F2 dimension\n",
    "\n",
    "spec = fftpack.fft(expt, axis=1)\n",
    "spec = fftpack.fftshift(spec, axes=1)\n",
    "\n",
    "\n",
    "# Phase correct data and remove Bruker digitization artefacts\n",
    "\n",
    "spec = nmrglue.process.proc_base.ps(spec, p0=-pinfo['procs']['PHC0']+0.0, p1=info['acqus']['GRPDLY']*360.0-pinfo['procs']['PHC1'], inv=False)\n",
    "\n",
    "\n",
    "#Apply a simple base line correction to spectra in F2 dimension\n",
    "\n",
    "(f1a,f2a) = expt.shape\n",
    "pylab.plot(spec[0].real, 'r-');\n",
    "\n",
    "for i in range(f1a):\n",
    "    spec[i] = spec[i] - (spec[i][:100]).mean()\n",
    "    \n",
    "for i in range(f1a):\n",
    "    spec[i] = spec[i] - (spec[i][:100]).mean()\n",
    "    \n",
    "\n",
    "pylab.plot(spec[0].real, 'b');\n",
    "pylab.ylim(-0.05*spec[0].max(), 1.1*spec[0].max());\n",
    "print  ((abs(spec[0][-nus_pts:].real)).sum())"
   ]
  },
  {
   "cell_type": "code",
   "execution_count": 57,
   "metadata": {
    "collapsed": false
   },
   "outputs": [],
   "source": [
    "#  Split real and imaginary\n",
    "\n",
    "iii_cs = spec[1::2].real\n",
    "rrr_cs = spec[::2].real"
   ]
  },
  {
   "cell_type": "code",
   "execution_count": 58,
   "metadata": {
    "collapsed": false
   },
   "outputs": [],
   "source": [
    "# Create real and imag data arrays and put fids in correct position and order\n",
    "\n",
    "rrr =scipy.zeros((zerofill,f2), dtype=numpy.int32)\n",
    "iii =scipy.zeros((zerofill,f2), dtype=numpy.int32)\n",
    "\n",
    "\n",
    "for i,v in enumerate(cs_array):\n",
    "    rrr[v] = rrr[v]+rrr_cs[i]\n",
    "    iii[v] = iii[v]+iii_cs[i]"
   ]
  },
  {
   "cell_type": "code",
   "execution_count": 59,
   "metadata": {
    "collapsed": false
   },
   "outputs": [
    {
     "name": "stdout",
     "output_type": "stream",
     "text": [
      "271\n"
     ]
    }
   ],
   "source": [
    "# find the maximum index value in the first spectrum. Value used in he thresh-holding algorihm\n",
    "\n",
    "mp =rrr[0].argmax()\n",
    "rrr = rrr.transpose()\n",
    "iii = iii.transpose()\n",
    "\n",
    "print mp\n",
    "\n",
    "mmm_t = (rrr + 1j*iii)"
   ]
  },
  {
   "cell_type": "markdown",
   "metadata": {},
   "source": [
    "### Perform Iterative Soft Thesholding Procedure in T$_1$ dimension"
   ]
  },
  {
   "cell_type": "code",
   "execution_count": 60,
   "metadata": {
    "collapsed": false
   },
   "outputs": [
    {
     "data": {
      "image/png": "[encoded data removed]",
      "text/plain": [
       "<matplotlib.figure.Figure at 0x1daa2b70>"
      ]
     },
     "metadata": {},
     "output_type": "display_data"
    }
   ],
   "source": [
    "pylab.plot( mask*mmm_t[mp].real, 'o' );\n",
    "pylab.plot( mmm_t[mp].real, 'r-' );"
   ]
  },
  {
   "cell_type": "code",
   "execution_count": 61,
   "metadata": {
    "collapsed": false
   },
   "outputs": [],
   "source": [
    "\n",
    "fid =  mmm_t[mp].copy()\n",
    "fid0 =  mmm_t[-1].copy()\n",
    "output = compressed_sensing_1D_VI( fid, mask, num_iter=500, factor=0.95, tol =0.1, maxPeaks=100)"
   ]
  },
  {
   "cell_type": "code",
   "execution_count": 62,
   "metadata": {
    "collapsed": false
   },
   "outputs": [
    {
     "data": {
      "image/png": "[encoded data removed]",
      "text/plain": [
       "<matplotlib.figure.Figure at 0x1d92f7b8>"
      ]
     },
     "metadata": {},
     "output_type": "display_data"
    }
   ],
   "source": [
    "\n",
    "pylab.plot(fftshift(output[0])+40);\n"
   ]
  },
  {
   "cell_type": "code",
   "execution_count": 63,
   "metadata": {
    "collapsed": false
   },
   "outputs": [
    {
     "data": {
      "image/png": "[encoded data removed]",
      "text/plain": [
       "<matplotlib.figure.Figure at 0x1d0879e8>"
      ]
     },
     "metadata": {},
     "output_type": "display_data"
    }
   ],
   "source": [
    "npeaks = scipy.array(output[1][1])\n",
    "pylab.plot(npeaks);"
   ]
  },
  {
   "cell_type": "code",
   "execution_count": 64,
   "metadata": {
    "collapsed": false
   },
   "outputs": [
    {
     "name": "stdout",
     "output_type": "stream",
     "text": [
      "(array([ 83, 108, 124, 188, 209, 235, 238, 239, 241, 317, 330, 333, 346,\n",
      "       353, 358, 369, 373, 400, 446, 447, 450], dtype=int64),)\n",
      "<type 'numpy.ndarray'>\n",
      "[25 16 64 21 26  3  1  2 76 13  3 13  7  5 11  4 27 46  1  3]\n",
      "6 235\n"
     ]
    },
    {
     "data": {
      "image/png": "[encoded data removed]",
      "text/plain": [
       "<matplotlib.figure.Figure at 0x1de9bd68>"
      ]
     },
     "metadata": {},
     "output_type": "display_data"
    }
   ],
   "source": [
    "#print help(scipy.argsort)\n",
    "sss=fftshift(output[0]).real\n",
    "ddd = abs(npeaks[:]-numpy.roll(npeaks,-1))\n",
    "#ddd = abs(sss[:]-numpy.roll(sss,-1))\n",
    "\n",
    "ddd1 = ddd[:]-numpy.roll(ddd,-1)\n",
    "pylab.plot((ddd[:-2]));\n",
    "#pylab.plot((ddd1[:-2]));\n",
    "print numpy.where(ddd[:-2])\n",
    "ppp = (numpy.where(ddd[:-2]>0))[0]\n",
    "print type(ppp)\n",
    "print ppp[1:]-ppp[:-1]\n",
    "ppp1 = ppp[1:]-ppp[:-1]\n",
    "\n",
    "\n",
    "i=0\n",
    "while ppp1[i] > 10:\n",
    "    i += 1\n",
    "    \n",
    "print i+1, ppp[i]\n",
    "\n",
    "\n",
    "output = compressed_sensing_1D_VI( fid, mask, num_iter=ppp[i], factor=0.95, tol =0.1, maxPeaks=i+1)"
   ]
  },
  {
   "cell_type": "code",
   "execution_count": 65,
   "metadata": {
    "collapsed": false
   },
   "outputs": [
    {
     "data": {
      "image/png": "[encoded data removed]",
      "text/plain": [
       "<matplotlib.figure.Figure at 0x1d1cfe10>"
      ]
     },
     "metadata": {},
     "output_type": "display_data"
    }
   ],
   "source": [
    "pylab.plot(fftshift(output[0])+40);\n"
   ]
  },
  {
   "cell_type": "code",
   "execution_count": 66,
   "metadata": {
    "collapsed": false
   },
   "outputs": [
    {
     "name": "stdout",
     "output_type": "stream",
     "text": [
      "0 1 2 3 4 5 6 7 8 9 10 11 12 13 14 15 16 17 18 19 20 21 22 23 24 25 26 27 28 29 30 31 32 33 34 35 36 37 38 39 40 41 42 43 44 45 46 47 48 49 50 51 52 53 54 55 56 57 58 59 60 61 62 63 64 65 66 67 68 69 70 71 72 73 74 75 76 77 78 79 80 81 82 83 84 85 86 87 88 89 90 91 92 93 94 95 96 97 98 99 100 101 102 103 104 105 106 107 108 109 110 111 112 113 114 115 116 117 118 119 120 121 122 123 124 125 126 127 128 129 130 131 132 133 134 135 136 137 138 139 140 141 142 143 144 145 146 147 148 149 150 151 152 153 154 155 156 157 158 159 160 161 162 163 164 165 166 167 168 169 170 171 172 173 174 175 176 177 178 179 180 181 182 183 184 185 186 187 188 189 190 191 192 193 194 195 196 197 198 199 200 201 202 203 204 205 206 207 208 209 210 211 212 213 214 215 216 217 218 219 220 221 222 223 224 225 226 227 228 229 230 231 232 233 234 235 236 237 238 239 240 241 242 243 244 245 246 247 248 249 250 251 252 253 254 255 256 257 258 259 260 261 262 263 264 265 266 267 268 269 270 271 272 273 274 275 276 277 278 279 280 281 282 283 284 285 286 287 288 289 290 291 292 293 294 295 296 297 298 299 300 301 302 303 304 305 306 307 308 309 310 311 312 313 314 315 316 317 318 319 320 321 322 323 324 325 326 327 328 329 330 331 332 333 334 335 336 337 338 339 340 341 342 343 344 345 346 347 348 349 350 351 352 353 354 355 356 357 358 359 360 361 362 363 364 365 366 367 368 369 370 371 372 373 374 375 376 377 378 379 380 381 382 383 384 385 386 387 388 389 390 391 392 393 394 395 396 397 398 399 400 401 402 403 404 405 406 407 408 409 410 411 412 413 414 415 416 417 418 419 420 421 422 423 424 425 426 427 428 429 430 431 432 433 434 435 436 437 438 439 440 441 442 443 444 445 446 447 448 449 450 451 452 453 454 455 456 457 458 459 460 461 462 463 464 465 466 467 468 469 470 471 472 473 474 475 476 477 478 479 480 481 482 483 484 485 486 487 488 489 490 491 492 493 494 495 496 497 498 499 500 501 502 503 504 505 506 507 508 509 510 511\n"
     ]
    }
   ],
   "source": [
    "# Perform thresholding in T1 for each point\n",
    "\n",
    "cs_spec = scipy.zeros((f2,zerofill), dtype=numpy.complex128)\n",
    "\n",
    "stats_array = []\n",
    "\n",
    "for j in range(f2):\n",
    "    print j,\n",
    "\n",
    "#    Y, stats = compressed_sensing_1VD( mmm_t[j], mask, num_iter=iterations, tol=1, maxPeaks=3  )    \n",
    "    output = compressed_sensing_1D_VI( mmm_t[j], mask, num_iter=500, factor=0.95, tol =0.1, maxPeaks=20)\n",
    "    npeaks = scipy.array(output[1][1])\n",
    "#    cs_spec[j] = (Y + 1j * fftpack.hilbert( Y ))\n",
    "    \n",
    "    sss=fftshift(output[0]).real\n",
    "    ddd = abs(npeaks[:]-numpy.roll(npeaks,-1))\n",
    "\n",
    "    ddd1 = ddd[:]-numpy.roll(ddd,-1)\n",
    "#pylab.plot((ddd[:-2]));\n",
    "#pylab.plot((ddd1[:-2]));\n",
    "#print numpy.where(ddd[:-2])\n",
    "    ppp = (numpy.where(ddd[:-2]>0))[0]\n",
    "#print type(ppp)\n",
    "#print ppp[1:]-ppp[:-1]\n",
    "    ppp1 = ppp[1:]-ppp[:-1]\n",
    "\n",
    "\n",
    "    i=3\n",
    "    while ppp1[i] > 10:\n",
    "        i += 1\n",
    "    \n",
    "#rint i+1, ppp[i]\n",
    "\n",
    "\n",
    "    Y, stats = compressed_sensing_1D_VI( mmm_t[j], mask, num_iter=ppp[i], factor=0.95, tol =0.1, maxPeaks=i+1)\n",
    "    cs_spec[j] = (Y + 1j * fftpack.hilbert( Y ))\n"
   ]
  },
  {
   "cell_type": "markdown",
   "metadata": {},
   "source": [
    "### Display Results"
   ]
  },
  {
   "cell_type": "code",
   "execution_count": 67,
   "metadata": {
    "collapsed": false
   },
   "outputs": [],
   "source": [
    "for m in range(f2):\n",
    "    cs_spec[m] = fftpack.fftshift(cs_spec[m])"
   ]
  },
  {
   "cell_type": "code",
   "execution_count": 68,
   "metadata": {
    "collapsed": false
   },
   "outputs": [
    {
     "data": {
      "image/png": "[encoded data removed]",
      "text/plain": [
       "<matplotlib.figure.Figure at 0x1deaf6a0>"
      ]
     },
     "metadata": {},
     "output_type": "display_data"
    }
   ],
   "source": [
    "# Display high resolution projection \n",
    "\n",
    "cs_spec_sum1 = (cs_spec.real).sum(axis=1) \n",
    "#print cs_spec_sum1.max(), (cs_spec_sum[:]).sum()\n",
    "ssum0 = (cs_spec.real).sum(axis=0)\n",
    "\n",
    "pylab.plot( (cs_spec.real).sum(axis=0) );\n"
   ]
  },
  {
   "cell_type": "code",
   "execution_count": 69,
   "metadata": {
    "collapsed": false
   },
   "outputs": [],
   "source": [
    "spec = fftpack.fft(mmm_t, axis=1)"
   ]
  },
  {
   "cell_type": "code",
   "execution_count": 70,
   "metadata": {
    "collapsed": false
   },
   "outputs": [],
   "source": [
    "cs_spec_real = (cs_spec.real/10000.0)"
   ]
  },
  {
   "cell_type": "code",
   "execution_count": 71,
   "metadata": {
    "collapsed": false
   },
   "outputs": [],
   "source": [
    "cs_spec_int32 = scipy.array(cs_spec_real, dtype=scipy.int32)"
   ]
  },
  {
   "cell_type": "code",
   "execution_count": 72,
   "metadata": {
    "collapsed": false
   },
   "outputs": [
    {
     "data": {
      "image/png": "[encoded data removed]",
      "text/plain": [
       "<matplotlib.figure.Figure at 0x1f740630>"
      ]
     },
     "metadata": {},
     "output_type": "display_data"
    }
   ],
   "source": [
    "pylab.plot(((cs_spec_int32).sum(axis=1)));"
   ]
  },
  {
   "cell_type": "code",
   "execution_count": 73,
   "metadata": {
    "collapsed": false
   },
   "outputs": [
    {
     "data": {
      "image/png": "[encoded data removed]",
      "text/plain": [
       "<matplotlib.figure.Figure at 0x1deaf908>"
      ]
     },
     "metadata": {},
     "output_type": "display_data"
    }
   ],
   "source": [
    "pylab.plot( fftpack.ifft(cs_spec[mp]).real );\n",
    "pylab.plot( 10*mmm_t[mp].real, 'r-' );"
   ]
  },
  {
   "cell_type": "code",
   "execution_count": 74,
   "metadata": {
    "collapsed": false
   },
   "outputs": [],
   "source": [
    "# Arrange 2-D spectrum  in correct order for display with Bruker Topsin\n",
    "\n",
    "cs_spec_int32 = cs_spec_int32.transpose()\n",
    "cs_spec_int32 = numpy.fliplr(cs_spec_int32)\n",
    "cs_spec_int32 = numpy.flipud(cs_spec_int32)"
   ]
  },
  {
   "cell_type": "code",
   "execution_count": 75,
   "metadata": {
    "collapsed": false
   },
   "outputs": [],
   "source": [
    "cs_spec_int32 = cs_spec_int32.flatten()"
   ]
  },
  {
   "cell_type": "code",
   "execution_count": 76,
   "metadata": {
    "collapsed": false
   },
   "outputs": [],
   "source": [
    "#Store 2-D real spectum in Bruker daa directory\n",
    "\n",
    "fp = open( file1, 'wb' )\n",
    "cs_spec_int32.tofile(fp)\n",
    "fp.close()"
   ]
  },
  {
   "cell_type": "code",
   "execution_count": 77,
   "metadata": {
    "collapsed": false
   },
   "outputs": [],
   "source": [
    "stats_array = numpy.array(stats_array)"
   ]
  },
  {
   "cell_type": "code",
   "execution_count": 78,
   "metadata": {
    "collapsed": false
   },
   "outputs": [],
   "source": [
    "stats_array = stats_array.transpose()"
   ]
  },
  {
   "cell_type": "code",
   "execution_count": 79,
   "metadata": {
    "collapsed": false
   },
   "outputs": [],
   "source": [
    "#final iteration value\n",
    "#pylab.plot( stats_array[0] ); "
   ]
  },
  {
   "cell_type": "code",
   "execution_count": 80,
   "metadata": {
    "collapsed": false
   },
   "outputs": [],
   "source": [
    "# final peaks found\n",
    "#pylab.plot( stats_array[1] ); "
   ]
  },
  {
   "cell_type": "code",
   "execution_count": 81,
   "metadata": {
    "collapsed": false
   },
   "outputs": [],
   "source": [
    "# final tolerance\n",
    "#pylab.plot( stats_array[2] ); "
   ]
  },
  {
   "cell_type": "code",
   "execution_count": 82,
   "metadata": {
    "collapsed": false
   },
   "outputs": [],
   "source": [
    "#file_rrr = r'Z:\\Documents\\work\\projects\\CompressedSensing\\Data\\eeh_20140228_diffMAT_4mmHXG\\224\\pdata\\1'\n",
    "#info,expt = nmrglue.bruker.read_pdata( file_rrr )\n",
    "\n",
    "expt = cs_spec_real\n",
    "\n",
    "expt = np.flipud(expt)\n",
    "expt = np.fliplr(expt)\n",
    "expt = expt.transpose()"
   ]
  },
  {
   "cell_type": "code",
   "execution_count": 83,
   "metadata": {
    "collapsed": false
   },
   "outputs": [
    {
     "name": "stdout",
     "output_type": "stream",
     "text": [
      "(512L, 512L)\n",
      "512 512\n",
      "227.093652801\n",
      "[]\n",
      "self.dimensions_index [  0 511   0 511]\n",
      "dimensions_index [  0 511   0 511]\n",
      "Z1.shape (511L, 511L)\n",
      "len(sum_f1) 511\n",
      "len(sum_f2) 511\n"
     ]
    },
    {
     "data": {
      "image/png": "[encoded data removed]",
      "text/plain": [
       "<matplotlib.figure.Figure at 0x1deb8668>"
      ]
     },
     "metadata": {},
     "output_type": "display_data"
    }
   ],
   "source": [
    "ppplot = TwoD_NMR_MAT_plot( expt, pinfo, info)"
   ]
  },
  {
   "cell_type": "code",
   "execution_count": 84,
   "metadata": {
    "collapsed": false
   },
   "outputs": [
    {
     "name": "stdout",
     "output_type": "stream",
     "text": [
      "(512L, 512L)\n",
      "512 512\n",
      "227.093652801\n",
      "[-1, 8, 7, -1]\n",
      "self.dimensions_index [208 228 210 228]\n",
      "dimensions_index [208 228 210 228]\n",
      "Z1.shape (20L, 18L)\n",
      "len(sum_f1) 18\n",
      "len(sum_f2) 20\n"
     ]
    },
    {
     "ename": "ValueError",
     "evalue": "Contour levels must be increasing",
     "output_type": "error",
     "traceback": [
      "\u001b[1;31m---------------------------------------------------------------------------\u001b[0m",
      "\u001b[1;31mValueError\u001b[0m                                Traceback (most recent call last)",
      "\u001b[1;32m<ipython-input-84-f8b59bc001c4>\u001b[0m in \u001b[0;36m<module>\u001b[1;34m()\u001b[0m\n\u001b[1;32m----> 1\u001b[1;33m \u001b[0mppplot\u001b[0m \u001b[1;33m=\u001b[0m \u001b[0mTwoD_NMR_MAT_plot\u001b[0m\u001b[1;33m(\u001b[0m \u001b[0mexpt\u001b[0m\u001b[1;33m,\u001b[0m \u001b[0mpinfo\u001b[0m\u001b[1;33m,\u001b[0m \u001b[0minfo\u001b[0m\u001b[1;33m,\u001b[0m \u001b[1;33m[\u001b[0m\u001b[1;33m-\u001b[0m\u001b[1;36m1\u001b[0m\u001b[1;33m,\u001b[0m\u001b[1;36m8\u001b[0m\u001b[1;33m,\u001b[0m\u001b[1;36m7\u001b[0m\u001b[1;33m,\u001b[0m\u001b[1;33m-\u001b[0m\u001b[1;36m1\u001b[0m\u001b[1;33m]\u001b[0m\u001b[1;33m)\u001b[0m\u001b[1;33m\u001b[0m\u001b[0m\n\u001b[0m",
      "\u001b[1;32m<ipython-input-50-8557a77d7a16>\u001b[0m in \u001b[0;36m__init__\u001b[1;34m(self, exp, pinfo, info, dimensions_ppm)\u001b[0m\n\u001b[0;32m     25\u001b[0m         \u001b[0mself\u001b[0m\u001b[1;33m.\u001b[0m\u001b[0mcreate_plot_layout\u001b[0m\u001b[1;33m(\u001b[0m\u001b[0mself\u001b[0m\u001b[1;33m.\u001b[0m\u001b[0mdimensions_index\u001b[0m\u001b[1;33m)\u001b[0m\u001b[1;33m\u001b[0m\u001b[0m\n\u001b[0;32m     26\u001b[0m \u001b[1;33m\u001b[0m\u001b[0m\n\u001b[1;32m---> 27\u001b[1;33m         \u001b[0mself\u001b[0m\u001b[1;33m.\u001b[0m\u001b[0mplot_plots\u001b[0m\u001b[1;33m(\u001b[0m\u001b[1;33m)\u001b[0m\u001b[1;33m\u001b[0m\u001b[0m\n\u001b[0m\u001b[0;32m     28\u001b[0m \u001b[1;33m\u001b[0m\u001b[0m\n\u001b[0;32m     29\u001b[0m \u001b[1;33m\u001b[0m\u001b[0m\n",
      "\u001b[1;32m<ipython-input-50-8557a77d7a16>\u001b[0m in \u001b[0;36mplot_plots\u001b[1;34m(self)\u001b[0m\n\u001b[0;32m    131\u001b[0m         \u001b[1;32mprint\u001b[0m \u001b[1;34m\"len(sum_f2)\"\u001b[0m\u001b[1;33m,\u001b[0m\u001b[0mlen\u001b[0m\u001b[1;33m(\u001b[0m\u001b[0msum_f2\u001b[0m\u001b[1;33m)\u001b[0m\u001b[1;33m\u001b[0m\u001b[0m\n\u001b[0;32m    132\u001b[0m \u001b[1;33m\u001b[0m\u001b[0m\n\u001b[1;32m--> 133\u001b[1;33m         \u001b[0mcset\u001b[0m \u001b[1;33m=\u001b[0m \u001b[0mself\u001b[0m\u001b[1;33m.\u001b[0m\u001b[0maxScatter\u001b[0m\u001b[1;33m.\u001b[0m\u001b[0mcontour\u001b[0m\u001b[1;33m(\u001b[0m\u001b[0mself\u001b[0m\u001b[1;33m.\u001b[0m\u001b[0mX1\u001b[0m\u001b[1;33m,\u001b[0m \u001b[0mself\u001b[0m\u001b[1;33m.\u001b[0m\u001b[0mY1\u001b[0m\u001b[1;33m,\u001b[0m \u001b[0mself\u001b[0m\u001b[1;33m.\u001b[0m\u001b[0mZ1\u001b[0m\u001b[1;33m,\u001b[0m  \u001b[0mcl\u001b[0m\u001b[1;33m,\u001b[0m  \u001b[0mcolors\u001b[0m\u001b[1;33m=\u001b[0m\u001b[1;34m'red'\u001b[0m\u001b[1;33m)\u001b[0m\u001b[1;33m\u001b[0m\u001b[0m\n\u001b[0m\u001b[0;32m    134\u001b[0m         \u001b[1;31m#\u001b[0m\u001b[1;33m\u001b[0m\u001b[1;33m\u001b[0m\u001b[0m\n\u001b[0;32m    135\u001b[0m         \u001b[0mself\u001b[0m\u001b[1;33m.\u001b[0m\u001b[0maxHistx\u001b[0m\u001b[1;33m.\u001b[0m\u001b[0mplot\u001b[0m\u001b[1;33m(\u001b[0m\u001b[0msum_f1\u001b[0m\u001b[1;33m,\u001b[0m \u001b[1;34m'r-'\u001b[0m\u001b[1;33m)\u001b[0m\u001b[1;33m\u001b[0m\u001b[0m\n",
      "\u001b[1;32mZ:\\Documents\\anaconda2\\lib\\site-packages\\matplotlib\\__init__.pyc\u001b[0m in \u001b[0;36minner\u001b[1;34m(ax, *args, **kwargs)\u001b[0m\n\u001b[0;32m   1809\u001b[0m                     warnings.warn(msg % (label_namer, func.__name__),\n\u001b[0;32m   1810\u001b[0m                                   RuntimeWarning, stacklevel=2)\n\u001b[1;32m-> 1811\u001b[1;33m             \u001b[1;32mreturn\u001b[0m \u001b[0mfunc\u001b[0m\u001b[1;33m(\u001b[0m\u001b[0max\u001b[0m\u001b[1;33m,\u001b[0m \u001b[1;33m*\u001b[0m\u001b[0margs\u001b[0m\u001b[1;33m,\u001b[0m \u001b[1;33m**\u001b[0m\u001b[0mkwargs\u001b[0m\u001b[1;33m)\u001b[0m\u001b[1;33m\u001b[0m\u001b[0m\n\u001b[0m\u001b[0;32m   1812\u001b[0m         \u001b[0mpre_doc\u001b[0m \u001b[1;33m=\u001b[0m \u001b[0minner\u001b[0m\u001b[1;33m.\u001b[0m\u001b[0m__doc__\u001b[0m\u001b[1;33m\u001b[0m\u001b[0m\n\u001b[0;32m   1813\u001b[0m         \u001b[1;32mif\u001b[0m \u001b[0mpre_doc\u001b[0m \u001b[1;32mis\u001b[0m \u001b[0mNone\u001b[0m\u001b[1;33m:\u001b[0m\u001b[1;33m\u001b[0m\u001b[0m\n",
      "\u001b[1;32mZ:\\Documents\\anaconda2\\lib\\site-packages\\matplotlib\\axes\\_axes.pyc\u001b[0m in \u001b[0;36mcontour\u001b[1;34m(self, *args, **kwargs)\u001b[0m\n\u001b[0;32m   5642\u001b[0m             \u001b[0mself\u001b[0m\u001b[1;33m.\u001b[0m\u001b[0mcla\u001b[0m\u001b[1;33m(\u001b[0m\u001b[1;33m)\u001b[0m\u001b[1;33m\u001b[0m\u001b[0m\n\u001b[0;32m   5643\u001b[0m         \u001b[0mkwargs\u001b[0m\u001b[1;33m[\u001b[0m\u001b[1;34m'filled'\u001b[0m\u001b[1;33m]\u001b[0m \u001b[1;33m=\u001b[0m \u001b[0mFalse\u001b[0m\u001b[1;33m\u001b[0m\u001b[0m\n\u001b[1;32m-> 5644\u001b[1;33m         \u001b[1;32mreturn\u001b[0m \u001b[0mmcontour\u001b[0m\u001b[1;33m.\u001b[0m\u001b[0mQuadContourSet\u001b[0m\u001b[1;33m(\u001b[0m\u001b[0mself\u001b[0m\u001b[1;33m,\u001b[0m \u001b[1;33m*\u001b[0m\u001b[0margs\u001b[0m\u001b[1;33m,\u001b[0m \u001b[1;33m**\u001b[0m\u001b[0mkwargs\u001b[0m\u001b[1;33m)\u001b[0m\u001b[1;33m\u001b[0m\u001b[0m\n\u001b[0m\u001b[0;32m   5645\u001b[0m     \u001b[0mcontour\u001b[0m\u001b[1;33m.\u001b[0m\u001b[0m__doc__\u001b[0m \u001b[1;33m=\u001b[0m \u001b[0mmcontour\u001b[0m\u001b[1;33m.\u001b[0m\u001b[0mQuadContourSet\u001b[0m\u001b[1;33m.\u001b[0m\u001b[0mcontour_doc\u001b[0m\u001b[1;33m\u001b[0m\u001b[0m\n\u001b[0;32m   5646\u001b[0m \u001b[1;33m\u001b[0m\u001b[0m\n",
      "\u001b[1;32mZ:\\Documents\\anaconda2\\lib\\site-packages\\matplotlib\\contour.pyc\u001b[0m in \u001b[0;36m__init__\u001b[1;34m(self, ax, *args, **kwargs)\u001b[0m\n\u001b[0;32m   1422\u001b[0m         \u001b[0mare\u001b[0m \u001b[0mdescribed\u001b[0m \u001b[1;32min\u001b[0m \u001b[0mQuadContourSet\u001b[0m\u001b[1;33m.\u001b[0m\u001b[0mcontour_doc\u001b[0m\u001b[1;33m.\u001b[0m\u001b[1;33m\u001b[0m\u001b[0m\n\u001b[0;32m   1423\u001b[0m         \"\"\"\n\u001b[1;32m-> 1424\u001b[1;33m         \u001b[0mContourSet\u001b[0m\u001b[1;33m.\u001b[0m\u001b[0m__init__\u001b[0m\u001b[1;33m(\u001b[0m\u001b[0mself\u001b[0m\u001b[1;33m,\u001b[0m \u001b[0max\u001b[0m\u001b[1;33m,\u001b[0m \u001b[1;33m*\u001b[0m\u001b[0margs\u001b[0m\u001b[1;33m,\u001b[0m \u001b[1;33m**\u001b[0m\u001b[0mkwargs\u001b[0m\u001b[1;33m)\u001b[0m\u001b[1;33m\u001b[0m\u001b[0m\n\u001b[0m\u001b[0;32m   1425\u001b[0m \u001b[1;33m\u001b[0m\u001b[0m\n\u001b[0;32m   1426\u001b[0m     \u001b[1;32mdef\u001b[0m \u001b[0m_process_args\u001b[0m\u001b[1;33m(\u001b[0m\u001b[0mself\u001b[0m\u001b[1;33m,\u001b[0m \u001b[1;33m*\u001b[0m\u001b[0margs\u001b[0m\u001b[1;33m,\u001b[0m \u001b[1;33m**\u001b[0m\u001b[0mkwargs\u001b[0m\u001b[1;33m)\u001b[0m\u001b[1;33m:\u001b[0m\u001b[1;33m\u001b[0m\u001b[0m\n",
      "\u001b[1;32mZ:\\Documents\\anaconda2\\lib\\site-packages\\matplotlib\\contour.pyc\u001b[0m in \u001b[0;36m__init__\u001b[1;34m(self, ax, *args, **kwargs)\u001b[0m\n\u001b[0;32m    861\u001b[0m         \u001b[0mself\u001b[0m\u001b[1;33m.\u001b[0m\u001b[0m_transform\u001b[0m \u001b[1;33m=\u001b[0m \u001b[0mkwargs\u001b[0m\u001b[1;33m.\u001b[0m\u001b[0mget\u001b[0m\u001b[1;33m(\u001b[0m\u001b[1;34m'transform'\u001b[0m\u001b[1;33m,\u001b[0m \u001b[0mNone\u001b[0m\u001b[1;33m)\u001b[0m\u001b[1;33m\u001b[0m\u001b[0m\n\u001b[0;32m    862\u001b[0m \u001b[1;33m\u001b[0m\u001b[0m\n\u001b[1;32m--> 863\u001b[1;33m         \u001b[0mself\u001b[0m\u001b[1;33m.\u001b[0m\u001b[0m_process_args\u001b[0m\u001b[1;33m(\u001b[0m\u001b[1;33m*\u001b[0m\u001b[0margs\u001b[0m\u001b[1;33m,\u001b[0m \u001b[1;33m**\u001b[0m\u001b[0mkwargs\u001b[0m\u001b[1;33m)\u001b[0m\u001b[1;33m\u001b[0m\u001b[0m\n\u001b[0m\u001b[0;32m    864\u001b[0m         \u001b[0mself\u001b[0m\u001b[1;33m.\u001b[0m\u001b[0m_process_levels\u001b[0m\u001b[1;33m(\u001b[0m\u001b[1;33m)\u001b[0m\u001b[1;33m\u001b[0m\u001b[0m\n\u001b[0;32m    865\u001b[0m \u001b[1;33m\u001b[0m\u001b[0m\n",
      "\u001b[1;32mZ:\\Documents\\anaconda2\\lib\\site-packages\\matplotlib\\contour.pyc\u001b[0m in \u001b[0;36m_process_args\u001b[1;34m(self, *args, **kwargs)\u001b[0m\n\u001b[0;32m   1443\u001b[0m                 \u001b[0mself\u001b[0m\u001b[1;33m.\u001b[0m\u001b[0m_corner_mask\u001b[0m \u001b[1;33m=\u001b[0m \u001b[0mmpl\u001b[0m\u001b[1;33m.\u001b[0m\u001b[0mrcParams\u001b[0m\u001b[1;33m[\u001b[0m\u001b[1;34m'contour.corner_mask'\u001b[0m\u001b[1;33m]\u001b[0m\u001b[1;33m\u001b[0m\u001b[0m\n\u001b[0;32m   1444\u001b[0m \u001b[1;33m\u001b[0m\u001b[0m\n\u001b[1;32m-> 1445\u001b[1;33m             \u001b[0mx\u001b[0m\u001b[1;33m,\u001b[0m \u001b[0my\u001b[0m\u001b[1;33m,\u001b[0m \u001b[0mz\u001b[0m \u001b[1;33m=\u001b[0m \u001b[0mself\u001b[0m\u001b[1;33m.\u001b[0m\u001b[0m_contour_args\u001b[0m\u001b[1;33m(\u001b[0m\u001b[0margs\u001b[0m\u001b[1;33m,\u001b[0m \u001b[0mkwargs\u001b[0m\u001b[1;33m)\u001b[0m\u001b[1;33m\u001b[0m\u001b[0m\n\u001b[0m\u001b[0;32m   1446\u001b[0m \u001b[1;33m\u001b[0m\u001b[0m\n\u001b[0;32m   1447\u001b[0m             \u001b[0m_mask\u001b[0m \u001b[1;33m=\u001b[0m \u001b[0mma\u001b[0m\u001b[1;33m.\u001b[0m\u001b[0mgetmask\u001b[0m\u001b[1;33m(\u001b[0m\u001b[0mz\u001b[0m\u001b[1;33m)\u001b[0m\u001b[1;33m\u001b[0m\u001b[0m\n",
      "\u001b[1;32mZ:\\Documents\\anaconda2\\lib\\site-packages\\matplotlib\\contour.pyc\u001b[0m in \u001b[0;36m_contour_args\u001b[1;34m(self, args, kwargs)\u001b[0m\n\u001b[0;32m   1538\u001b[0m             \u001b[0mwarnings\u001b[0m\u001b[1;33m.\u001b[0m\u001b[0mwarn\u001b[0m\u001b[1;33m(\u001b[0m\u001b[1;34m'Log scale: values of z <= 0 have been masked'\u001b[0m\u001b[1;33m)\u001b[0m\u001b[1;33m\u001b[0m\u001b[0m\n\u001b[0;32m   1539\u001b[0m             \u001b[0mself\u001b[0m\u001b[1;33m.\u001b[0m\u001b[0mzmin\u001b[0m \u001b[1;33m=\u001b[0m \u001b[0mz\u001b[0m\u001b[1;33m.\u001b[0m\u001b[0mmin\u001b[0m\u001b[1;33m(\u001b[0m\u001b[1;33m)\u001b[0m\u001b[1;33m\u001b[0m\u001b[0m\n\u001b[1;32m-> 1540\u001b[1;33m         \u001b[0mself\u001b[0m\u001b[1;33m.\u001b[0m\u001b[0m_contour_level_args\u001b[0m\u001b[1;33m(\u001b[0m\u001b[0mz\u001b[0m\u001b[1;33m,\u001b[0m \u001b[0margs\u001b[0m\u001b[1;33m)\u001b[0m\u001b[1;33m\u001b[0m\u001b[0m\n\u001b[0m\u001b[0;32m   1541\u001b[0m         \u001b[1;32mreturn\u001b[0m \u001b[1;33m(\u001b[0m\u001b[0mx\u001b[0m\u001b[1;33m,\u001b[0m \u001b[0my\u001b[0m\u001b[1;33m,\u001b[0m \u001b[0mz\u001b[0m\u001b[1;33m)\u001b[0m\u001b[1;33m\u001b[0m\u001b[0m\n\u001b[0;32m   1542\u001b[0m \u001b[1;33m\u001b[0m\u001b[0m\n",
      "\u001b[1;32mZ:\\Documents\\anaconda2\\lib\\site-packages\\matplotlib\\contour.pyc\u001b[0m in \u001b[0;36m_contour_level_args\u001b[1;34m(self, z, args)\u001b[0m\n\u001b[0;32m   1187\u001b[0m                 \u001b[0mwarnings\u001b[0m\u001b[1;33m.\u001b[0m\u001b[0mwarn\u001b[0m\u001b[1;33m(\u001b[0m\u001b[1;34m\"Contour levels are not increasing\"\u001b[0m\u001b[1;33m)\u001b[0m\u001b[1;33m\u001b[0m\u001b[0m\n\u001b[0;32m   1188\u001b[0m             \u001b[1;32melse\u001b[0m\u001b[1;33m:\u001b[0m\u001b[1;33m\u001b[0m\u001b[0m\n\u001b[1;32m-> 1189\u001b[1;33m                 \u001b[1;32mraise\u001b[0m \u001b[0mValueError\u001b[0m\u001b[1;33m(\u001b[0m\u001b[1;34m\"Contour levels must be increasing\"\u001b[0m\u001b[1;33m)\u001b[0m\u001b[1;33m\u001b[0m\u001b[0m\n\u001b[0m\u001b[0;32m   1190\u001b[0m \u001b[1;33m\u001b[0m\u001b[0m\n\u001b[0;32m   1191\u001b[0m     \u001b[1;32mdef\u001b[0m \u001b[0m_process_levels\u001b[0m\u001b[1;33m(\u001b[0m\u001b[0mself\u001b[0m\u001b[1;33m)\u001b[0m\u001b[1;33m:\u001b[0m\u001b[1;33m\u001b[0m\u001b[0m\n",
      "\u001b[1;31mValueError\u001b[0m: Contour levels must be increasing"
     ]
    },
    {
     "data": {
      "image/png": "[encoded data removed]",
      "text/plain": [
       "<matplotlib.figure.Figure at 0x1d1abd68>"
      ]
     },
     "metadata": {},
     "output_type": "display_data"
    }
   ],
   "source": [
    "ppplot = TwoD_NMR_MAT_plot( expt, pinfo, info, [-1,8,7,-1])"
   ]
  },
  {
   "cell_type": "code",
   "execution_count": null,
   "metadata": {
    "collapsed": false
   },
   "outputs": [],
   "source": [
    "print scipy.__version__\n",
    "print nmrglue.__version__\n",
    "print matplotlib.__version__\n",
    "print numpy.__version__"
   ]
  },
  {
   "cell_type": "code",
   "execution_count": null,
   "metadata": {
    "collapsed": false
   },
   "outputs": [],
   "source": [
    "ppplot = TwoD_NMR_MAT_plot( expt, pinfo, info, [5,7,7,-1])"
   ]
  },
  {
   "cell_type": "code",
   "execution_count": null,
   "metadata": {
    "collapsed": true
   },
   "outputs": [],
   "source": []
  }
 ],
 "metadata": {
  "kernelspec": {
   "display_name": "Python 2",
   "language": "python",
   "name": "python2"
  },
  "language_info": {
   "codemirror_mode": {
    "name": "ipython",
    "version": 2
   },
   "file_extension": ".py",
   "mimetype": "text/x-python",
   "name": "python",
   "nbconvert_exporter": "python",
   "pygments_lexer": "ipython2",
   "version": "2.7.11"
  }
 },
 "nbformat": 4,
 "nbformat_minor": 0
}
