{
 "cells": [
  {
   "cell_type": "markdown",
   "metadata": {},
   "source": [
    "## Compressed Sensing (Non-Uniform-Sampling) of MQMAS Experiment using Iterative Soft Thresholding"
   ]
  },
  {
   "cell_type": "markdown",
   "metadata": {},
   "source": [
    "### Sodium poly"
   ]
  },
  {
   "cell_type": "code",
   "execution_count": 94,
   "metadata": {
    "collapsed": false
   },
   "outputs": [],
   "source": [
    "\n",
    "import pylab\n",
    "import numpy\n",
    "import scipy\n",
    "from   scipy import fftpack\n",
    "from   scipy.fftpack import fft, ifft, hilbert, fftshift, rfft \n",
    "import os\n",
    "import nmrglue\n",
    "\n",
    "import numpy as np\n",
    "import matplotlib\n",
    "import matplotlib.pyplot as plt\n",
    "from matplotlib.ticker import NullFormatter\n",
    "\n",
    "%matplotlib inline"
   ]
  },
  {
   "cell_type": "markdown",
   "metadata": {},
   "source": [
    "### IST Algorithm"
   ]
  },
  {
   "cell_type": "code",
   "execution_count": 95,
   "metadata": {
    "collapsed": false
   },
   "outputs": [],
   "source": [
    "def numPeaks( sss ):\n",
    "    www = numpy.where( sss > 0 )\n",
    "    numPeaks = 0\n",
    "    ppp = www[0]\n",
    "    for i in range(len(ppp[:-1])):\n",
    "        v = www[0][i]\n",
    "        v1 = www[0][i+1]\n",
    "        if v1-v > 1:\n",
    "            numPeaks +=1\n",
    "\n",
    "    return( numPeaks ) \n",
    "\n",
    "\n",
    "\n",
    "def compressed_sensing_1VD( fid, mask, num_iter=500, factor=0.95, tol = 0.01, maxPeaks=2 ):\n",
    "    \n",
    "    sss = numpy.zeros( len(fid))\n",
    "    sss0 = numpy.zeros( len(fid))\n",
    "    \n",
    "    final_iter_value  = 0\n",
    "    final_tol_value   = 0\n",
    "    final_numpeaks_value = 0\n",
    "\n",
    "    fid1 = fid.copy()\n",
    "    tol_diff = (numpy.sqrt(((abs(fid1)).sum())/32.))\n",
    "    \n",
    "    k=0\n",
    "    rrr = fftpack.fft(fid1)\n",
    "    rss0 = []\n",
    "    rss0.append(abs(rrr).sum())\n",
    "    \n",
    "    tol0 = abs(rrr).sum()\n",
    "    tol_diff = ( tol0 - abs(rrr).sum() )*100.0 / tol0\n",
    "    while (tol_diff < tol) and (k < num_iter) and numPeaks( sss ) <maxPeaks:\n",
    "        \n",
    "        sss0 = 1.0*sss\n",
    "        \n",
    "        rrr = fftpack.fft(fid1)\n",
    "        m1 = max(rrr.real)\n",
    "        \n",
    "        sss_max_old = sss.max()\n",
    "               \n",
    "        for i,r in enumerate(rrr):\n",
    "            if r.real > m1* factor:\n",
    "                sss[i] = sss[i]+rrr[i].real-m1*factor\n",
    "                rrr[i] = complex(m1*factor)\n",
    "        sss_max = sss.max()\n",
    "        \n",
    "        rrr_iii = fftpack.hilbert( rrr.real )\n",
    "        \n",
    "        rrr = rrr.real + 1j * rrr_iii\n",
    "        \n",
    "        fid1 = fftpack.ifft(rrr)\n",
    "        \n",
    "        fid1 *= mask\n",
    "        tol_diff = ( tol0 - abs(rrr).sum() )*100.0 / tol0\n",
    "        k +=1\n",
    "\n",
    "    final_iter_value = k\n",
    "    final_numpeaks_value = numPeaks(sss)\n",
    "    final_tol_value = tol_diff\n",
    "    \n",
    "    return( sss0, [final_iter_value, final_numpeaks_value, final_tol_value ] )"
   ]
  },
  {
   "cell_type": "code",
   "execution_count": 96,
   "metadata": {
    "collapsed": false
   },
   "outputs": [],
   "source": [
    "def numPeaks( sss ):\n",
    "    www = numpy.where( sss > 0 )\n",
    "    numPeaks = 0\n",
    "    ppp = www[0]\n",
    "    for i in range(len(ppp[:-1])):\n",
    "        v = ppp[i]\n",
    "        v1 = ppp[i+1]\n",
    "        if v1-v > 1:\n",
    "            numPeaks +=1\n",
    "\n",
    "    return( numPeaks ) \n",
    "\n",
    "\n",
    "\n",
    "def compressed_sensing_1D_VI( fid, mask, num_iter=500, factor=0.95, tol = 0.01, maxPeaks=2 ):\n",
    "    \n",
    "#    print tol\n",
    "    sss = numpy.zeros( len(fid))\n",
    "    \n",
    "    final_iter_value  = 0\n",
    "    final_tol_value   = 0\n",
    "    final_numpeaks_value = 0\n",
    "    \n",
    "    tolerance = []\n",
    "    numberOfpeaks = []\n",
    "    \n",
    "    fid1 = fid.copy()\n",
    "    tol_diff = 1000.0\n",
    "    \n",
    "    k=0\n",
    "    rrr = fft(fid1)\n",
    "    \n",
    "#    print \"tol_diff\",tol_diff\n",
    "#    print \"Num Peaks\", numPeaks( sss )\n",
    "    \n",
    "    \n",
    "    while (tol_diff > tol) and (k < num_iter) and numPeaks( sss ) < maxPeaks:\n",
    "        \n",
    "        rrr = fft(fid1)\n",
    "        m1 = max(rrr.real)*factor\n",
    "               \n",
    "        for i,r in enumerate(rrr):\n",
    "            if r.real > m1:\n",
    "                sss[i] = sss[i]+rrr[i].real-m1\n",
    "                rrr[i] = complex(m1)\n",
    "        rrr = rrr.real + 1j * hilbert( rrr.real )\n",
    "        \n",
    "        fid1 = ifft(rrr)*mask\n",
    "\n",
    "        fid00 = ifft(sss+1j*hilbert(sss))*mask\n",
    "        \n",
    "        tol_diff = (abs(fid00.real-fid.real)).sum()\n",
    "        tolerance.append(tol_diff)\n",
    "        numberOfpeaks.append( numPeaks( sss ))\n",
    "        k +=1\n",
    "#        print tol_diff,k,\n",
    "        \n",
    "\n",
    "        \n",
    "    final_iter_value = k\n",
    "    final_numpeaks_value = numPeaks(sss)\n",
    "    final_tol_value = tol_diff\n",
    "    \n",
    "    return( sss, [final_iter_value, numberOfpeaks, tolerance ] )\n",
    "\n",
    "\n"
   ]
  },
  {
   "cell_type": "markdown",
   "metadata": {},
   "source": [
    "### Matplotlib Class to plot 2D NMR spectrum"
   ]
  },
  {
   "cell_type": "code",
   "execution_count": 97,
   "metadata": {
    "collapsed": false
   },
   "outputs": [],
   "source": [
    "class TwoD_NMR_MAT_plot:\n",
    "    \n",
    "    def __init__(self, exp, pinfo, info, dimensions_ppm=[]):\n",
    "        \n",
    "        print exp.shape\n",
    "        \n",
    "        self.exp = exp\n",
    "        self.pinfo = pinfo\n",
    "        self.info  = info\n",
    "        \n",
    "        self.rr,self.cc = exp.shape\n",
    "        self.X = np.zeros(exp.shape)\n",
    "        self.Y = np.zeros(exp.shape)\n",
    "        \n",
    "        r1=0\n",
    "        r2=self.rr\n",
    "\n",
    "        c1=0\n",
    "        c2=self.cc\n",
    "        \n",
    "        print r2,c2\n",
    "        \n",
    "        self.create_axes(  pinfo, info, self.rr, self.cc, dimensions_ppm )\n",
    "          \n",
    "        self.create_plot_layout(self.dimensions_index)\n",
    "        \n",
    "        self.plot_plots()\n",
    "        \n",
    "\n",
    "        \n",
    "    def create_axes( self, pinfo, info, rr,cc, dimensions_ppm):\n",
    "                \n",
    "        self.f1_offset_p = pinfo['procs' ]['OFFSET']\n",
    "        self.f1_sw_hz     = pinfo['procs' ]['SW_p']\n",
    "        self.f1_omega    = pinfo['procs' ]['SF']\n",
    "        self.f1_sw_ppm   = self.f1_sw_hz/self.f1_omega\n",
    "        \n",
    "        self.f2_offset_p = pinfo['proc2s' ]['OFFSET']\n",
    "        self.f2_sw_hz     = pinfo['proc2s' ]['SW_p']\n",
    "        self.f2_omega    = pinfo['proc2s' ]['SF']\n",
    "        self.f2_sw_ppm   = self.f2_sw_hz/self.f2_omega\n",
    "        print self.f1_sw_ppm\n",
    "        \n",
    "        self.f1 = np.linspace(self.f1_offset_p, self.f1_offset_p-self.f1_sw_ppm,  self.rr)\n",
    "        self.f2 = np.linspace(self.f2_offset_p, self.f2_offset_p-self.f2_sw_ppm,  self.cc)\n",
    "        \n",
    "        self.dw_f1_ppm = self.f1[1]-self.f1[0]\n",
    "        self.dw_f2_ppm = self.f2[1]-self.f2[0]\n",
    "        \n",
    "        for r in range(self.rr):\n",
    "    \n",
    "            for c in range( self.cc):\n",
    "        \n",
    "                self.Y[r,c] = self.f1[r]\n",
    "                self.X[r,c] = self.f2[c] \n",
    "                \n",
    "        print dimensions_ppm       \n",
    "        if dimensions_ppm == []:\n",
    "            self.dimensions_index = scipy.array([0,self.rr-1,0,self.cc-1])\n",
    "        else:\n",
    "            r1 = int( (dimensions_ppm[1]-self.f1_offset_p)/self.dw_f1_ppm)\n",
    "            r2 = int( (dimensions_ppm[0]-self.f1_offset_p)/self.dw_f1_ppm)\n",
    "            c1 = int( (dimensions_ppm[2]-self.f2_offset_p)/self.dw_f2_ppm)\n",
    "            c2 = int( (dimensions_ppm[3]-self.f2_offset_p)/self.dw_f2_ppm)\n",
    "            \n",
    "            self.dimensions_index = scipy.array([r1,r2,c1,c2 ])\n",
    "            \n",
    "        print \"self.dimensions_index\", self.dimensions_index\n",
    "            \n",
    "        self.Z1 = self.exp[self.dimensions_index[0]:self.dimensions_index[1],self.dimensions_index[2]:self.dimensions_index[3]]\n",
    "        self.X1 =   self.X[self.dimensions_index[0]:self.dimensions_index[1],self.dimensions_index[2]:self.dimensions_index[3]]\n",
    "        self.Y1 =   self.Y[self.dimensions_index[0]:self.dimensions_index[1],self.dimensions_index[2]:self.dimensions_index[3]]\n",
    "        \n",
    "        \n",
    "    def create_plot_layout( self, dimensions_index):\n",
    "        \n",
    "        print \"dimensions_index\",dimensions_index\n",
    "        \n",
    "        nullfmt   = NullFormatter()         # no labels\n",
    "\n",
    "        # definitions for the axes\n",
    "        left, width = 0.1, 0.65\n",
    "        bottom, height = 0.1, 0.65\n",
    "        bottom_h = left_h = left+width+0.02\n",
    "\n",
    "        rect_scatter = [left, bottom, width, height]\n",
    "        rect_histx = [left, bottom_h, width, 0.2]\n",
    "        rect_histy = [left_h, bottom, 0.2, height]\n",
    "\n",
    "        # start with a rectangular Figure\n",
    "        plt.figure(2, figsize=(6,6))\n",
    "\n",
    "        self.axScatter = plt.axes(rect_scatter)\n",
    "        self.axHistx = plt.axes(rect_histx)\n",
    "        self.axHisty = plt.axes(rect_histy)\n",
    "\n",
    "# no labels\n",
    "        self.axHistx.xaxis.set_major_formatter(nullfmt)\n",
    "        self.axHisty.yaxis.set_major_formatter(nullfmt)\n",
    "        \n",
    "        self.axScatter.tick_params(axis='x', labelsize=16)\n",
    "        self.axScatter.tick_params(axis='y', labelsize=16)\n",
    "        self.axScatter.set_xlabel('${^1}$H [ppm]',fontsize=16)\n",
    "        #ax.set_xlim(-60, 60)\n",
    "        self.axScatter.set_ylabel('${^1}$H [ppm]', fontsize=16)\n",
    "        \n",
    "        self.axHistx.axis('off')\n",
    "        self.axHisty.axis('off')\n",
    "\n",
    "        f1_start = self.f1[dimensions_index[0]]\n",
    "        f1_end   = self.f1[dimensions_index[1]]\n",
    "\n",
    "        f2_start = self.f2[dimensions_index[2]]\n",
    "        f2_end   = self.f2[dimensions_index[3]]\n",
    "\n",
    "        self.axScatter.set_ylim( (f1_start, f1_end) )\n",
    "        self.axScatter.set_xlim( (f2_start, f2_end) )\n",
    "        \n",
    "        \n",
    "\n",
    "    def plot_plots(self):\n",
    "        \n",
    "        # the scatter plot:\n",
    "        cl = np.linspace(self.Z1.max()*0.01, self.Z1.max()*1.1,10)\n",
    "        print \"Z1.shape\",self.Z1.shape\n",
    "        \n",
    "\n",
    "        sum_f1 = self.Z1.sum(axis=0)\n",
    "        print \"len(sum_f1)\",len(sum_f1)\n",
    "        sum_f2 = self.Z1.sum(axis=1)\n",
    "        print \"len(sum_f2)\",len(sum_f2)\n",
    "\n",
    "        cset = self.axScatter.contour(self.X1, self.Y1, self.Z1,  cl,  colors='red')\n",
    "        #\n",
    "        self.axHistx.plot(sum_f1, 'r-')\n",
    "        self.axHisty.plot(sum_f2,range(len(sum_f2)),'r')\n",
    "\n",
    "\n",
    "        self.axHistx.set_xlim( (0,len(sum_f1)-1) )\n",
    "        self.axHisty.set_ylim( (0,len(sum_f2)-1) )        \n",
    "        \n",
    "        \n",
    "        "
   ]
  },
  {
   "cell_type": "markdown",
   "metadata": {},
   "source": [
    "### Read in Experimental Data"
   ]
  },
  {
   "cell_type": "code",
   "execution_count": 98,
   "metadata": {
    "collapsed": false
   },
   "outputs": [],
   "source": [
    "\n",
    "\n",
    "f1=64\n",
    "zerofill = 512\n",
    "f2=1024\n",
    "pp=32\n",
    "\n",
    "\n",
    "expt_no = \"16\"  # PGSTE -MAT, 32 scans, D1=1s, 15Hz, 32_64 from 200\n",
    "\n",
    "directory = os.path.join(\"Y:\", os.sep,\"SSNMR\",\"Backup\", \"Avance\", \"bdat07\",\"eeh_20160115_mqmas\" )\n",
    "\n",
    "expt_no = \"10\"  # PGSTE -MAT, 32 scans, D1=1s, 15Hz, 32_64 from 200\n",
    "\n",
    "directory = os.path.join(\"Y:\", os.sep,\"SSNMR\",\"Backup\", \"Avance\", \"bdat07\",\"eeh_20160124_mqmas\" )\n",
    "#directory = os.path.join( \"NMRDATA\",\"eeh_20150710_4mmHXG_MAT\" )\n",
    "\n",
    "\n",
    "expt_no = \"2\"  # PGSTE -MAT, 32 scans, D1=2.5s, 102Hz, 32_64 from 64, , BD=100ms, grad = 80%\n",
    "directory = os.path.join(\"Y:\", os.sep,\"SSNMR\",\"Backup\", \"Avance\", \"bdat07\",\"eeh_20160129_1_4mmHXG_50umBeads\" )\n",
    "\n",
    "file_rrr = os.path.join( directory, expt_no, \"pdata\", \"1\")\n",
    "\n",
    "file_ser = os.path.join(directory,expt_no)\n",
    "                         \n",
    "cs_file  = os.path.join( directory,expt_no,\"nuslist\")\n",
    "cs_file  = os.path.join( directory,expt_no,\"vdlist\")\n",
    "file1    = os.path.join( directory,expt_no,\"pdata\",\"1\",\"2rr\" )\n",
    "\n",
    "\n",
    "\n",
    "max_num_peaks = 100\n",
    "tolerance = 80e3\n",
    "iterations = 500"
   ]
  },
  {
   "cell_type": "code",
   "execution_count": 99,
   "metadata": {
    "collapsed": false
   },
   "outputs": [
    {
     "name": "stdout",
     "output_type": "stream",
     "text": [
      "(512L, 1024L)\n",
      "(64L, 512L)\n"
     ]
    }
   ],
   "source": [
    "pinfo,expt = nmrglue.fileio.bruker.read_pdata( file_rrr )\n",
    "print expt.shape\n",
    "info,expt_fid = nmrglue.bruker.read( file_ser )\n",
    "print expt_fid.shape"
   ]
  },
  {
   "cell_type": "code",
   "execution_count": 100,
   "metadata": {
    "collapsed": false
   },
   "outputs": [
    {
     "name": "stdout",
     "output_type": "stream",
     "text": [
      "119544\n"
     ]
    },
    {
     "data": {
      "image/png": "[encoded data removed]",
      "text/plain": [
       "<matplotlib.figure.Figure at 0x1f8dfb70>"
      ]
     },
     "metadata": {},
     "output_type": "display_data"
    }
   ],
   "source": [
    "pylab.plot(expt[-1].real);\n",
    "nus_pts=32\n",
    "print  ((abs(expt[0][-nus_pts:].real)).sum())"
   ]
  },
  {
   "cell_type": "code",
   "execution_count": 101,
   "metadata": {
    "collapsed": false
   },
   "outputs": [],
   "source": [
    "## transfer fid into matrix with dimensions of final FFT spectra\n",
    "\n",
    "## transfer fid into matrix with dimensions of final FFT spectra\n",
    "\n",
    "(rr,cc) = expt.shape\n",
    "expt = numpy.zeros((rr,cc),dtype=numpy.complex128)\n",
    "\n",
    "(rr,cc) = expt_fid.shape\n",
    "for r in range(rr):\n",
    "    for c in range(cc):\n",
    "        expt[r][c] = expt_fid[r][c]\n",
    "        \n",
    "del expt_fid"
   ]
  },
  {
   "cell_type": "code",
   "execution_count": 102,
   "metadata": {
    "collapsed": false
   },
   "outputs": [],
   "source": [
    "## read in compressed sensing positions \n",
    "\n",
    "cs_array = scipy.fromfile( cs_file, sep = \" \" )\n",
    "cs_array = scipy.array( cs_array, dtype=numpy.int32 )\n",
    "\n",
    "numpts = zerofill\n",
    "mask = numpy.zeros(numpts, dtype=numpy.float32)\n",
    "\n",
    "for i in cs_array[:pp]:\n",
    "    mask[i] = 1.0\n"
   ]
  },
  {
   "cell_type": "code",
   "execution_count": 103,
   "metadata": {
    "collapsed": false
   },
   "outputs": [
    {
     "name": "stdout",
     "output_type": "stream",
     "text": [
      "898360.64679\n"
     ]
    },
    {
     "data": {
      "image/png": "[encoded data removed]",
      "text/plain": [
       "<matplotlib.figure.Figure at 0x1f90f828>"
      ]
     },
     "metadata": {},
     "output_type": "display_data"
    }
   ],
   "source": [
    "# Fourier Transform in F2 dimension\n",
    "\n",
    "spec = fftpack.fft(expt, axis=1)\n",
    "spec = fftpack.fftshift(spec, axes=1)\n",
    "\n",
    "\n",
    "# Phase correct data and remove Bruker digitization artefacts\n",
    "\n",
    "spec = nmrglue.process.proc_base.ps(spec, p0=-pinfo['procs']['PHC0']+0.0, p1=info['acqus']['GRPDLY']*360.0-pinfo['procs']['PHC1'], inv=False)\n",
    "\n",
    "\n",
    "#Apply a simple base line correction to spectra in F2 dimension\n",
    "\n",
    "(f1a,f2a) = expt.shape\n",
    "pylab.plot(spec[0].real, 'r-');\n",
    "\n",
    "for i in range(f1a):\n",
    "    spec[i] = spec[i] - (spec[i][:100]).mean()\n",
    "    \n",
    "for i in range(f1a):\n",
    "    spec[i] = spec[i] - (spec[i][:100]).mean()\n",
    "    \n",
    "\n",
    "pylab.plot(spec[0].real, 'b');\n",
    "pylab.ylim(-0.05*spec[0].max(), 1.1*spec[0].max());\n",
    "print  ((abs(spec[0][-nus_pts:].real)).sum())"
   ]
  },
  {
   "cell_type": "code",
   "execution_count": 104,
   "metadata": {
    "collapsed": false
   },
   "outputs": [],
   "source": [
    "#  Split real and imaginary\n",
    "\n",
    "iii_cs = spec[1::2].real\n",
    "rrr_cs = spec[::2].real"
   ]
  },
  {
   "cell_type": "code",
   "execution_count": 105,
   "metadata": {
    "collapsed": false
   },
   "outputs": [],
   "source": [
    "# Create real and imag data arrays and put fids in correct position and order\n",
    "\n",
    "rrr =scipy.zeros((zerofill,f2), dtype=numpy.int32)\n",
    "iii =scipy.zeros((zerofill,f2), dtype=numpy.int32)\n",
    "\n",
    "\n",
    "for i,v in enumerate(cs_array):\n",
    "    rrr[v] = rrr[v]+rrr_cs[i]\n",
    "    iii[v] = iii[v]+iii_cs[i]"
   ]
  },
  {
   "cell_type": "code",
   "execution_count": 106,
   "metadata": {
    "collapsed": false
   },
   "outputs": [
    {
     "name": "stdout",
     "output_type": "stream",
     "text": [
      "421\n"
     ]
    }
   ],
   "source": [
    "# find the maximum index value in the first spectrum. Value used in he thresh-holding algorihm\n",
    "\n",
    "mp =rrr[0].argmax()\n",
    "rrr = rrr.transpose()\n",
    "iii = iii.transpose()\n",
    "\n",
    "print mp\n",
    "\n",
    "mmm_t = (rrr + 1j*iii)"
   ]
  },
  {
   "cell_type": "markdown",
   "metadata": {},
   "source": [
    "### Perform Iterative Soft Thesholding Procedure in T$_1$ dimension"
   ]
  },
  {
   "cell_type": "code",
   "execution_count": 107,
   "metadata": {
    "collapsed": false
   },
   "outputs": [
    {
     "data": {
      "image/png": "[encoded data removed]",
      "text/plain": [
       "<matplotlib.figure.Figure at 0x1f754cc0>"
      ]
     },
     "metadata": {},
     "output_type": "display_data"
    }
   ],
   "source": [
    "pylab.plot( mask*mmm_t[mp].real, 'o' );\n",
    "pylab.plot( mmm_t[mp].real, 'r-' );"
   ]
  },
  {
   "cell_type": "code",
   "execution_count": 108,
   "metadata": {
    "collapsed": false
   },
   "outputs": [],
   "source": [
    "\n",
    "fid =  mmm_t[mp].copy()\n",
    "fid0 =  mmm_t[-1].copy()\n",
    "output = compressed_sensing_1D_VI( fid, mask, num_iter=500, factor=0.95, tol =0.1, maxPeaks=100)"
   ]
  },
  {
   "cell_type": "code",
   "execution_count": 109,
   "metadata": {
    "collapsed": false
   },
   "outputs": [
    {
     "data": {
      "image/png": "[encoded data removed]",
      "text/plain": [
       "<matplotlib.figure.Figure at 0x22728780>"
      ]
     },
     "metadata": {},
     "output_type": "display_data"
    }
   ],
   "source": [
    "\n",
    "pylab.plot(fftshift(output[0])+40);\n"
   ]
  },
  {
   "cell_type": "code",
   "execution_count": 110,
   "metadata": {
    "collapsed": false
   },
   "outputs": [
    {
     "data": {
      "image/png": "[encoded data removed]",
      "text/plain": [
       "<matplotlib.figure.Figure at 0x2203a518>"
      ]
     },
     "metadata": {},
     "output_type": "display_data"
    }
   ],
   "source": [
    "npeaks = scipy.array(output[1][1])\n",
    "pylab.plot(npeaks);"
   ]
  },
  {
   "cell_type": "code",
   "execution_count": 111,
   "metadata": {
    "collapsed": false
   },
   "outputs": [
    {
     "name": "stdout",
     "output_type": "stream",
     "text": [
      "(array([108, 122, 128, 144, 155, 160, 187, 190, 193, 195, 197, 198, 202,\n",
      "       203, 218, 271, 295, 302, 306, 311, 316, 328, 331, 340, 345, 415,\n",
      "       416, 458], dtype=int64),)\n",
      "<type 'numpy.ndarray'>\n",
      "[14  6 16 11  5 27  3  3  2  2  1  4  1 15 53 24  7  4  5  5 12  3  9  5 70\n",
      "  1 42]\n",
      "2 122\n"
     ]
    },
    {
     "data": {
      "image/png": "[encoded data removed]",
      "text/plain": [
       "<matplotlib.figure.Figure at 0x1f9f1ac8>"
      ]
     },
     "metadata": {},
     "output_type": "display_data"
    }
   ],
   "source": [
    "#print help(scipy.argsort)\n",
    "sss=fftshift(output[0]).real\n",
    "ddd = abs(npeaks[:]-numpy.roll(npeaks,-1))\n",
    "#ddd = abs(sss[:]-numpy.roll(sss,-1))\n",
    "\n",
    "ddd1 = ddd[:]-numpy.roll(ddd,-1)\n",
    "pylab.plot((ddd[:-2]));\n",
    "#pylab.plot((ddd1[:-2]));\n",
    "print numpy.where(ddd[:-2])\n",
    "ppp = (numpy.where(ddd[:-2]>0))[0]\n",
    "print type(ppp)\n",
    "print ppp[1:]-ppp[:-1]\n",
    "ppp1 = ppp[1:]-ppp[:-1]\n",
    "\n",
    "\n",
    "i=0\n",
    "while ppp1[i] > 10:\n",
    "    i += 1\n",
    "    \n",
    "print i+1, ppp[i]\n",
    "\n",
    "\n",
    "output = compressed_sensing_1D_VI( fid, mask, num_iter=ppp[i], factor=0.95, tol =0.1, maxPeaks=i+1)"
   ]
  },
  {
   "cell_type": "code",
   "execution_count": 112,
   "metadata": {
    "collapsed": false
   },
   "outputs": [
    {
     "data": {
      "image/png": "[encoded data removed]",
      "text/plain": [
       "<matplotlib.figure.Figure at 0x22210278>"
      ]
     },
     "metadata": {},
     "output_type": "display_data"
    }
   ],
   "source": [
    "pylab.plot(fftshift(output[0])+40);\n"
   ]
  },
  {
   "cell_type": "code",
   "execution_count": 113,
   "metadata": {
    "collapsed": false
   },
   "outputs": [
    {
     "name": "stdout",
     "output_type": "stream",
     "text": [
      "0 1 2 3 4 5 6 7 8 9 10 11 12 13 14 15 16 17 18 19 20 21 22 23 24 25 26 27 28 29 30 31 32 33 34 35 36 37 38 39 40 41 42 43 44 45 46 47 48 49 50 51 52 53 54 55 56 57 58 59 60 61 62 63 64 65 66 67 68 69 70 71 72 73 74 75 76 77 78 79 80 81 82 83 84 85 86 87 88 89 90 91 92 93 94 95 96 97 98 99 100 101 102 103 104 105 106 107 108 109 110 111 112 113 114 115 116 117 118 119 120 121 122 123 124 125 126 127 128 129 130 131 132 133 134 135 136 137 138 139 140 141 142 143 144 145 146 147 148 149 150 151 152 153 154 155 156 157 158 159 160 161 162 163 164 165 166 167 168 169 170 171 172 173 174 175 176 177 178 179 180 181 182 183 184 185 186 187 188 189 190 191 192 193 194 195 196 197 198 199 200 201 202 203 204 205 206 207 208 209 210 211 212 213 214 215 216 217 218 219 220 221 222 223 224 225 226 227 228 229 230 231 232 233 234 235 236 237 238 239 240 241 242 243 244 245 246 247 248 249 250 251 252 253 254 255 256 257 258 259 260 261 262 263 264 265 266 267 268 269 270 271 272 273 274 275 276 277 278 279 280 281 282 283 284 285 286 287 288 289 290 291 292 293 294 295 296 297 298 299 300 301 302 303 304 305 306 307 308 309 310 311 312 313 314 315 316 317 318 319 320 321 322 323 324 325 326 327 328 329 330 331 332 333 334 335 336 337 338 339 340 341 342 343 344 345 346 347 348 349 350 351 352 353 354 355 356 357 358 359 360 361 362 363 364 365 366 367 368 369 370 371 372 373 374 375 376 377 378 379 380 381 382 383 384 385 386 387 388 389 390 391 392 393 394 395 396 397 398 399 400 401 402 403 404 405 406 407 408 409 410 411 412 413 414 415 416 417 418 419 420 421 422 423 424 425 426 427 428 429 430 431 432 433 434 435 436 437 438 439 440 441 442 443 444 445 446 447 448 449 450 451 452 453 454 455 456 457 458 459 460 461 462 463 464 465 466 467 468 469 470 471 472 473 474 475 476 477 478 479 480 481 482 483 484 485 486 487 488 489 490 491 492 493 494 495 496 497 498 499 500 501 502 503 504 505 506 507 508 509 510 511 512 513 514 515 516 517 518 519 520 521 522 523 524 525 526 527 528 529 530 531 532 533 534 535 536 537 538 539 540 541 542 543 544 545 546 547 548 549 550 551 552 553 554 555 556 557 558 559 560 561 562 563 564 565 566 567 568 569 570 571 572 573 574 575 576 577 578 579 580 581 582 583 584 585 586 587 588 589 590 591 592 593 594 595 596 597 598 599 600 601 602 603 604 605 606 607 608 609 610 611 612 613 614 615 616 617 618 619 620 621 622 623 624 625 626 627 628 629 630 631 632 633 634 635 636 637 638 639 640 641 642 643 644 645 646 647 648 649 650 651 652 653 654 655 656 657 658 659 660 661 662 663 664 665 666 667 668 669 670 671 672 673 674 675 676 677 678 679 680 681 682 683 684 685 686 687 688 689 690 691 692 693 694 695 696 697 698 699 700 701 702 703 704 705 706 707 708 709 710 711 712 713 714 715 716 717 718 719 720 721 722 723 724 725 726 727 728 729 730 731 732 733 734 735 736 737 738 739 740 741 742 743 744 745 746 747 748 749 750 751 752 753 754 755 756 757 758 759 760 761 762 763 764 765 766 767 768 769 770 771 772 773 774 775 776 777 778 779 780 781 782 783 784 785 786 787 788 789 790 791 792 793 794 795 796 797 798 799 800 801 802 803 804 805 806 807 808 809 810 811 812 813 814 815 816 817 818 819 820 821 822 823 824 825 826 827 828 829 830 831 832 833 834 835 836 837 838 839 840 841 842 843 844 845 846 847 848 849 850 851 852 853 854 855 856 857 858 859 860 861 862 863 864 865 866 867 868 869 870 871 872 873 874 875 876 877 878 879 880 881 882 883 884 885 886 887 888 889 890 891 892 893 894 895 896 897 898 899 900 901 902 903 904 905 906 907 908 909 910 911 912 913 914 915 916 917 918 919 920 921 922 923 924 925 926 927 928 929 930 931 932 933 934 935 936 937 938 939 940 941 942 943 944 945 946 947 948 949 950 951 952 953 954 955 956 957 958 959 960 961 962 963 964 965 966 967 968 969 970 971 972 973 974 975 976 977 978 979 980 981 982 983 984 985 986 987 988 989 990 991 992 993 994 995 996 997 998 999 1000 1001 1002 1003 1004 1005 1006 1007 1008 1009 1010 1011 1012 1013 1014 1015 1016 1017 1018 1019 1020 1021 1022 1023\n"
     ]
    }
   ],
   "source": [
    "# Perform thresholding in T1 for each point\n",
    "\n",
    "cs_spec = scipy.zeros((f2,zerofill), dtype=numpy.complex128)\n",
    "\n",
    "stats_array = []\n",
    "\n",
    "for j in range(f2):\n",
    "    print j,\n",
    "\n",
    "#    Y, stats = compressed_sensing_1VD( mmm_t[j], mask, num_iter=iterations, tol=1, maxPeaks=3  )    \n",
    "    output = compressed_sensing_1D_VI( mmm_t[j], mask, num_iter=500, factor=0.95, tol =0.1, maxPeaks=20)\n",
    "    npeaks = scipy.array(output[1][1])\n",
    "#    cs_spec[j] = (Y + 1j * fftpack.hilbert( Y ))\n",
    "    \n",
    "    sss=fftshift(output[0]).real\n",
    "    ddd = abs(npeaks[:]-numpy.roll(npeaks,-1))\n",
    "\n",
    "    ddd1 = ddd[:]-numpy.roll(ddd,-1)\n",
    "#pylab.plot((ddd[:-2]));\n",
    "#pylab.plot((ddd1[:-2]));\n",
    "#print numpy.where(ddd[:-2])\n",
    "    ppp = (numpy.where(ddd[:-2]>0))[0]\n",
    "#print type(ppp)\n",
    "#print ppp[1:]-ppp[:-1]\n",
    "    ppp1 = ppp[1:]-ppp[:-1]\n",
    "\n",
    "\n",
    "    i=3\n",
    "    while ppp1[i] > 10:\n",
    "        i += 1\n",
    "    \n",
    "#rint i+1, ppp[i]\n",
    "\n",
    "\n",
    "    Y, stats = compressed_sensing_1D_VI( mmm_t[j], mask, num_iter=ppp[i], factor=0.95, tol =0.1, maxPeaks=i+1)\n",
    "    cs_spec[j] = (Y + 1j * fftpack.hilbert( Y ))\n"
   ]
  },
  {
   "cell_type": "markdown",
   "metadata": {},
   "source": [
    "### Display Results"
   ]
  },
  {
   "cell_type": "code",
   "execution_count": 114,
   "metadata": {
    "collapsed": false
   },
   "outputs": [],
   "source": [
    "for m in range(f2):\n",
    "    cs_spec[m] = fftpack.fftshift(cs_spec[m])"
   ]
  },
  {
   "cell_type": "code",
   "execution_count": 115,
   "metadata": {
    "collapsed": false
   },
   "outputs": [
    {
     "data": {
      "image/png": "[encoded data removed]",
      "text/plain": [
       "<matplotlib.figure.Figure at 0x229e09e8>"
      ]
     },
     "metadata": {},
     "output_type": "display_data"
    }
   ],
   "source": [
    "# Display high resolution projection \n",
    "\n",
    "cs_spec_sum1 = (cs_spec.real).sum(axis=1) \n",
    "#print cs_spec_sum1.max(), (cs_spec_sum[:]).sum()\n",
    "ssum0 = (cs_spec.real).sum(axis=0)\n",
    "\n",
    "pylab.plot( (cs_spec.real).sum(axis=0) );\n"
   ]
  },
  {
   "cell_type": "code",
   "execution_count": 116,
   "metadata": {
    "collapsed": false
   },
   "outputs": [],
   "source": [
    "spec = fftpack.fft(mmm_t, axis=1)"
   ]
  },
  {
   "cell_type": "code",
   "execution_count": 117,
   "metadata": {
    "collapsed": false
   },
   "outputs": [],
   "source": [
    "cs_spec_real = (cs_spec.real/10000.0)"
   ]
  },
  {
   "cell_type": "code",
   "execution_count": 118,
   "metadata": {
    "collapsed": false
   },
   "outputs": [],
   "source": [
    "cs_spec_int32 = scipy.array(cs_spec_real, dtype=scipy.int32)"
   ]
  },
  {
   "cell_type": "code",
   "execution_count": 119,
   "metadata": {
    "collapsed": false
   },
   "outputs": [
    {
     "data": {
      "image/png": "[encoded data removed]",
      "text/plain": [
       "<matplotlib.figure.Figure at 0x2268cc18>"
      ]
     },
     "metadata": {},
     "output_type": "display_data"
    }
   ],
   "source": [
    "pylab.plot(((cs_spec_int32).sum(axis=1)));"
   ]
  },
  {
   "cell_type": "code",
   "execution_count": 120,
   "metadata": {
    "collapsed": false
   },
   "outputs": [
    {
     "data": {
      "image/png": "[encoded data removed]",
      "text/plain": [
       "<matplotlib.figure.Figure at 0x1f925d30>"
      ]
     },
     "metadata": {},
     "output_type": "display_data"
    }
   ],
   "source": [
    "pylab.plot( fftpack.ifft(cs_spec[mp]).real );\n",
    "pylab.plot( 10*mmm_t[mp].real, 'r-' );"
   ]
  },
  {
   "cell_type": "code",
   "execution_count": 121,
   "metadata": {
    "collapsed": false
   },
   "outputs": [],
   "source": [
    "# Arrange 2-D spectrum  in correct order for display with Bruker Topsin\n",
    "\n",
    "cs_spec_int32 = cs_spec_int32.transpose()\n",
    "cs_spec_int32 = numpy.fliplr(cs_spec_int32)\n",
    "cs_spec_int32 = numpy.flipud(cs_spec_int32)"
   ]
  },
  {
   "cell_type": "code",
   "execution_count": 122,
   "metadata": {
    "collapsed": false
   },
   "outputs": [],
   "source": [
    "cs_spec_int32 = cs_spec_int32.flatten()"
   ]
  },
  {
   "cell_type": "code",
   "execution_count": 123,
   "metadata": {
    "collapsed": false
   },
   "outputs": [],
   "source": [
    "#Store 2-D real spectum in Bruker daa directory\n",
    "\n",
    "fp = open( file1, 'wb' )\n",
    "cs_spec_int32.tofile(fp)\n",
    "fp.close()"
   ]
  },
  {
   "cell_type": "code",
   "execution_count": 124,
   "metadata": {
    "collapsed": false
   },
   "outputs": [],
   "source": [
    "stats_array = numpy.array(stats_array)"
   ]
  },
  {
   "cell_type": "code",
   "execution_count": 125,
   "metadata": {
    "collapsed": false
   },
   "outputs": [],
   "source": [
    "stats_array = stats_array.transpose()"
   ]
  },
  {
   "cell_type": "code",
   "execution_count": 126,
   "metadata": {
    "collapsed": false
   },
   "outputs": [],
   "source": [
    "#final iteration value\n",
    "#pylab.plot( stats_array[0] ); "
   ]
  },
  {
   "cell_type": "code",
   "execution_count": 127,
   "metadata": {
    "collapsed": false
   },
   "outputs": [],
   "source": [
    "# final peaks found\n",
    "#pylab.plot( stats_array[1] ); "
   ]
  },
  {
   "cell_type": "code",
   "execution_count": 128,
   "metadata": {
    "collapsed": false
   },
   "outputs": [],
   "source": [
    "# final tolerance\n",
    "#pylab.plot( stats_array[2] ); "
   ]
  },
  {
   "cell_type": "code",
   "execution_count": 129,
   "metadata": {
    "collapsed": false
   },
   "outputs": [],
   "source": [
    "#file_rrr = r'Z:\\Documents\\work\\projects\\CompressedSensing\\Data\\eeh_20140228_diffMAT_4mmHXG\\224\\pdata\\1'\n",
    "#info,expt = nmrglue.bruker.read_pdata( file_rrr )\n",
    "\n",
    "expt = cs_spec_real\n",
    "\n",
    "expt = np.flipud(expt)\n",
    "expt = np.fliplr(expt)\n",
    "expt = expt.transpose()"
   ]
  },
  {
   "cell_type": "code",
   "execution_count": 130,
   "metadata": {
    "collapsed": false
   },
   "outputs": [
    {
     "name": "stdout",
     "output_type": "stream",
     "text": [
      "(512L, 1024L)\n",
      "512 1024\n",
      "24.9893824011\n",
      "[]\n",
      "self.dimensions_index [   0  511    0 1023]\n",
      "dimensions_index [   0  511    0 1023]\n",
      "Z1.shape (511L, 1023L)\n",
      "len(sum_f1) 1023\n",
      "len(sum_f2) 511\n"
     ]
    },
    {
     "data": {
      "image/png": "[encoded data removed]",
      "text/plain": [
       "<matplotlib.figure.Figure at 0x1f906c88>"
      ]
     },
     "metadata": {},
     "output_type": "display_data"
    }
   ],
   "source": [
    "ppplot = TwoD_NMR_MAT_plot( expt, pinfo, info)"
   ]
  },
  {
   "cell_type": "code",
   "execution_count": 131,
   "metadata": {
    "collapsed": false
   },
   "outputs": [
    {
     "name": "stdout",
     "output_type": "stream",
     "text": [
      "(512L, 1024L)\n",
      "512 1024\n",
      "24.9893824011\n",
      "[-1, 8, 7, -1]\n",
      "self.dimensions_index [135 319   4 804]\n",
      "dimensions_index [135 319   4 804]\n",
      "Z1.shape (184L, 800L)\n",
      "len(sum_f1) 800\n",
      "len(sum_f2) 184\n"
     ]
    },
    {
     "data": {
      "image/png": "[encoded data removed]",
      "text/plain": [
       "<matplotlib.figure.Figure at 0x1f71dcf8>"
      ]
     },
     "metadata": {},
     "output_type": "display_data"
    }
   ],
   "source": [
    "ppplot = TwoD_NMR_MAT_plot( expt, pinfo, info, [-1,8,7,-1])"
   ]
  },
  {
   "cell_type": "code",
   "execution_count": 132,
   "metadata": {
    "collapsed": false
   },
   "outputs": [
    {
     "name": "stdout",
     "output_type": "stream",
     "text": [
      "0.16.0\n",
      "0.5-dev\n",
      "1.5.1\n",
      "1.10.1\n"
     ]
    }
   ],
   "source": [
    "print scipy.__version__\n",
    "print nmrglue.__version__\n",
    "print matplotlib.__version__\n",
    "print numpy.__version__"
   ]
  },
  {
   "cell_type": "code",
   "execution_count": 133,
   "metadata": {
    "collapsed": false
   },
   "outputs": [
    {
     "name": "stdout",
     "output_type": "stream",
     "text": [
      "(512L, 1024L)\n",
      "512 1024\n",
      "24.9893824011\n",
      "[5, 7, 7, -1]\n",
      "self.dimensions_index [155 196   4 804]\n",
      "dimensions_index [155 196   4 804]\n",
      "Z1.shape (41L, 800L)\n",
      "len(sum_f1) 800\n",
      "len(sum_f2) 41\n"
     ]
    },
    {
     "data": {
      "image/png": "[encoded data removed]",
      "text/plain": [
       "<matplotlib.figure.Figure at 0x226583c8>"
      ]
     },
     "metadata": {},
     "output_type": "display_data"
    }
   ],
   "source": [
    "ppplot = TwoD_NMR_MAT_plot( expt, pinfo, info, [5,7,7,-1])"
   ]
  },
  {
   "cell_type": "code",
   "execution_count": null,
   "metadata": {
    "collapsed": true
   },
   "outputs": [],
   "source": []
  }
 ],
 "metadata": {
  "kernelspec": {
   "display_name": "Python 2",
   "language": "python",
   "name": "python2"
  },
  "language_info": {
   "codemirror_mode": {
    "name": "ipython",
    "version": 2
   },
   "file_extension": ".py",
   "mimetype": "text/x-python",
   "name": "python",
   "nbconvert_exporter": "python",
   "pygments_lexer": "ipython2",
   "version": "2.7.11"
  }
 },
 "nbformat": 4,
 "nbformat_minor": 0
}
