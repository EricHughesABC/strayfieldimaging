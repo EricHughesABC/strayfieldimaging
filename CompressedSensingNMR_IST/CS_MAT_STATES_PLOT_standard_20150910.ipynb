{
 "cells": [
  {
   "cell_type": "markdown",
   "metadata": {},
   "source": [
    "## Compressed Sensing (Non-Uniform-Sampling) of MAT Experiment using Iterative Soft Thresholding"
   ]
  },
  {
   "cell_type": "markdown",
   "metadata": {},
   "source": [
    "### water and  cyclohexanone on a zeolite"
   ]
  },
  {
   "cell_type": "code",
   "execution_count": 1,
   "metadata": {
    "collapsed": false
   },
   "outputs": [],
   "source": [
    "\n",
    "import pylab\n",
    "import numpy\n",
    "import scipy\n",
    "from   scipy import fftpack\n",
    "from   scipy.fftpack import fft, ifft, hilbert, fftshift, rfft \n",
    "import os\n",
    "import nmrglue\n",
    "\n",
    "import numpy as np\n",
    "import matplotlib\n",
    "import matplotlib.pyplot as plt\n",
    "from matplotlib.ticker import NullFormatter\n",
    "\n",
    "%matplotlib inline"
   ]
  },
  {
   "cell_type": "markdown",
   "metadata": {},
   "source": [
    "### IST Algorithm"
   ]
  },
  {
   "cell_type": "code",
   "execution_count": 2,
   "metadata": {
    "collapsed": false
   },
   "outputs": [],
   "source": [
    "def numPeaks( sss ):\n",
    "    www = numpy.where( sss > 0 )\n",
    "    numPeaks = 0\n",
    "    ppp = www[0]\n",
    "    for i in range(len(ppp[:-1])):\n",
    "        v = www[0][i]\n",
    "        v1 = www[0][i+1]\n",
    "        if v1-v > 1:\n",
    "            numPeaks +=1\n",
    "\n",
    "    return( numPeaks ) \n",
    "\n",
    "\n",
    "\n",
    "def compressed_sensing_1VD( fid, mask, num_iter=500, factor=0.95, tol = 0.01, maxPeaks=2 ):\n",
    "    \n",
    "    sss = numpy.zeros( len(fid))\n",
    "    sss0 = numpy.zeros( len(fid))\n",
    "    \n",
    "    final_iter_value  = 0\n",
    "    final_tol_value   = 0\n",
    "    final_numpeaks_value = 0\n",
    "\n",
    "    fid1 = fid.copy()\n",
    "    tol_diff = (numpy.sqrt(((abs(fid1)).sum())/32.))\n",
    "    \n",
    "    k=0\n",
    "    rrr = fftpack.fft(fid1)\n",
    "    rss0 = []\n",
    "    rss0.append(abs(rrr).sum())\n",
    "    \n",
    "    tol0 = abs(rrr).sum()\n",
    "    tol_diff = ( tol0 - abs(rrr).sum() )*100.0 / tol0\n",
    "    while (tol_diff < tol) and (k < num_iter) and numPeaks( sss ) <maxPeaks:\n",
    "        \n",
    "        sss0 = 1.0*sss\n",
    "        \n",
    "        rrr = fftpack.fft(fid1)\n",
    "        m1 = max(rrr.real)\n",
    "        \n",
    "        sss_max_old = sss.max()\n",
    "               \n",
    "        for i,r in enumerate(rrr):\n",
    "            if r.real > m1* factor:\n",
    "                sss[i] = sss[i]+rrr[i].real-m1*factor\n",
    "                rrr[i] = complex(m1*factor)\n",
    "        sss_max = sss.max()\n",
    "        \n",
    "        rrr_iii = fftpack.hilbert( rrr.real )\n",
    "        \n",
    "        rrr = rrr.real + 1j * rrr_iii\n",
    "        \n",
    "        fid1 = fftpack.ifft(rrr)\n",
    "        \n",
    "        fid1 *= mask\n",
    "        tol_diff = ( tol0 - abs(rrr).sum() )*100.0 / tol0\n",
    "        k +=1\n",
    "\n",
    "    final_iter_value = k\n",
    "    final_numpeaks_value = numPeaks(sss)\n",
    "    final_tol_value = tol_diff\n",
    "    \n",
    "    return( sss0, [final_iter_value, final_numpeaks_value, final_tol_value ] )"
   ]
  },
  {
   "cell_type": "code",
   "execution_count": 3,
   "metadata": {
    "collapsed": false
   },
   "outputs": [],
   "source": [
    "def numPeaks( sss ):\n",
    "    www = numpy.where( sss > 0 )\n",
    "    numPeaks = 0\n",
    "    ppp = www[0]\n",
    "    for i in range(len(ppp[:-1])):\n",
    "        v = ppp[i]\n",
    "        v1 = ppp[i+1]\n",
    "        if v1-v > 1:\n",
    "            numPeaks +=1\n",
    "\n",
    "    return( numPeaks ) \n",
    "\n",
    "\n",
    "\n",
    "def compressed_sensing_1D_VI( fid, mask, num_iter=500, factor=0.95, tol = 0.01, maxPeaks=2 ):\n",
    "    \n",
    "#    print tol\n",
    "    sss = numpy.zeros( len(fid))\n",
    "    \n",
    "    final_iter_value  = 0\n",
    "    final_tol_value   = 0\n",
    "    final_numpeaks_value = 0\n",
    "    \n",
    "    tolerance = []\n",
    "    numberOfpeaks = []\n",
    "    \n",
    "    fid1 = fid.copy()\n",
    "    tol_diff = 1000.0\n",
    "    \n",
    "    k=0\n",
    "    rrr = fft(fid1)\n",
    "    \n",
    "#    print \"tol_diff\",tol_diff\n",
    "#    print \"Num Peaks\", numPeaks( sss )\n",
    "    \n",
    "    \n",
    "    while (tol_diff > tol) and (k < num_iter) and numPeaks( sss ) < maxPeaks:\n",
    "        \n",
    "        rrr = fft(fid1)\n",
    "        m1 = max(rrr.real)*factor\n",
    "               \n",
    "        for i,r in enumerate(rrr):\n",
    "            if r.real > m1:\n",
    "                sss[i] = sss[i]+rrr[i].real-m1\n",
    "                rrr[i] = complex(m1)\n",
    "        rrr = rrr.real + 1j * hilbert( rrr.real )\n",
    "        \n",
    "        fid1 = ifft(rrr)*mask\n",
    "\n",
    "        fid00 = ifft(sss+1j*hilbert(sss))*mask\n",
    "        \n",
    "        tol_diff = (abs(fid00.real-fid.real)).sum()\n",
    "        tolerance.append(tol_diff)\n",
    "        numberOfpeaks.append( numPeaks( sss ))\n",
    "        k +=1\n",
    "#        print tol_diff,k,\n",
    "        \n",
    "\n",
    "        \n",
    "    final_iter_value = k\n",
    "    final_numpeaks_value = numPeaks(sss)\n",
    "    final_tol_value = tol_diff\n",
    "    \n",
    "    return( sss, [final_iter_value, numberOfpeaks, tolerance ] )\n",
    "\n",
    "\n"
   ]
  },
  {
   "cell_type": "markdown",
   "metadata": {},
   "source": [
    "### Matplotlib Class to plot 2D NMR spectrum"
   ]
  },
  {
   "cell_type": "code",
   "execution_count": 4,
   "metadata": {
    "collapsed": false
   },
   "outputs": [],
   "source": [
    "class TwoD_NMR_MAT_plot:\n",
    "    \n",
    "    def __init__(self, exp, pinfo, info, dimensions_ppm=[]):\n",
    "        \n",
    "        print exp.shape\n",
    "        \n",
    "        self.exp = exp\n",
    "        self.pinfo = pinfo\n",
    "        self.info  = info\n",
    "        \n",
    "        self.rr,self.cc = exp.shape\n",
    "        self.X = np.zeros(exp.shape)\n",
    "        self.Y = np.zeros(exp.shape)\n",
    "        \n",
    "        r1=0\n",
    "        r2=self.rr\n",
    "\n",
    "        c1=0\n",
    "        c2=self.cc\n",
    "        \n",
    "        print r2,c2\n",
    "        \n",
    "        self.create_axes(  pinfo, info, self.rr, self.cc, dimensions_ppm )\n",
    "          \n",
    "        self.create_plot_layout(self.dimensions_index)\n",
    "        \n",
    "        self.plot_plots()\n",
    "        \n",
    "\n",
    "        \n",
    "    def create_axes( self, pinfo, info, rr,cc, dimensions_ppm):\n",
    "                \n",
    "        self.f1_offset_p = pinfo['procs' ]['OFFSET']\n",
    "        self.f1_sw_hz     = pinfo['procs' ]['SW_p']\n",
    "        self.f1_omega    = pinfo['procs' ]['SF']\n",
    "        self.f1_sw_ppm   = self.f1_sw_hz/self.f1_omega\n",
    "        \n",
    "        self.f2_offset_p = pinfo['proc2s' ]['OFFSET']\n",
    "        self.f2_sw_hz     = pinfo['proc2s' ]['SW_p']\n",
    "        self.f2_omega    = pinfo['proc2s' ]['SF']\n",
    "        self.f2_sw_ppm   = self.f2_sw_hz/self.f2_omega\n",
    "        print self.f1_sw_ppm\n",
    "        \n",
    "        self.f1 = np.linspace(self.f1_offset_p, self.f1_offset_p-self.f1_sw_ppm,  self.rr)\n",
    "        self.f2 = np.linspace(self.f2_offset_p, self.f2_offset_p-self.f2_sw_ppm,  self.cc)\n",
    "        \n",
    "        self.dw_f1_ppm = self.f1[1]-self.f1[0]\n",
    "        self.dw_f2_ppm = self.f2[1]-self.f2[0]\n",
    "        \n",
    "        for r in range(self.rr):\n",
    "    \n",
    "            for c in range( self.cc):\n",
    "        \n",
    "                self.Y[r,c] = self.f1[r]\n",
    "                self.X[r,c] = self.f2[c] \n",
    "                \n",
    "        print dimensions_ppm       \n",
    "        if dimensions_ppm == []:\n",
    "            self.dimensions_index = scipy.array([0,self.rr-1,0,self.cc-1])\n",
    "        else:\n",
    "            r1 = int( (dimensions_ppm[1]-self.f1_offset_p)/self.dw_f1_ppm)\n",
    "            r2 = int( (dimensions_ppm[0]-self.f1_offset_p)/self.dw_f1_ppm)\n",
    "            c1 = int( (dimensions_ppm[2]-self.f2_offset_p)/self.dw_f2_ppm)\n",
    "            c2 = int( (dimensions_ppm[3]-self.f2_offset_p)/self.dw_f2_ppm)\n",
    "            \n",
    "            self.dimensions_index = scipy.array([r1,r2,c1,c2 ])\n",
    "            \n",
    "        print \"self.dimensions_index\", self.dimensions_index\n",
    "            \n",
    "        self.Z1 = self.exp[self.dimensions_index[0]:self.dimensions_index[1],self.dimensions_index[2]:self.dimensions_index[3]]\n",
    "        self.X1 =   self.X[self.dimensions_index[0]:self.dimensions_index[1],self.dimensions_index[2]:self.dimensions_index[3]]\n",
    "        self.Y1 =   self.Y[self.dimensions_index[0]:self.dimensions_index[1],self.dimensions_index[2]:self.dimensions_index[3]]\n",
    "        \n",
    "        \n",
    "    def create_plot_layout( self, dimensions_index):\n",
    "        \n",
    "        print \"dimensions_index\",dimensions_index\n",
    "        \n",
    "        nullfmt   = NullFormatter()         # no labels\n",
    "\n",
    "        # definitions for the axes\n",
    "        left, width = 0.1, 0.65\n",
    "        bottom, height = 0.1, 0.65\n",
    "        bottom_h = left_h = left+width+0.02\n",
    "\n",
    "        rect_scatter = [left, bottom, width, height]\n",
    "        rect_histx = [left, bottom_h, width, 0.2]\n",
    "        rect_histy = [left_h, bottom, 0.2, height]\n",
    "\n",
    "        # start with a rectangular Figure\n",
    "        plt.figure(2, figsize=(6,6))\n",
    "\n",
    "        self.axScatter = plt.axes(rect_scatter)\n",
    "        self.axHistx = plt.axes(rect_histx)\n",
    "        self.axHisty = plt.axes(rect_histy)\n",
    "\n",
    "# no labels\n",
    "        self.axHistx.xaxis.set_major_formatter(nullfmt)\n",
    "        self.axHisty.yaxis.set_major_formatter(nullfmt)\n",
    "        \n",
    "        self.axScatter.tick_params(axis='x', labelsize=16)\n",
    "        self.axScatter.tick_params(axis='y', labelsize=16)\n",
    "        self.axScatter.set_xlabel('${^1}$H [ppm]',fontsize=16)\n",
    "        #ax.set_xlim(-60, 60)\n",
    "        self.axScatter.set_ylabel('${^1}$H [ppm]', fontsize=16)\n",
    "        \n",
    "        self.axHistx.axis('off')\n",
    "        self.axHisty.axis('off')\n",
    "\n",
    "        f1_start = self.f1[dimensions_index[0]]\n",
    "        f1_end   = self.f1[dimensions_index[1]]\n",
    "\n",
    "        f2_start = self.f2[dimensions_index[2]]\n",
    "        f2_end   = self.f2[dimensions_index[3]]\n",
    "\n",
    "        self.axScatter.set_ylim( (f1_start, f1_end) )\n",
    "        self.axScatter.set_xlim( (f2_start, f2_end) )\n",
    "        \n",
    "        \n",
    "\n",
    "    def plot_plots(self):\n",
    "        \n",
    "        # the scatter plot:\n",
    "        cl = np.linspace(self.Z1.max()*0.01, self.Z1.max()*1.1,10)\n",
    "        print \"Z1.shape\",self.Z1.shape\n",
    "        \n",
    "\n",
    "        sum_f1 = self.Z1.sum(axis=0)\n",
    "        print \"len(sum_f1)\",len(sum_f1)\n",
    "        sum_f2 = self.Z1.sum(axis=1)\n",
    "        print \"len(sum_f2)\",len(sum_f2)\n",
    "\n",
    "        cset = self.axScatter.contour(self.X1, self.Y1, self.Z1,  cl,  colors='red')\n",
    "        #\n",
    "        self.axHistx.plot(sum_f1, 'r-')\n",
    "        self.axHisty.plot(sum_f2,range(len(sum_f2)),'r')\n",
    "\n",
    "\n",
    "        self.axHistx.set_xlim( (0,len(sum_f1)-1) )\n",
    "        self.axHisty.set_ylim( (0,len(sum_f2)-1) )        \n",
    "        \n",
    "        \n",
    "        "
   ]
  },
  {
   "cell_type": "markdown",
   "metadata": {},
   "source": [
    "### Read in Experimental Data"
   ]
  },
  {
   "cell_type": "code",
   "execution_count": 5,
   "metadata": {
    "collapsed": false
   },
   "outputs": [],
   "source": [
    "\n",
    "\n",
    "f1=64\n",
    "zerofill = 512\n",
    "f2=1024\n",
    "pp=32\n",
    "\n",
    "\n",
    "expt_no = \"202\"  # PGSTE -MAT, 32 scans, D1=1s, 15Hz, 32_64 from 200\n",
    "\n",
    "\n",
    "#directory = os.path.join(\"Y:\", os.sep,\"SSNMR\",\"Backup\", \"Avance\", \"NMR\",\"eeh_20150710_4mmHXG_MAT\" )\n",
    "directory = os.path.join( \"NMRDATA\",\"eeh_20150710_4mmHXG_MAT\" )\n",
    "\n",
    "file_rrr = os.path.join( directory, expt_no, \"pdata\", \"1\")\n",
    "\n",
    "file_ser = os.path.join(directory,expt_no)\n",
    "                         \n",
    "cs_file  = os.path.join( directory,expt_no,\"vdlist\")\n",
    "file1    = os.path.join( directory,expt_no,\"pdata\",\"1\",\"2rr\" )\n",
    "\n",
    "\n",
    "\n",
    "max_num_peaks = 100\n",
    "tolerance = 80e3\n",
    "iterations = 500"
   ]
  },
  {
   "cell_type": "code",
   "execution_count": 6,
   "metadata": {
    "collapsed": false
   },
   "outputs": [],
   "source": [
    "pinfo,expt = nmrglue.fileio.bruker.read_pdata( file_rrr )\n",
    "info,expt_fid = nmrglue.bruker.read( file_ser )"
   ]
  },
  {
   "cell_type": "code",
   "execution_count": 7,
   "metadata": {
    "collapsed": false
   },
   "outputs": [
    {
     "name": "stdout",
     "output_type": "stream",
     "text": [
      "0\n"
     ]
    },
    {
     "data": {
      "image/png": "[encoded data removed]",
      "text/plain": [
       "<matplotlib.figure.Figure at 0x9324208>"
      ]
     },
     "metadata": {},
     "output_type": "display_data"
    }
   ],
   "source": [
    "pylab.plot(expt[-1].real);\n",
    "nus_pts=32\n",
    "print  ((abs(expt[0][-nus_pts:].real)).sum())"
   ]
  },
  {
   "cell_type": "code",
   "execution_count": 8,
   "metadata": {
    "collapsed": false
   },
   "outputs": [],
   "source": [
    "## transfer fid into matrix with dimensions of final FFT spectra\n",
    "\n",
    "(rr,cc) = expt.shape\n",
    "expt = numpy.zeros((rr,cc),dtype=numpy.complex128)\n",
    "\n",
    "(rr,cc) = expt_fid.shape\n",
    "for r in range(rr):\n",
    "    for c in range(cc):\n",
    "        expt[r][c] = expt_fid[r][c]\n",
    "        \n",
    "del expt_fid"
   ]
  },
  {
   "cell_type": "code",
   "execution_count": 9,
   "metadata": {
    "collapsed": false
   },
   "outputs": [],
   "source": [
    "## read in compressed sensing positions \n",
    "\n",
    "cs_array = scipy.fromfile( cs_file, sep = \" \" )\n",
    "cs_array = scipy.array( cs_array, dtype=numpy.int32 )\n",
    "\n",
    "numpts = zerofill\n",
    "mask = numpy.zeros(numpts, dtype=numpy.float32)\n",
    "\n",
    "for i in cs_array[:pp]:\n",
    "    mask[i] = 1.0\n"
   ]
  },
  {
   "cell_type": "code",
   "execution_count": 10,
   "metadata": {
    "collapsed": false
   },
   "outputs": [
    {
     "name": "stdout",
     "output_type": "stream",
     "text": [
      "643883.214556\n"
     ]
    },
    {
     "name": "stderr",
     "output_type": "stream",
     "text": [
      "Z:\\Documents\\anaconda2\\lib\\site-packages\\matplotlib\\transforms.py:993: ComplexWarning: Casting complex values to real discards the imaginary part\n",
      "  self._points[:, 1] = interval\n"
     ]
    },
    {
     "data": {
      "image/png": "[encoded data removed]",
      "text/plain": [
       "<matplotlib.figure.Figure at 0x94cc2e8>"
      ]
     },
     "metadata": {},
     "output_type": "display_data"
    }
   ],
   "source": [
    "# Fourier Transform in F2 dimension\n",
    "\n",
    "spec = fftpack.fft(expt, axis=1)\n",
    "spec = fftpack.fftshift(spec, axes=1)\n",
    "\n",
    "\n",
    "# Phase correct data and remove Bruker digitization artefacts\n",
    "\n",
    "spec = nmrglue.process.proc_base.ps(spec, p0=-pinfo['procs']['PHC0']+0.0, p1=info['acqus']['GRPDLY']*360.0-pinfo['procs']['PHC1'], inv=False)\n",
    "\n",
    "\n",
    "#Apply a simple base line correction to spectra in F2 dimension\n",
    "\n",
    "(f1a,f2a) = expt.shape\n",
    "pylab.plot(spec[0].real, 'r-');\n",
    "\n",
    "for i in range(f1a):\n",
    "    spec[i] = spec[i] - (spec[i][:100]).mean()\n",
    "    \n",
    "for i in range(f1a):\n",
    "    spec[i] = spec[i] - (spec[i][:100]).mean()\n",
    "    \n",
    "\n",
    "pylab.plot(spec[0].real, 'b');\n",
    "pylab.ylim(-0.05*spec[0].max(), 1.1*spec[0].max());\n",
    "print  ((abs(spec[0][-nus_pts:].real)).sum())"
   ]
  },
  {
   "cell_type": "code",
   "execution_count": 11,
   "metadata": {
    "collapsed": false
   },
   "outputs": [],
   "source": [
    "#  Split real and imaginary\n",
    "\n",
    "iii_cs = spec[1::2].real\n",
    "rrr_cs = spec[::2].real"
   ]
  },
  {
   "cell_type": "code",
   "execution_count": 12,
   "metadata": {
    "collapsed": false
   },
   "outputs": [],
   "source": [
    "# Create real and imag data arrays and put fids in correct position and order\n",
    "\n",
    "rrr =scipy.zeros((zerofill,f2), dtype=numpy.int32)\n",
    "iii =scipy.zeros((zerofill,f2), dtype=numpy.int32)\n",
    "\n",
    "\n",
    "for i,v in enumerate(cs_array):\n",
    "    rrr[v] = rrr[v]+rrr_cs[i]\n",
    "    iii[v] = iii[v]+iii_cs[i]"
   ]
  },
  {
   "cell_type": "code",
   "execution_count": 13,
   "metadata": {
    "collapsed": false
   },
   "outputs": [
    {
     "name": "stdout",
     "output_type": "stream",
     "text": [
      "603\n"
     ]
    }
   ],
   "source": [
    "# find the maximum index value in the first spectrum. Value used in he thresh-holding algorihm\n",
    "\n",
    "mp =rrr[0].argmax()\n",
    "rrr = rrr.transpose()\n",
    "iii = iii.transpose()\n",
    "\n",
    "print mp\n",
    "\n",
    "mmm_t = (rrr + 1j*iii)"
   ]
  },
  {
   "cell_type": "markdown",
   "metadata": {},
   "source": [
    "### Perform Iterative Soft Thesholding Procedure in T$_1$ dimension"
   ]
  },
  {
   "cell_type": "code",
   "execution_count": 14,
   "metadata": {
    "collapsed": false
   },
   "outputs": [
    {
     "data": {
      "image/png": "[encoded data removed]",
      "text/plain": [
       "<matplotlib.figure.Figure at 0x9f5f7b8>"
      ]
     },
     "metadata": {},
     "output_type": "display_data"
    }
   ],
   "source": [
    "pylab.plot( mask*mmm_t[mp].real, 'o' );\n",
    "pylab.plot( mmm_t[mp].real, 'r-' );"
   ]
  },
  {
   "cell_type": "code",
   "execution_count": 15,
   "metadata": {
    "collapsed": false
   },
   "outputs": [],
   "source": [
    "\n",
    "fid =  mmm_t[mp].copy()\n",
    "fid0 =  mmm_t[-1].copy()\n",
    "output = compressed_sensing_1D_VI( fid, mask, num_iter=500, factor=0.95, tol =0.1, maxPeaks=100)"
   ]
  },
  {
   "cell_type": "code",
   "execution_count": 16,
   "metadata": {
    "collapsed": false
   },
   "outputs": [
    {
     "data": {
      "image/png": "[encoded data removed]",
      "text/plain": [
       "<matplotlib.figure.Figure at 0x94a0ac8>"
      ]
     },
     "metadata": {},
     "output_type": "display_data"
    }
   ],
   "source": [
    "\n",
    "pylab.plot(fftshift(output[0])+40);\n"
   ]
  },
  {
   "cell_type": "code",
   "execution_count": 17,
   "metadata": {
    "collapsed": false
   },
   "outputs": [
    {
     "data": {
      "image/png": "[encoded data removed]",
      "text/plain": [
       "<matplotlib.figure.Figure at 0xa173550>"
      ]
     },
     "metadata": {},
     "output_type": "display_data"
    }
   ],
   "source": [
    "npeaks = scipy.array(output[1][1])\n",
    "pylab.plot(npeaks);"
   ]
  },
  {
   "cell_type": "code",
   "execution_count": 18,
   "metadata": {
    "collapsed": false
   },
   "outputs": [
    {
     "name": "stdout",
     "output_type": "stream",
     "text": [
      "(array([207, 209, 213, 221, 226, 228, 232, 235, 237, 246, 260, 261, 262,\n",
      "       263, 265, 277, 282, 285, 286, 300, 303, 311, 313, 314, 320, 321,\n",
      "       323, 331, 344, 356, 360, 369, 373, 374, 393, 395, 397, 400, 410,\n",
      "       411, 416, 418, 420, 433, 435, 437, 439, 441, 443, 444, 448, 449,\n",
      "       450, 451, 452], dtype=int64),)\n",
      "<type 'numpy.ndarray'>\n",
      "[ 2  4  8  5  2  4  3  2  9 14  1  1  1  2 12  5  3  1 14  3  8  2  1  6  1\n",
      "  2  8 13 12  4  9  4  1 19  2  2  3 10  1  5  2  2 13  2  2  2  2  2  1  4\n",
      "  1  1  1  1]\n",
      "1 207\n"
     ]
    },
    {
     "data": {
      "image/png": "[encoded data removed]",
      "text/plain": [
       "<matplotlib.figure.Figure at 0xa173588>"
      ]
     },
     "metadata": {},
     "output_type": "display_data"
    }
   ],
   "source": [
    "#print help(scipy.argsort)\n",
    "sss=fftshift(output[0]).real\n",
    "ddd = abs(npeaks[:]-numpy.roll(npeaks,-1))\n",
    "#ddd = abs(sss[:]-numpy.roll(sss,-1))\n",
    "\n",
    "ddd1 = ddd[:]-numpy.roll(ddd,-1)\n",
    "pylab.plot((ddd[:-2]));\n",
    "#pylab.plot((ddd1[:-2]));\n",
    "print numpy.where(ddd[:-2])\n",
    "ppp = (numpy.where(ddd[:-2]>0))[0]\n",
    "print type(ppp)\n",
    "print ppp[1:]-ppp[:-1]\n",
    "ppp1 = ppp[1:]-ppp[:-1]\n",
    "\n",
    "\n",
    "i=0\n",
    "while ppp1[i] > 10:\n",
    "    i += 1\n",
    "    \n",
    "print i+1, ppp[i]\n",
    "\n",
    "\n",
    "output = compressed_sensing_1D_VI( fid, mask, num_iter=ppp[i], factor=0.95, tol =0.1, maxPeaks=i+1)"
   ]
  },
  {
   "cell_type": "code",
   "execution_count": 19,
   "metadata": {
    "collapsed": false
   },
   "outputs": [
    {
     "data": {
      "image/png": "[encoded data removed]",
      "text/plain": [
       "<matplotlib.figure.Figure at 0xa567898>"
      ]
     },
     "metadata": {},
     "output_type": "display_data"
    }
   ],
   "source": [
    "pylab.plot(fftshift(output[0])+40);\n"
   ]
  },
  {
   "cell_type": "code",
   "execution_count": 20,
   "metadata": {
    "collapsed": false
   },
   "outputs": [
    {
     "name": "stdout",
     "output_type": "stream",
     "text": [
      "0"
     ]
    },
    {
     "ename": "NameError",
     "evalue": "name 'Y' is not defined",
     "output_type": "error",
     "traceback": [
      "\u001b[1;31m---------------------------------------------------------------------------\u001b[0m",
      "\u001b[1;31mNameError\u001b[0m                                 Traceback (most recent call last)",
      "\u001b[1;32m<ipython-input-20-173298c1cdf2>\u001b[0m in \u001b[0;36m<module>\u001b[1;34m()\u001b[0m\n\u001b[0;32m     11\u001b[0m     \u001b[0moutput\u001b[0m \u001b[1;33m=\u001b[0m \u001b[0mcompressed_sensing_1D_VI\u001b[0m\u001b[1;33m(\u001b[0m \u001b[0mmmm_t\u001b[0m\u001b[1;33m[\u001b[0m\u001b[0mj\u001b[0m\u001b[1;33m]\u001b[0m\u001b[1;33m,\u001b[0m \u001b[0mmask\u001b[0m\u001b[1;33m,\u001b[0m \u001b[0mnum_iter\u001b[0m\u001b[1;33m=\u001b[0m\u001b[1;36m500\u001b[0m\u001b[1;33m,\u001b[0m \u001b[0mfactor\u001b[0m\u001b[1;33m=\u001b[0m\u001b[1;36m0.95\u001b[0m\u001b[1;33m,\u001b[0m \u001b[0mtol\u001b[0m \u001b[1;33m=\u001b[0m\u001b[1;36m0.1\u001b[0m\u001b[1;33m,\u001b[0m \u001b[0mmaxPeaks\u001b[0m\u001b[1;33m=\u001b[0m\u001b[1;36m20\u001b[0m\u001b[1;33m)\u001b[0m\u001b[1;33m\u001b[0m\u001b[0m\n\u001b[0;32m     12\u001b[0m     \u001b[0mnpeaks\u001b[0m \u001b[1;33m=\u001b[0m \u001b[0mscipy\u001b[0m\u001b[1;33m.\u001b[0m\u001b[0marray\u001b[0m\u001b[1;33m(\u001b[0m\u001b[0moutput\u001b[0m\u001b[1;33m[\u001b[0m\u001b[1;36m1\u001b[0m\u001b[1;33m]\u001b[0m\u001b[1;33m[\u001b[0m\u001b[1;36m1\u001b[0m\u001b[1;33m]\u001b[0m\u001b[1;33m)\u001b[0m\u001b[1;33m\u001b[0m\u001b[0m\n\u001b[1;32m---> 13\u001b[1;33m     \u001b[0mcs_spec\u001b[0m\u001b[1;33m[\u001b[0m\u001b[0mj\u001b[0m\u001b[1;33m]\u001b[0m \u001b[1;33m=\u001b[0m \u001b[1;33m(\u001b[0m\u001b[0mY\u001b[0m \u001b[1;33m+\u001b[0m \u001b[1;36m1j\u001b[0m \u001b[1;33m*\u001b[0m \u001b[0mfftpack\u001b[0m\u001b[1;33m.\u001b[0m\u001b[0mhilbert\u001b[0m\u001b[1;33m(\u001b[0m \u001b[0mY\u001b[0m \u001b[1;33m)\u001b[0m\u001b[1;33m)\u001b[0m\u001b[1;33m\u001b[0m\u001b[0m\n\u001b[0m\u001b[0;32m     14\u001b[0m \u001b[1;33m\u001b[0m\u001b[0m\n\u001b[0;32m     15\u001b[0m     \u001b[0msss\u001b[0m\u001b[1;33m=\u001b[0m\u001b[0mfftshift\u001b[0m\u001b[1;33m(\u001b[0m\u001b[0moutput\u001b[0m\u001b[1;33m[\u001b[0m\u001b[1;36m0\u001b[0m\u001b[1;33m]\u001b[0m\u001b[1;33m)\u001b[0m\u001b[1;33m.\u001b[0m\u001b[0mreal\u001b[0m\u001b[1;33m\u001b[0m\u001b[0m\n",
      "\u001b[1;31mNameError\u001b[0m: name 'Y' is not defined"
     ]
    }
   ],
   "source": [
    "# Perform thresholding in T1 for each point\n",
    "\n",
    "cs_spec = scipy.zeros((f2,zerofill), dtype=numpy.complex128)\n",
    "\n",
    "stats_array = []\n",
    "\n",
    "for j in range(f2):\n",
    "    print j,\n",
    "\n",
    "#    Y, stats = compressed_sensing_1VD( mmm_t[j], mask, num_iter=iterations, tol=1, maxPeaks=3  )    \n",
    "    output = compressed_sensing_1D_VI( mmm_t[j], mask, num_iter=500, factor=0.95, tol =0.1, maxPeaks=20)\n",
    "    npeaks = scipy.array(output[1][1])\n",
    "    cs_spec[j] = (Y + 1j * fftpack.hilbert( Y ))\n",
    "    \n",
    "    sss=fftshift(output[0]).real\n",
    "    ddd = abs(npeaks[:]-numpy.roll(npeaks,-1))\n",
    "\n",
    "    ddd1 = ddd[:]-numpy.roll(ddd,-1)\n",
    "#pylab.plot((ddd[:-2]));\n",
    "#pylab.plot((ddd1[:-2]));\n",
    "#print numpy.where(ddd[:-2])\n",
    "    ppp = (numpy.where(ddd[:-2]>0))[0]\n",
    "#print type(ppp)\n",
    "#print ppp[1:]-ppp[:-1]\n",
    "    ppp1 = ppp[1:]-ppp[:-1]\n",
    "\n",
    "\n",
    "    i=0\n",
    "    while ppp1[i] > 10:\n",
    "        i += 1\n",
    "    \n",
    "#rint i+1, ppp[i]\n",
    "\n",
    "\n",
    "    Y, stats = compressed_sensing_1D_VI( mmm_t[j], mask, num_iter=ppp[i], factor=0.95, tol =0.1, maxPeaks=i+1)\n",
    "    cs_spec[j] = (Y + 1j * fftpack.hilbert( Y ))\n"
   ]
  },
  {
   "cell_type": "markdown",
   "metadata": {},
   "source": [
    "### Display Results"
   ]
  },
  {
   "cell_type": "code",
   "execution_count": null,
   "metadata": {
    "collapsed": false
   },
   "outputs": [],
   "source": [
    "for m in range(f2):\n",
    "    cs_spec[m] = fftpack.fftshift(cs_spec[m])"
   ]
  },
  {
   "cell_type": "code",
   "execution_count": null,
   "metadata": {
    "collapsed": false
   },
   "outputs": [],
   "source": [
    "# Display high resolution projection \n",
    "\n",
    "cs_spec_sum1 = (cs_spec.real).sum(axis=1) \n",
    "#print cs_spec_sum1.max(), (cs_spec_sum[:]).sum()\n",
    "ssum0 = (cs_spec.real).sum(axis=0)\n",
    "\n",
    "pylab.plot( (cs_spec.real).sum(axis=0) );\n"
   ]
  },
  {
   "cell_type": "code",
   "execution_count": null,
   "metadata": {
    "collapsed": false
   },
   "outputs": [],
   "source": [
    "spec = fftpack.fft(mmm_t, axis=1)"
   ]
  },
  {
   "cell_type": "code",
   "execution_count": null,
   "metadata": {
    "collapsed": false
   },
   "outputs": [],
   "source": [
    "cs_spec_real = (cs_spec.real/10000.0)"
   ]
  },
  {
   "cell_type": "code",
   "execution_count": null,
   "metadata": {
    "collapsed": false
   },
   "outputs": [],
   "source": [
    "cs_spec_int32 = scipy.array(cs_spec_real, dtype=scipy.int32)"
   ]
  },
  {
   "cell_type": "code",
   "execution_count": null,
   "metadata": {
    "collapsed": false
   },
   "outputs": [],
   "source": [
    "pylab.plot(((cs_spec_int32).sum(axis=1)));"
   ]
  },
  {
   "cell_type": "code",
   "execution_count": null,
   "metadata": {
    "collapsed": false
   },
   "outputs": [],
   "source": [
    "pylab.plot( fftpack.ifft(cs_spec[mp]).real );\n",
    "pylab.plot( 10*mmm_t[mp].real, 'r-' );"
   ]
  },
  {
   "cell_type": "code",
   "execution_count": null,
   "metadata": {
    "collapsed": false
   },
   "outputs": [],
   "source": [
    "# Arrange 2-D spectrum  in correct order for display with Bruker Topsin\n",
    "\n",
    "cs_spec_int32 = cs_spec_int32.transpose()\n",
    "cs_spec_int32 = numpy.fliplr(cs_spec_int32)\n",
    "cs_spec_int32 = numpy.flipud(cs_spec_int32)"
   ]
  },
  {
   "cell_type": "code",
   "execution_count": null,
   "metadata": {
    "collapsed": false
   },
   "outputs": [],
   "source": [
    "cs_spec_int32 = cs_spec_int32.flatten()"
   ]
  },
  {
   "cell_type": "code",
   "execution_count": null,
   "metadata": {
    "collapsed": false
   },
   "outputs": [],
   "source": [
    "#Store 2-D real spectum in Bruker daa directory\n",
    "\n",
    "fp = open( file1, 'wb' )\n",
    "cs_spec_int32.tofile(fp)\n",
    "fp.close()"
   ]
  },
  {
   "cell_type": "code",
   "execution_count": null,
   "metadata": {
    "collapsed": false
   },
   "outputs": [],
   "source": [
    "stats_array = numpy.array(stats_array)"
   ]
  },
  {
   "cell_type": "code",
   "execution_count": null,
   "metadata": {
    "collapsed": false
   },
   "outputs": [],
   "source": [
    "stats_array = stats_array.transpose()"
   ]
  },
  {
   "cell_type": "code",
   "execution_count": null,
   "metadata": {
    "collapsed": false
   },
   "outputs": [],
   "source": [
    "#final iteration value\n",
    "pylab.plot( stats_array[0] ); "
   ]
  },
  {
   "cell_type": "code",
   "execution_count": null,
   "metadata": {
    "collapsed": false
   },
   "outputs": [],
   "source": [
    "# final peaks found\n",
    "pylab.plot( stats_array[1] ); "
   ]
  },
  {
   "cell_type": "code",
   "execution_count": null,
   "metadata": {
    "collapsed": false
   },
   "outputs": [],
   "source": [
    "# final tolerance\n",
    "pylab.plot( stats_array[2] ); "
   ]
  },
  {
   "cell_type": "code",
   "execution_count": null,
   "metadata": {
    "collapsed": false
   },
   "outputs": [],
   "source": [
    "#file_rrr = r'Z:\\Documents\\work\\projects\\CompressedSensing\\Data\\eeh_20140228_diffMAT_4mmHXG\\224\\pdata\\1'\n",
    "#info,expt = nmrglue.bruker.read_pdata( file_rrr )\n",
    "\n",
    "expt = cs_spec_real\n",
    "\n",
    "expt = np.flipud(expt)\n",
    "expt = np.fliplr(expt)\n",
    "expt = expt.transpose()"
   ]
  },
  {
   "cell_type": "code",
   "execution_count": null,
   "metadata": {
    "collapsed": false
   },
   "outputs": [],
   "source": [
    "ppplot = TwoD_NMR_MAT_plot( expt, pinfo, info)"
   ]
  },
  {
   "cell_type": "code",
   "execution_count": null,
   "metadata": {
    "collapsed": false
   },
   "outputs": [],
   "source": [
    "ppplot = TwoD_NMR_MAT_plot( expt, pinfo, info, [-1,8,7,-1])"
   ]
  },
  {
   "cell_type": "code",
   "execution_count": null,
   "metadata": {
    "collapsed": false
   },
   "outputs": [],
   "source": [
    "print scipy.__version__\n",
    "print nmrglue.__version__\n",
    "print matplotlib.__version__\n",
    "print numpy.__version__"
   ]
  },
  {
   "cell_type": "code",
   "execution_count": null,
   "metadata": {
    "collapsed": false
   },
   "outputs": [],
   "source": [
    "ppplot = TwoD_NMR_MAT_plot( expt, pinfo, info, [5,7,7,-1])"
   ]
  },
  {
   "cell_type": "code",
   "execution_count": null,
   "metadata": {
    "collapsed": true
   },
   "outputs": [],
   "source": []
  }
 ],
 "metadata": {
  "kernelspec": {
   "display_name": "Python 2",
   "language": "python",
   "name": "python2"
  },
  "language_info": {
   "codemirror_mode": {
    "name": "ipython",
    "version": 2
   },
   "file_extension": ".py",
   "mimetype": "text/x-python",
   "name": "python",
   "nbconvert_exporter": "python",
   "pygments_lexer": "ipython2",
   "version": "2.7.11"
  }
 },
 "nbformat": 4,
 "nbformat_minor": 0
}
