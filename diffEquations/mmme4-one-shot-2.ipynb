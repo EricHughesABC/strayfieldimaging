{
 "cells": [
  {
   "cell_type": "markdown",
   "metadata": {},
   "source": [
    "### Development of python notebook  to calculate B factors in MMME One Shot Method  from the papers:\n",
    "\n",
    "###K.I. Momot & P. W. Kuchel, Concepts in Magnetic Resonance,  Part A, v28A(2) 249-269 (2006)\n",
    "\n",
    "###Y-Q Song, Magnetic Resonance Imaging, 23, 301-303 (2005)"
   ]
  },
  {
   "cell_type": "markdown",
   "metadata": {},
   "source": [
    "<img src=\"mmme4-one-shot.png\">"
   ]
  },
  {
   "cell_type": "code",
   "execution_count": 18,
   "metadata": {
    "collapsed": false
   },
   "outputs": [],
   "source": [
    "from IPython.display import Math\n",
    "from IPython.display import Latex\n",
    "from sympy import *\n",
    "init_printing()"
   ]
  },
  {
   "cell_type": "code",
   "execution_count": 19,
   "metadata": {
    "collapsed": false
   },
   "outputs": [],
   "source": [
    "x, t,  g = symbols('x  t g')\n",
    "t1, t2, t3 = symbols(\"\\\\tau_1 \\\\tau_2 \\\\tau_3\")\n"
   ]
  },
  {
   "cell_type": "markdown",
   "metadata": {},
   "source": [
    "\n",
    "\n",
    "$$q(t) = \\int^t_0  \\gamma  p(t) g(t)  d t $$"
   ]
  },
  {
   "cell_type": "markdown",
   "metadata": {},
   "source": [
    "### Calculate q for the pulse sequence"
   ]
  },
  {
   "cell_type": "markdown",
   "metadata": {},
   "source": [
    "$$\\frac {1}{\\gamma} q(t) = \\int^{\\tau_1}_0    p(t)\\ g(t)  \\ d t  +$$"
   ]
  },
  {
   "cell_type": "markdown",
   "metadata": {},
   "source": [
    "$$     +   \\int^{\\tau_1}_0    p(t)\\ g(t) \\ d t  +   \\int^{\\tau_2}_0  p(t)\\ g(t) \\ d t $$"
   ]
  },
  {
   "cell_type": "markdown",
   "metadata": {},
   "source": [
    "$$+ \\int^{\\tau_1}_0 p(t) \\ g(t) \\  d t  + \\int^{\\tau_2}_0  p(t) \\ g(t) \\ d t + \\int^{\\tau_1+\\tau_2}_0 p(t) \\ g(t) \\ d t $$"
   ]
  },
  {
   "cell_type": "markdown",
   "metadata": {},
   "source": [
    "### Calculate $q^2$ for the pulse sequence"
   ]
  },
  {
   "cell_type": "markdown",
   "metadata": {},
   "source": [
    "$$q^2 = \\int^{\\tau_1}_0 (q(t))^2  \\ d t  +  \\int^{\\tau_2}_0 (q(t))^2  \\ d t  +  \\int^{\\tau_1+\\tau2}_0 (q(t))^2  \\ d t  $$"
   ]
  },
  {
   "cell_type": "markdown",
   "metadata": {},
   "source": [
    "### Setting $\\tau_3 = 9\\times\\tau_1  \\space and \\space \\tau_2 = 3\\times\\tau_1  \\space and \\space \\tau_1 = 1$"
   ]
  },
  {
   "cell_type": "code",
   "execution_count": 20,
   "metadata": {
    "collapsed": false
   },
   "outputs": [],
   "source": [
    "ppp = [    [ 1,  0, 0, -1],\n",
    "           [-1,  1, 0, -1],\n",
    "           [ 0,  1, 0, -1],\n",
    "           [ 1,  1, 0, -1],\n",
    "           [-1, -1, 1, -1],\n",
    "           [ 0, -1, 1, -1],\n",
    "           [ 1, -1, 1, -1],\n",
    "           [-1,  0, 1, -1],\n",
    "           [ 0,  0, 1, -1],\n",
    "           [ 1,  0, 1, -1],\n",
    "           [-1,  1, 1, -1],\n",
    "           [ 0,  1, 1, -1],\n",
    "           [ 1,  1, 1, -1]]\n",
    "\n",
    "g = [1,1,1,1]"
   ]
  },
  {
   "cell_type": "code",
   "execution_count": 27,
   "metadata": {
    "collapsed": false
   },
   "outputs": [],
   "source": [
    "output =\"$\"\n",
    "\n",
    "for p in ppp:\n",
    "    \n",
    "    time = [0,t1,t2,t3,p[0]*t1+p[1]*t2+p[2]*t3]\n",
    "\n",
    "    \n",
    "    q = []\n",
    "    for i in range(len(p)):\n",
    "        if i==0:\n",
    "            q.append(p[i] * integrate(g[i], t))\n",
    "        else:\n",
    "            q.append(q[i-1].subs(t,time[i]) + p[i]* integrate(g[i], t))\n",
    "            \n",
    "            \n",
    "    qq = []\n",
    "\n",
    "    for i in range(len(q)):\n",
    "        qq.append(  integrate((q[i])**2, (t,0,time[i+1])))\n",
    "            \n",
    "            \n",
    "    sss = qq[0]\n",
    "    for i in range(1,len(qq)):\n",
    "        sss += qq[i]\n",
    "\n",
    "    \n",
    "    sss = simplify(sss)\n",
    "    sss1 =sss.subs(t1,1)\n",
    "    sss1 =sss1.subs(t2,3)\n",
    "    sss1 = sss1.subs(t3,9)\n",
    "#    print \"$\", latex(sss1), \"\\t\\t\\t\", latex(sss),\"$\"\n",
    "#    print\n",
    "    \n",
    "    output = output  + str(latex(sss1))+  \"\\hspace{20 mm} \"+str(latex(sss)) +\" \\\\\\\\\\n\\n\"\n",
    "\n",
    "output = output + \"$\"\n",
    "\n",
    "#print output"
   ]
  },
  {
   "cell_type": "code",
   "execution_count": 28,
   "metadata": {
    "collapsed": false
   },
   "outputs": [
    {
     "data": {
      "text/latex": [
       "$\\frac{38}{3}\\hspace{20 mm} \\tau_{1}^{2} \\left(\\frac{2 \\tau_{1}}{3} + \\tau_{2} + \\tau_{3}\\right) \\\\\n",
       "\n",
       "42\\hspace{20 mm} 2 \\tau_{1}^{2} \\tau_{2} + \\tau_{1}^{2} \\tau_{3} - 2 \\tau_{1} \\tau_{2}^{2} - 2 \\tau_{1} \\tau_{2} \\tau_{3} + \\frac{2 \\tau_{2}^{3}}{3} + \\tau_{2}^{2} \\tau_{3} \\\\\n",
       "\n",
       "99\\hspace{20 mm} \\tau_{2}^{2} \\left(\\frac{2 \\tau_{2}}{3} + \\tau_{3}\\right) \\\\\n",
       "\n",
       "\\frac{560}{3}\\hspace{20 mm} \\frac{2 \\tau_{1}^{3}}{3} + 2 \\tau_{1}^{2} \\tau_{2} + \\tau_{1}^{2} \\tau_{3} + 2 \\tau_{1} \\tau_{2}^{2} + 2 \\tau_{1} \\tau_{2} \\tau_{3} + \\frac{2 \\tau_{2}^{3}}{3} + \\tau_{2}^{2} \\tau_{3} \\\\\n",
       "\n",
       "126\\hspace{20 mm} \\frac{2 \\tau_{3}}{3} \\left(3 \\tau_{1}^{2} + 6 \\tau_{1} \\tau_{2} - 3 \\tau_{1} \\tau_{3} + 3 \\tau_{2}^{2} - 3 \\tau_{2} \\tau_{3} + \\tau_{3}^{2}\\right) \\\\\n",
       "\n",
       "162\\hspace{20 mm} \\frac{2 \\tau_{3}}{3} \\left(3 \\tau_{2}^{2} - 3 \\tau_{2} \\tau_{3} + \\tau_{3}^{2}\\right) \\\\\n",
       "\n",
       "\\frac{704}{3}\\hspace{20 mm} \\frac{2 \\tau_{1}^{3}}{3} + 2 \\tau_{1}^{2} \\tau_{3} - 4 \\tau_{1} \\tau_{2} \\tau_{3} + 2 \\tau_{1} \\tau_{3}^{2} + 2 \\tau_{2}^{2} \\tau_{3} - 2 \\tau_{2} \\tau_{3}^{2} + \\frac{2 \\tau_{3}^{3}}{3} \\\\\n",
       "\n",
       "345\\hspace{20 mm} \\tau_{1}^{2} \\tau_{2} + 2 \\tau_{1}^{2} \\tau_{3} - 2 \\tau_{1} \\tau_{3}^{2} + \\frac{2 \\tau_{3}^{3}}{3} \\\\\n",
       "\n",
       "486\\hspace{20 mm} \\frac{2 \\tau_{3}^{3}}{3} \\\\\n",
       "\n",
       "\\frac{2009}{3}\\hspace{20 mm} \\frac{2 \\tau_{1}^{3}}{3} + \\tau_{1}^{2} \\tau_{2} + 2 \\tau_{1}^{2} \\tau_{3} + 2 \\tau_{1} \\tau_{3}^{2} + \\frac{2 \\tau_{3}^{3}}{3} \\\\\n",
       "\n",
       "888\\hspace{20 mm} 2 \\tau_{1}^{2} \\tau_{2} + 2 \\tau_{1}^{2} \\tau_{3} - 2 \\tau_{1} \\tau_{2}^{2} - 4 \\tau_{1} \\tau_{2} \\tau_{3} - 2 \\tau_{1} \\tau_{3}^{2} + \\frac{2 \\tau_{2}^{3}}{3} + 2 \\tau_{2}^{2} \\tau_{3} + 2 \\tau_{2} \\tau_{3}^{2} + \\frac{2 \\tau_{3}^{3}}{3} \\\\\n",
       "\n",
       "1152\\hspace{20 mm} \\frac{2 \\tau_{2}^{3}}{3} + 2 \\tau_{2}^{2} \\tau_{3} + 2 \\tau_{2} \\tau_{3}^{2} + \\frac{2 \\tau_{3}^{3}}{3} \\\\\n",
       "\n",
       "\\frac{4394}{3}\\hspace{20 mm} \\frac{2 \\tau_{1}^{3}}{3} + 2 \\tau_{1}^{2} \\tau_{2} + 2 \\tau_{1}^{2} \\tau_{3} + 2 \\tau_{1} \\tau_{2}^{2} + 4 \\tau_{1} \\tau_{2} \\tau_{3} + 2 \\tau_{1} \\tau_{3}^{2} + \\frac{2 \\tau_{2}^{3}}{3} + 2 \\tau_{2}^{2} \\tau_{3} + 2 \\tau_{2} \\tau_{3}^{2} + \\frac{2 \\tau_{3}^{3}}{3} \\\\\n",
       "\n",
       "$"
      ],
      "text/plain": [
       "<IPython.core.display.Latex object>"
      ]
     },
     "execution_count": 28,
     "metadata": {},
     "output_type": "execute_result"
    }
   ],
   "source": [
    "Latex(output)"
   ]
  },
  {
   "cell_type": "code",
   "execution_count": null,
   "metadata": {
    "collapsed": true
   },
   "outputs": [],
   "source": []
  }
 ],
 "metadata": {
  "kernelspec": {
   "display_name": "Python 2",
   "language": "python",
   "name": "python2"
  },
  "language_info": {
   "codemirror_mode": {
    "name": "ipython",
    "version": 2
   },
   "file_extension": ".py",
   "mimetype": "text/x-python",
   "name": "python",
   "nbconvert_exporter": "python",
   "pygments_lexer": "ipython2",
   "version": "2.7.8"
  }
 },
 "nbformat": 4,
 "nbformat_minor": 0
}
