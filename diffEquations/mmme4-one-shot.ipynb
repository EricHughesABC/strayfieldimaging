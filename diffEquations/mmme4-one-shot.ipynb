{
 "cells": [
  {
   "cell_type": "markdown",
   "metadata": {},
   "source": [
    "### Development of python notebook  to calculate B factors in MMME One Shot Method  from the papers:\n",
    "\n",
    "###K.I. Momot & P. W. Kuchel, Concepts in Magnetic Resonance,  Part A, v28A(2) 249-269 (2006)\n",
    "\n",
    "###Y-Q Song, Magnetic Resonance Imaging, 23, 301-303 (2005)"
   ]
  },
  {
   "cell_type": "markdown",
   "metadata": {},
   "source": [
    "###Stejskal-Tanner (ST) equation\n",
    "\n",
    "$$ E_{diff} = \\exp \\left ( -D \\gamma_{eff}^2  \\delta^2 \\sigma^2 g^2 \\Delta'  \\right ) $$"
   ]
  },
  {
   "cell_type": "markdown",
   "metadata": {},
   "source": [
    "$E_{diff}$ sigal attenuation due to diffusion\n",
    "\n",
    "$D$ Self diffusion coefficient of the molecules\n",
    "\n",
    "$\\gamma_{eff}$ is a linear combination of the gyromagnetic ratios of the nuclei studied depending on the coherence transfer pathway (CTP) of the experiment.\n",
    "\n",
    "$\\delta$ is the pulse field gradient (PFG) duration\n",
    "\n",
    "$\\sigma$ is the gradient shape factor\n",
    "\n",
    "$\\Delta'$ is the diffusion delay corrected for specific pulse sequence used.\n"
   ]
  },
  {
   "cell_type": "markdown",
   "metadata": {},
   "source": [
    "<img src=\"mmme4-one-shot.png\">"
   ]
  },
  {
   "cell_type": "code",
   "execution_count": 130,
   "metadata": {
    "collapsed": false
   },
   "outputs": [],
   "source": [
    "from IPython.display import Math\n",
    "from IPython.display import Latex\n",
    "from sympy import *\n",
    "init_printing()"
   ]
  },
  {
   "cell_type": "code",
   "execution_count": 131,
   "metadata": {
    "collapsed": false
   },
   "outputs": [],
   "source": [
    "x, y, z, t, t1, t2, ld, bd, g = symbols('x y z t, t1 t2 ld bd, g')\n",
    "delta, Delta, t1, t2, t3 = symbols(\"\\\\delta \\\\Delta \\\\tau_1 \\\\tau_2 \\\\tau_3\")\n"
   ]
  },
  {
   "cell_type": "markdown",
   "metadata": {},
   "source": [
    "\n",
    "\n",
    "$$q(t) = \\int^t_0  \\gamma  p(t) g(t)  d t $$"
   ]
  },
  {
   "cell_type": "code",
   "execution_count": 132,
   "metadata": {
    "collapsed": false
   },
   "outputs": [
    {
     "name": "stdout",
     "output_type": "stream",
     "text": [
      "Time intervals for pulse sequence given the coherence pathway p =  [1, 1, 1, -1]\n"
     ]
    },
    {
     "data": {
      "image/png": "[encoded data removed]",
      "text/latex": [
       "$$\\left [ 0, \\quad \\tau_{1}, \\quad \\tau_{2}, \\quad \\tau_{3}, \\quad \\tau_{1} + \\tau_{2} + \\tau_{3}\\right ]$$"
      ],
      "text/plain": [
       "[0, \\tau₁, \\tau₂, \\tau₃, \\tau₁ + \\tau₂ + \\tau₃]"
      ]
     },
     "execution_count": 132,
     "metadata": {},
     "output_type": "execute_result"
    }
   ],
   "source": [
    "p = [ 1,  0, 0, -1]    # 1\n",
    "p = [-1,  1, 0, -1]    # 2\n",
    "p = [ 0,  1, 0, -1]    # 3\n",
    "p = [ 1,  1, 0, -1]    # 4\n",
    "p = [-1, -1, 1, -1]    # 5\n",
    "p = [ 0, -1, 1, -1]    # 6\n",
    "p = [ 1, -1, 1, -1]    # 7\n",
    "p = [-1,  0, 1, -1]    # 8\n",
    "p = [ 0,  0, 1, -1]    # 9\n",
    "p = [ 1,  0, 1, -1]    # 10\n",
    "p = [-1,  1, 1, -1]    # 11\n",
    "p = [ 0,  1, 1, -1]    # 12\n",
    "p = [ 1,  1, 1, -1]    # 13\n",
    "\n",
    "g = [1,1,1,1]\n",
    "\n",
    "time = [0,t1,t2,t3,p[0]*t1+p[1]*t2+p[2]*t3]\n",
    "\n",
    "print \"Time intervals for pulse sequence given the coherence pathway p = \",p ; time\n",
    "\n"
   ]
  },
  {
   "cell_type": "markdown",
   "metadata": {},
   "source": [
    "### Calculate q for the pulse sequence"
   ]
  },
  {
   "cell_type": "markdown",
   "metadata": {},
   "source": [
    "$$\\frac {1}{\\gamma} q(t) = \\int^{\\tau_1}_0    p(t)\\ g(t)  \\ d t  +$$"
   ]
  },
  {
   "cell_type": "markdown",
   "metadata": {},
   "source": [
    "$$     +   \\int^{\\tau_1}_0    p(t)\\ g(t) \\ d t  +   \\int^{\\tau_2}_0  p(t)\\ g(t) \\ d t $$"
   ]
  },
  {
   "cell_type": "markdown",
   "metadata": {},
   "source": [
    "$$+ \\int^{\\tau_1}_0 p(t) \\ g(t) \\  d t  + \\int^{\\tau_2}_0  p(t) \\ g(t) \\ d t + \\int^{\\tau_1+\\tau_2}_0 p(t) \\ g(t) \\ d t $$"
   ]
  },
  {
   "cell_type": "code",
   "execution_count": 133,
   "metadata": {
    "collapsed": false
   },
   "outputs": [
    {
     "name": "stdout",
     "output_type": "stream",
     "text": [
      "Elements of q\n"
     ]
    },
    {
     "data": {
      "image/png": "[encoded data removed]",
      "text/latex": [
       "$$\\left [ t, \\quad \\tau_{1} + t, \\quad \\tau_{1} + \\tau_{2} + t, \\quad \\tau_{1} + \\tau_{2} + \\tau_{3} - t\\right ]$$"
      ],
      "text/plain": [
       "[t, \\tau₁ + t, \\tau₁ + \\tau₂ + t, \\tau₁ + \\tau₂ + \\tau₃ - t]"
      ]
     },
     "execution_count": 133,
     "metadata": {},
     "output_type": "execute_result"
    }
   ],
   "source": [
    "q = []\n",
    "for i in range(len(p)):\n",
    "\n",
    "  if i==0:\n",
    "    q.append(p[i] * integrate(g[i], t))\n",
    "  else:\n",
    "    q.append(q[i-1].subs(t,time[i]) + p[i]* integrate(g[i], t))\n",
    "\n",
    "    \n",
    "\n",
    "print \"Elements of q\";q"
   ]
  },
  {
   "cell_type": "markdown",
   "metadata": {},
   "source": [
    "### Calculate $q^2$ for the pulse sequence"
   ]
  },
  {
   "cell_type": "markdown",
   "metadata": {},
   "source": [
    "$$q^2 = \\int^{\\tau_1}_0 (q(t))^2  \\ d t  +  \\int^{\\tau_2}_0 (q(t))^2  \\ d t  +  \\int^{\\tau_1+\\tau2}_0 (q(t))^2  \\ d t  $$"
   ]
  },
  {
   "cell_type": "code",
   "execution_count": 134,
   "metadata": {
    "collapsed": false
   },
   "outputs": [],
   "source": [
    "qq = []\n",
    "\n",
    "for i in range(len(q)):  \n",
    "    qq.append(  integrate((q[i])**2, (t,0,time[i+1])))"
   ]
  },
  {
   "cell_type": "code",
   "execution_count": 135,
   "metadata": {
    "collapsed": false
   },
   "outputs": [
    {
     "name": "stdout",
     "output_type": "stream",
     "text": [
      "\\frac{2 \\tau_{1}^{3}}{3} + 2 \\tau_{1}^{2} \\tau_{2} + 2 \\tau_{1}^{2} \\tau_{3} + 2 \\tau_{1} \\tau_{2}^{2} + 4 \\tau_{1} \\tau_{2} \\tau_{3} + 2 \\tau_{1} \\tau_{3}^{2} + \\frac{2 \\tau_{2}^{3}}{3} + 2 \\tau_{2}^{2} \\tau_{3} + 2 \\tau_{2} \\tau_{3}^{2} + \\frac{2 \\tau_{3}^{3}}{3}\n",
      "Final Expression\n"
     ]
    },
    {
     "data": {
      "image/png": "[encoded data removed]",
      "text/latex": [
       "$$\\frac{2 \\tau_{1}^{3}}{3} + 2 \\tau_{1}^{2} \\tau_{2} + 2 \\tau_{1}^{2} \\tau_{3} + 2 \\tau_{1} \\tau_{2}^{2} + 4 \\tau_{1} \\tau_{2} \\tau_{3} + 2 \\tau_{1} \\tau_{3}^{2} + \\frac{2 \\tau_{2}^{3}}{3} + 2 \\tau_{2}^{2} \\tau_{3} + 2 \\tau_{2} \\tau_{3}^{2} + \\frac{2 \\tau_{3}^{3}}{3}$$"
      ],
      "text/plain": [
       "       3                                                                      \n",
       "2⋅\\tau₁           2                2                      2                   \n",
       "──────── + 2⋅\\tau₁ ⋅\\tau₂ + 2⋅\\tau₁ ⋅\\tau₃ + 2⋅\\tau₁⋅\\tau₂  + 4⋅\\tau₁⋅\\tau₂⋅\\t\n",
       "   3                                                                          \n",
       "\n",
       "                              3                                            3\n",
       "                   2   2⋅\\tau₂           2                      2   2⋅\\tau₃ \n",
       "au₃ + 2⋅\\tau₁⋅\\tau₃  + ──────── + 2⋅\\tau₂ ⋅\\tau₃ + 2⋅\\tau₂⋅\\tau₃  + ────────\n",
       "                          3                                            3    "
      ]
     },
     "execution_count": 135,
     "metadata": {},
     "output_type": "execute_result"
    }
   ],
   "source": [
    "sss = qq[0]\n",
    "for i in range(1,len(qq)):\n",
    "    sss += qq[i]\n",
    "\n",
    "    \n",
    "sss = simplify(sss)\n",
    "print latex(sss)\n",
    "print \"Final Expression\"; sss\n"
   ]
  },
  {
   "cell_type": "markdown",
   "metadata": {},
   "source": [
    "### Setting $\\tau_3 = 9\\times\\tau_1  \\space and \\space \\tau_2 = 3\\times\\tau_1  \\space and \\space \\tau_1 = 1$"
   ]
  },
  {
   "cell_type": "code",
   "execution_count": 136,
   "metadata": {
    "collapsed": false
   },
   "outputs": [
    {
     "name": "stdout",
     "output_type": "stream",
     "text": [
      "final answer\n"
     ]
    },
    {
     "data": {
      "image/png": "[encoded data removed]",
      "text/latex": [
       "$$\\frac{4394}{3}$$"
      ],
      "text/plain": [
       "4394/3"
      ]
     },
     "execution_count": 136,
     "metadata": {},
     "output_type": "execute_result"
    }
   ],
   "source": [
    "sss =sss.subs(t1,1)\n",
    "sss =sss.subs(t2,3)\n",
    "print \"final answer\";sss.subs(t3,9)"
   ]
  },
  {
   "cell_type": "code",
   "execution_count": 137,
   "metadata": {
    "collapsed": false
   },
   "outputs": [],
   "source": [
    "ppp = [    [ 1,  0, 0, -1],\n",
    "           [-1,  1, 0, -1],\n",
    "           [ 0,  1, 0, -1],\n",
    "           [ 1,  1, 0, -1],\n",
    "           [-1, -1, 1, -1],\n",
    "           [ 0, -1, 1, -1],\n",
    "           [ 1, -1, 1, -1],\n",
    "           [-1,  0, 1, -1],\n",
    "           [ 0,  0, 1, -1],\n",
    "           [ 1,  0, 1, -1],\n",
    "           [-1,  1, 1, -1],\n",
    "           [ 0,  1, 1, -1],\n",
    "           [ 1,  1, 1, -1]]\n",
    "\n",
    "g = [1,1,1,1]"
   ]
  },
  {
   "cell_type": "code",
   "execution_count": 138,
   "metadata": {
    "collapsed": false
   },
   "outputs": [
    {
     "name": "stdout",
     "output_type": "stream",
     "text": [
      "$\\frac{38}{3} \\space\\space\\space \\tau_{1}^{2} \\left(\\frac{2 \\tau_{1}}{3} + \\tau_{2} + \\tau_{3}\\right) \\\\\n",
      "\n",
      "42 \\space\\space\\space 2 \\tau_{1}^{2} \\tau_{2} + \\tau_{1}^{2} \\tau_{3} - 2 \\tau_{1} \\tau_{2}^{2} - 2 \\tau_{1} \\tau_{2} \\tau_{3} + \\frac{2 \\tau_{2}^{3}}{3} + \\tau_{2}^{2} \\tau_{3} \\\\\n",
      "\n",
      "99 \\space\\space\\space \\tau_{2}^{2} \\left(\\frac{2 \\tau_{2}}{3} + \\tau_{3}\\right) \\\\\n",
      "\n",
      "\\frac{560}{3} \\space\\space\\space \\frac{2 \\tau_{1}^{3}}{3} + 2 \\tau_{1}^{2} \\tau_{2} + \\tau_{1}^{2} \\tau_{3} + 2 \\tau_{1} \\tau_{2}^{2} + 2 \\tau_{1} \\tau_{2} \\tau_{3} + \\frac{2 \\tau_{2}^{3}}{3} + \\tau_{2}^{2} \\tau_{3} \\\\\n",
      "\n",
      "126 \\space\\space\\space \\frac{2 \\tau_{3}}{3} \\left(3 \\tau_{1}^{2} + 6 \\tau_{1} \\tau_{2} - 3 \\tau_{1} \\tau_{3} + 3 \\tau_{2}^{2} - 3 \\tau_{2} \\tau_{3} + \\tau_{3}^{2}\\right) \\\\\n",
      "\n",
      "162 \\space\\space\\space \\frac{2 \\tau_{3}}{3} \\left(3 \\tau_{2}^{2} - 3 \\tau_{2} \\tau_{3} + \\tau_{3}^{2}\\right) \\\\\n",
      "\n",
      "\\frac{704}{3} \\space\\space\\space \\frac{2 \\tau_{1}^{3}}{3} + 2 \\tau_{1}^{2} \\tau_{3} - 4 \\tau_{1} \\tau_{2} \\tau_{3} + 2 \\tau_{1} \\tau_{3}^{2} + 2 \\tau_{2}^{2} \\tau_{3} - 2 \\tau_{2} \\tau_{3}^{2} + \\frac{2 \\tau_{3}^{3}}{3} \\\\\n",
      "\n",
      "345 \\space\\space\\space \\tau_{1}^{2} \\tau_{2} + 2 \\tau_{1}^{2} \\tau_{3} - 2 \\tau_{1} \\tau_{3}^{2} + \\frac{2 \\tau_{3}^{3}}{3} \\\\\n",
      "\n",
      "486 \\space\\space\\space \\frac{2 \\tau_{3}^{3}}{3} \\\\\n",
      "\n",
      "\\frac{2009}{3} \\space\\space\\space \\frac{2 \\tau_{1}^{3}}{3} + \\tau_{1}^{2} \\tau_{2} + 2 \\tau_{1}^{2} \\tau_{3} + 2 \\tau_{1} \\tau_{3}^{2} + \\frac{2 \\tau_{3}^{3}}{3} \\\\\n",
      "\n",
      "888 \\space\\space\\space 2 \\tau_{1}^{2} \\tau_{2} + 2 \\tau_{1}^{2} \\tau_{3} - 2 \\tau_{1} \\tau_{2}^{2} - 4 \\tau_{1} \\tau_{2} \\tau_{3} - 2 \\tau_{1} \\tau_{3}^{2} + \\frac{2 \\tau_{2}^{3}}{3} + 2 \\tau_{2}^{2} \\tau_{3} + 2 \\tau_{2} \\tau_{3}^{2} + \\frac{2 \\tau_{3}^{3}}{3} \\\\\n",
      "\n",
      "1152 \\space\\space\\space \\frac{2 \\tau_{2}^{3}}{3} + 2 \\tau_{2}^{2} \\tau_{3} + 2 \\tau_{2} \\tau_{3}^{2} + \\frac{2 \\tau_{3}^{3}}{3} \\\\\n",
      "\n",
      "\\frac{4394}{3} \\space\\space\\space \\frac{2 \\tau_{1}^{3}}{3} + 2 \\tau_{1}^{2} \\tau_{2} + 2 \\tau_{1}^{2} \\tau_{3} + 2 \\tau_{1} \\tau_{2}^{2} + 4 \\tau_{1} \\tau_{2} \\tau_{3} + 2 \\tau_{1} \\tau_{3}^{2} + \\frac{2 \\tau_{2}^{3}}{3} + 2 \\tau_{2}^{2} \\tau_{3} + 2 \\tau_{2} \\tau_{3}^{2} + \\frac{2 \\tau_{3}^{3}}{3} \\\\\n",
      "\n",
      "$\n"
     ]
    }
   ],
   "source": [
    "output =\"$\"\n",
    "for p in ppp:\n",
    "    \n",
    "    time = [0,t1,t2,t3,p[0]*t1+p[1]*t2+p[2]*t3]\n",
    "\n",
    "    \n",
    "    q = []\n",
    "    for i in range(len(p)):\n",
    "        if i==0:\n",
    "            q.append(p[i] * integrate(g[i], t))\n",
    "        else:\n",
    "            q.append(q[i-1].subs(t,time[i]) + p[i]* integrate(g[i], t))\n",
    "            \n",
    "            \n",
    "    qq = []\n",
    "\n",
    "    for i in range(len(q)):\n",
    "        qq.append(  integrate((q[i])**2, (t,0,time[i+1])))\n",
    "            \n",
    "            \n",
    "    sss = qq[0]\n",
    "    for i in range(1,len(qq)):\n",
    "        sss += qq[i]\n",
    "\n",
    "    \n",
    "    sss = simplify(sss)\n",
    "    sss1 =sss.subs(t1,1)\n",
    "    sss1 =sss1.subs(t2,3)\n",
    "    sss1 = sss1.subs(t3,9)\n",
    "#    print \"$\", latex(sss1), \"\\space\\space\\space\", latex(sss),\"$\"\n",
    "#    print\n",
    "    \n",
    "    output = output  + str(latex(sss1))+  \" \\space\\space\\space \"+str(latex(sss)) +\" \\\\\\\\\\n\\n\"\n",
    "output = output + \"$\"\n",
    "\n",
    "print output"
   ]
  },
  {
   "cell_type": "code",
   "execution_count": 139,
   "metadata": {
    "collapsed": false
   },
   "outputs": [
    {
     "data": {
      "text/latex": [
       "$\\frac{38}{3} \\space\\space\\space \\tau_{1}^{2} \\left(\\frac{2 \\tau_{1}}{3} + \\tau_{2} + \\tau_{3}\\right) \\\\\n",
       "\n",
       "42 \\space\\space\\space 2 \\tau_{1}^{2} \\tau_{2} + \\tau_{1}^{2} \\tau_{3} - 2 \\tau_{1} \\tau_{2}^{2} - 2 \\tau_{1} \\tau_{2} \\tau_{3} + \\frac{2 \\tau_{2}^{3}}{3} + \\tau_{2}^{2} \\tau_{3} \\\\\n",
       "\n",
       "99 \\space\\space\\space \\tau_{2}^{2} \\left(\\frac{2 \\tau_{2}}{3} + \\tau_{3}\\right) \\\\\n",
       "\n",
       "\\frac{560}{3} \\space\\space\\space \\frac{2 \\tau_{1}^{3}}{3} + 2 \\tau_{1}^{2} \\tau_{2} + \\tau_{1}^{2} \\tau_{3} + 2 \\tau_{1} \\tau_{2}^{2} + 2 \\tau_{1} \\tau_{2} \\tau_{3} + \\frac{2 \\tau_{2}^{3}}{3} + \\tau_{2}^{2} \\tau_{3} \\\\\n",
       "\n",
       "126 \\space\\space\\space \\frac{2 \\tau_{3}}{3} \\left(3 \\tau_{1}^{2} + 6 \\tau_{1} \\tau_{2} - 3 \\tau_{1} \\tau_{3} + 3 \\tau_{2}^{2} - 3 \\tau_{2} \\tau_{3} + \\tau_{3}^{2}\\right) \\\\\n",
       "\n",
       "162 \\space\\space\\space \\frac{2 \\tau_{3}}{3} \\left(3 \\tau_{2}^{2} - 3 \\tau_{2} \\tau_{3} + \\tau_{3}^{2}\\right) \\\\\n",
       "\n",
       "\\frac{704}{3} \\space\\space\\space \\frac{2 \\tau_{1}^{3}}{3} + 2 \\tau_{1}^{2} \\tau_{3} - 4 \\tau_{1} \\tau_{2} \\tau_{3} + 2 \\tau_{1} \\tau_{3}^{2} + 2 \\tau_{2}^{2} \\tau_{3} - 2 \\tau_{2} \\tau_{3}^{2} + \\frac{2 \\tau_{3}^{3}}{3} \\\\\n",
       "\n",
       "345 \\space\\space\\space \\tau_{1}^{2} \\tau_{2} + 2 \\tau_{1}^{2} \\tau_{3} - 2 \\tau_{1} \\tau_{3}^{2} + \\frac{2 \\tau_{3}^{3}}{3} \\\\\n",
       "\n",
       "486 \\space\\space\\space \\frac{2 \\tau_{3}^{3}}{3} \\\\\n",
       "\n",
       "\\frac{2009}{3} \\space\\space\\space \\frac{2 \\tau_{1}^{3}}{3} + \\tau_{1}^{2} \\tau_{2} + 2 \\tau_{1}^{2} \\tau_{3} + 2 \\tau_{1} \\tau_{3}^{2} + \\frac{2 \\tau_{3}^{3}}{3} \\\\\n",
       "\n",
       "888 \\space\\space\\space 2 \\tau_{1}^{2} \\tau_{2} + 2 \\tau_{1}^{2} \\tau_{3} - 2 \\tau_{1} \\tau_{2}^{2} - 4 \\tau_{1} \\tau_{2} \\tau_{3} - 2 \\tau_{1} \\tau_{3}^{2} + \\frac{2 \\tau_{2}^{3}}{3} + 2 \\tau_{2}^{2} \\tau_{3} + 2 \\tau_{2} \\tau_{3}^{2} + \\frac{2 \\tau_{3}^{3}}{3} \\\\\n",
       "\n",
       "1152 \\space\\space\\space \\frac{2 \\tau_{2}^{3}}{3} + 2 \\tau_{2}^{2} \\tau_{3} + 2 \\tau_{2} \\tau_{3}^{2} + \\frac{2 \\tau_{3}^{3}}{3} \\\\\n",
       "\n",
       "\\frac{4394}{3} \\space\\space\\space \\frac{2 \\tau_{1}^{3}}{3} + 2 \\tau_{1}^{2} \\tau_{2} + 2 \\tau_{1}^{2} \\tau_{3} + 2 \\tau_{1} \\tau_{2}^{2} + 4 \\tau_{1} \\tau_{2} \\tau_{3} + 2 \\tau_{1} \\tau_{3}^{2} + \\frac{2 \\tau_{2}^{3}}{3} + 2 \\tau_{2}^{2} \\tau_{3} + 2 \\tau_{2} \\tau_{3}^{2} + \\frac{2 \\tau_{3}^{3}}{3} \\\\\n",
       "\n",
       "$"
      ],
      "text/plain": [
       "<IPython.core.display.Latex object>"
      ]
     },
     "execution_count": 139,
     "metadata": {},
     "output_type": "execute_result"
    }
   ],
   "source": [
    "Latex(output)"
   ]
  },
  {
   "cell_type": "code",
   "execution_count": null,
   "metadata": {
    "collapsed": true
   },
   "outputs": [],
   "source": []
  }
 ],
 "metadata": {
  "kernelspec": {
   "display_name": "Python 2",
   "language": "python",
   "name": "python2"
  },
  "language_info": {
   "codemirror_mode": {
    "name": "ipython",
    "version": 2
   },
   "file_extension": ".py",
   "mimetype": "text/x-python",
   "name": "python",
   "nbconvert_exporter": "python",
   "pygments_lexer": "ipython2",
   "version": "2.7.8"
  }
 },
 "nbformat": 4,
 "nbformat_minor": 0
}
