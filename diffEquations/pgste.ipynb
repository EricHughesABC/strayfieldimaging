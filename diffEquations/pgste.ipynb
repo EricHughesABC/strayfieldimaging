{
 "cells": [
  {
   "cell_type": "markdown",
   "metadata": {},
   "source": [
    "### Python notebook  to calculate Diffusion equation for PGSTE sequence with square gradient pulses:\n",
    "\n",
    "#### K.I. Momot & P. W. Kuchel, Concepts in Magnetic Resonance,  Part A, v28A(2) 249-269 (2006)\n",
    "\n"
   ]
  },
  {
   "cell_type": "markdown",
   "metadata": {},
   "source": [
    "<img src=\"pgste.png\">"
   ]
  },
  {
   "cell_type": "code",
   "execution_count": 1,
   "metadata": {
    "collapsed": false
   },
   "outputs": [],
   "source": [
    "from sympy import *\n",
    "init_printing()"
   ]
  },
  {
   "cell_type": "code",
   "execution_count": 2,
   "metadata": {
    "collapsed": false
   },
   "outputs": [],
   "source": [
    "delta, Delta, t1, t2, epsilon, t, g = symbols(\"\\\\delta \\\\Delta \\\\tau_1 \\\\tau_2 \\\\epsilon t g\")"
   ]
  },
  {
   "cell_type": "markdown",
   "metadata": {},
   "source": [
    "\n",
    "\n",
    "$$q(t) = \\int^t_0  \\gamma  p(t) g(t)  d t $$"
   ]
  },
  {
   "cell_type": "code",
   "execution_count": 3,
   "metadata": {
    "collapsed": false
   },
   "outputs": [
    {
     "name": "stdout",
     "output_type": "stream",
     "text": [
      "Time intervals for pulse sequence given the coherence pathway p =  [1, 1, 1, 0, -1, -1, -1]\n"
     ]
    },
    {
     "data": {
      "image/png": "[encoded data removed]",
      "text/latex": [
       "$$\\left [ 0, \\quad \\epsilon, \\quad \\delta, \\quad \\tau_1, \\quad \\tau_2, \\quad \\epsilon, \\quad \\delta, \\quad \\tau_1\\right ]$$"
      ],
      "text/plain": [
       "[0, \\epsilon, \\delta, \\tau₁, \\tau₂, \\epsilon, \\delta, \\tau₁]"
      ]
     },
     "execution_count": 3,
     "metadata": {},
     "output_type": "execute_result"
    }
   ],
   "source": [
    "time = [0, epsilon, delta, t1, t2, epsilon, delta, t1 ]\n",
    "g =    [   0,       1,     0,  0,  0,       1,     0  ]\n",
    "p =    [   1,       1,     1,  0, -1,      -1,     -1 ]\n",
    "\n",
    "\n",
    "print \"Time intervals for pulse sequence given the coherence pathway p = \",p ; time"
   ]
  },
  {
   "cell_type": "markdown",
   "metadata": {},
   "source": [
    "### Calculate q for the pulse sequence"
   ]
  },
  {
   "cell_type": "markdown",
   "metadata": {},
   "source": [
    "\\begin{equation}\n",
    "\\begin{split}\n",
    "\\frac {1}{\\gamma} q(t) &= \\int^{\\epsilon}_0    p(t)\\ g(t)  \\ d t  \\\\\n",
    "&+   \\int^{\\epsilon}_0    p(t)\\ g(t) \\ d t  +   \\int^{\\delta}_0  p(t)\\ g(t) \\ d t \\\\\n",
    "&+ \\int^{\\epsilon}_0 p(t) \\ g(t) \\  d t  + \\int^{\\delta}_0  p(t) \\ g(t) \\ d t + \\int^{\\tau_1}_0 p(t) \\ g(t) \\ d t \\\\\n",
    "&+ \\int^{\\epsilon}_0 p(t) \\ g(t) \\  d t  + \\int^{\\delta}_0  p(t) \\ g(t) \\ d t + \\int^{\\tau_1}_0 p(t) \\ g(t) \\ d t + \\int^{\\tau_2}_0 p(t) \\ g(t) \\ d t \\\\\n",
    "&+ \\int^{\\epsilon}_0 p(t) \\ g(t) \\  d t  + \\int^{\\delta}_0  p(t) \\ g(t) \\ d t + \\int^{\\tau_1}_0 p(t) \\ g(t) \\ d t + \\int^{\\tau_2}_0 p(t) \\ g(t) \\ d t + \\int^{\\epsilon}_0 p(t) \\ g(t) \\ d t \\\\\n",
    "&+ \\int^{\\epsilon}_0 p(t) \\ g(t) \\  d t  + \\int^{\\delta}_0  p(t) \\ g(t) \\ d t + \\int^{\\tau_1}_0 p(t) \\ g(t) \\ d t + \\int^{\\tau_2}_0 p(t) \\ g(t) \\ d t + \\int^{\\epsilon}_0 p(t) \\ g(t) \\ d t + \\int^{\\delta}_0 p(t) \\ g(t) \\ d t \\\\\n",
    "&+ \\int^{\\epsilon}_0 p(t) \\ g(t) \\  d t  + \\int^{\\delta}_0  p(t) \\ g(t) \\ d t + \\int^{\\tau_1}_0 p(t) \\ g(t) \\ d t + \\int^{\\tau_2}_0 p(t) \\ g(t) \\ d t + \\int^{\\epsilon}_0 p(t) \\ g(t) \\ d t + \\int^{\\delta}_0 p(t) \\ g(t) \\ d t + \\int^{\\tau_1}_0 p(t) \\ g(t) \\ d t\n",
    "\\end{split}\n",
    "\\end{equation}"
   ]
  },
  {
   "cell_type": "code",
   "execution_count": 4,
   "metadata": {
    "collapsed": false
   },
   "outputs": [
    {
     "name": "stdout",
     "output_type": "stream",
     "text": [
      "Elements of q\n"
     ]
    },
    {
     "data": {
      "image/png": "[encoded data removed]",
      "text/latex": [
       "$$\\left [ 0, \\quad t, \\quad \\delta, \\quad \\delta, \\quad \\delta, \\quad \\delta - t, \\quad 0\\right ]$$"
      ],
      "text/plain": [
       "[0, t, \\delta, \\delta, \\delta, \\delta - t, 0]"
      ]
     },
     "execution_count": 4,
     "metadata": {},
     "output_type": "execute_result"
    }
   ],
   "source": [
    "q = []\n",
    "for i in range(len(p)):\n",
    "\n",
    "  if i==0:\n",
    "    q.append(p[i] * integrate(g[i], t))\n",
    "  else:\n",
    "    q.append(q[i-1].subs(t,time[i]) + p[i]* integrate(g[i], t))\n",
    "    \n",
    "    \n",
    "\n",
    "print \"Elements of q\";q"
   ]
  },
  {
   "cell_type": "markdown",
   "metadata": {},
   "source": [
    "### Calculate $q^2$ for the pulse sequence"
   ]
  },
  {
   "cell_type": "markdown",
   "metadata": {},
   "source": [
    "\\begin{equation}\n",
    "q^2 = \\int^{\\epsilon}_0 (q(t))^2 \\  d t  + \\int^{\\delta}_0 (q(t))^2 \\ d t + \\int^{\\tau_1}_0  (q(t))^2+ \\int^{\\tau_2}_0 (q(t))^2 \\ d t + \\int^{\\epsilon}_0 (q(t))^2 \\ d t + \\int^{\\delta}_0 p(t)(q(t))^2 + \\int^{\\tau_1}_0 (q(t))^2 \\ d t\n",
    "\\end{equation}\n"
   ]
  },
  {
   "cell_type": "code",
   "execution_count": 5,
   "metadata": {
    "collapsed": false
   },
   "outputs": [
    {
     "name": "stdout",
     "output_type": "stream",
     "text": [
      "Integral of q_sq\n"
     ]
    },
    {
     "data": {
      "image/png": "[encoded data removed]",
      "text/latex": [
       "$$\\frac{2 \\delta^{3}}{3} + \\delta^{2} \\epsilon + \\delta^{2} \\tau_1 + \\delta^{2} \\tau_2$$"
      ],
      "text/plain": [
       "        3                                                   \n",
       "2⋅\\delta          2                  2               2      \n",
       "───────── + \\delta ⋅\\epsilon + \\delta ⋅\\tau₁ + \\delta ⋅\\tau₂\n",
       "    3                                                       "
      ]
     },
     "execution_count": 5,
     "metadata": {},
     "output_type": "execute_result"
    }
   ],
   "source": [
    "q_sq = 0\n",
    "\n",
    "for i in range(len(q)):  \n",
    "    q_sq +=  integrate((q[i])**2, (t,0,time[i+1]))\n",
    "\n",
    "print \"Integral of q_sq\"; q_sq"
   ]
  },
  {
   "cell_type": "code",
   "execution_count": 6,
   "metadata": {
    "collapsed": false
   },
   "outputs": [
    {
     "name": "stdout",
     "output_type": "stream",
     "text": [
      "Final Expression\n"
     ]
    },
    {
     "data": {
      "image/png": "[encoded data removed]",
      "text/latex": [
       "$$\\delta^{2} \\left(\\frac{2 \\delta}{3} + \\epsilon + \\tau_1 + \\tau_2\\right)$$"
      ],
      "text/plain": [
       "      2 ⎛2⋅\\delta                           ⎞\n",
       "\\delta ⋅⎜──────── + \\epsilon + \\tau₁ + \\tau₂⎟\n",
       "        ⎝   3                               ⎠"
      ]
     },
     "execution_count": 6,
     "metadata": {},
     "output_type": "execute_result"
    }
   ],
   "source": [
    "sss = simplify(q_sq)\n",
    "print \"Final Expression\"; sss"
   ]
  },
  {
   "cell_type": "markdown",
   "metadata": {},
   "source": [
    "### From the pulse sequence, setting \n",
    "\\begin{equation}\n",
    "\\tau_1 + \\tau_2 + \\epsilon = \\Delta-\\delta\n",
    "\\end{equation}"
   ]
  },
  {
   "cell_type": "code",
   "execution_count": 7,
   "metadata": {
    "collapsed": false
   },
   "outputs": [
    {
     "name": "stdout",
     "output_type": "stream",
     "text": [
      "Final Answer\n"
     ]
    },
    {
     "data": {
      "image/png": "[encoded data removed]",
      "text/latex": [
       "$$\\delta^{2} \\left(\\Delta - \\frac{\\delta}{3}\\right)$$"
      ],
      "text/plain": [
       "      2 ⎛         \\delta⎞\n",
       "\\delta ⋅⎜\\Delta - ──────⎟\n",
       "        ⎝           3   ⎠"
      ]
     },
     "execution_count": 7,
     "metadata": {},
     "output_type": "execute_result"
    }
   ],
   "source": [
    "sss =sss.subs(t2+t1+epsilon,Delta-delta,)\n",
    "print \"Final Answer\";sss"
   ]
  },
  {
   "cell_type": "code",
   "execution_count": null,
   "metadata": {
    "collapsed": true
   },
   "outputs": [],
   "source": []
  }
 ],
 "metadata": {
  "kernelspec": {
   "display_name": "Python 2",
   "language": "python",
   "name": "python2"
  },
  "language_info": {
   "codemirror_mode": {
    "name": "ipython",
    "version": 2
   },
   "file_extension": ".py",
   "mimetype": "text/x-python",
   "name": "python",
   "nbconvert_exporter": "python",
   "pygments_lexer": "ipython2",
   "version": "2.7.11"
  }
 },
 "nbformat": 4,
 "nbformat_minor": 0
}
