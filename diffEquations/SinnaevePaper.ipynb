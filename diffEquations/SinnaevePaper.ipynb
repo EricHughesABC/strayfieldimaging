{
 "cells": [
  {
   "cell_type": "markdown",
   "metadata": {},
   "source": [
    "### Development of pyhon notebook  from the paper:\n",
    "\n",
    "###D. Sinnaeve, Concepts in Magnetic Resonance,  Part A, v40A(2) 39-65 (2012)"
   ]
  },
  {
   "cell_type": "markdown",
   "metadata": {},
   "source": [
    "###Stejskal-Tanner (ST) equation\n",
    "\n",
    "$$ E_{diff} = \\exp \\left ( -D \\gamma_{eff}^2  \\delta^2 \\sigma^2 g^2 \\Delta'  \\right ) $$"
   ]
  },
  {
   "cell_type": "markdown",
   "metadata": {},
   "source": [
    "$E_{diff}$ sigal attenuation due to diffusion\n",
    "\n",
    "$D$ Self diffusion coefficient of the molecules\n",
    "\n",
    "$\\gamma_{eff}$ is a linear combination of the gyromagnetic ratios of the nuclei studied depending on the coherence transfer pathway (CTP) of the experiment.\n",
    "\n",
    "$\\delta$ is te pulse field gradient (PFG) duration\n",
    "\n",
    "$\\sigma$ is the gradient shape factor\n",
    "\n",
    "$\\Delta'$ is the diffusion delay corrected for specific pulse sequence used.\n"
   ]
  },
  {
   "cell_type": "markdown",
   "metadata": {},
   "source": [
    "###Shape factor $\\sigma$ , equation (9)\n",
    "\n",
    "$$\\sigma = \\int^1_0  s \\left ( \\epsilon \\right ) d \\epsilon $$"
   ]
  },
  {
   "cell_type": "markdown",
   "metadata": {},
   "source": [
    "### shape factor $\\lambda$, equation (10)\n",
    "\n",
    "$$ \\lambda = \\frac {1}{\\sigma} \\int^1_0 S \\left ( \\epsilon \\right ) d \\epsilon $$"
   ]
  },
  {
   "cell_type": "markdown",
   "metadata": {},
   "source": [
    "### Shape factor $\\kappa$, equation (11)\n",
    "\n",
    "$$ \\kappa = \\frac {1}{\\sigma^2}  \\int^1_0 S^2 \\left ( \\epsilon \\right ) d \\epsilon $$"
   ]
  },
  {
   "cell_type": "markdown",
   "metadata": {},
   "source": [
    "###with\n",
    "\n",
    "$$ S \\left ( \\epsilon \\right ) = \\int^\\epsilon_0  s \\left ( \\epsilon \\right ) d \\epsilon $$"
   ]
  },
  {
   "cell_type": "code",
   "execution_count": null,
   "metadata": {
    "collapsed": false
   },
   "outputs": [],
   "source": [
    "from sympy import *\n",
    "init_session()"
   ]
  },
  {
   "cell_type": "code",
   "execution_count": null,
   "metadata": {
    "collapsed": false
   },
   "outputs": [],
   "source": [
    "x, y, z, t, t1, t2, ld, bd, g = symbols('x y z t, t1 t2 ld bd, g')\n"
   ]
  },
  {
   "cell_type": "markdown",
   "metadata": {},
   "source": [
    "\n",
    "\n",
    "$$q(t) = \\int^t_0  \\gamma p(t) g(t)  d t $$"
   ]
  },
  {
   "cell_type": "code",
   "execution_count": null,
   "metadata": {
    "collapsed": false
   },
   "outputs": [],
   "source": [
    "p = [1, 0, -1]\n",
    "\n",
    "tau = [0,ld,bd,p[0]*ld+p[1]*bd]\n",
    "\n",
    "#tau = [0,ld,bd,bd]\n",
    "\n",
    "print tau\n"
   ]
  },
  {
   "cell_type": "code",
   "execution_count": null,
   "metadata": {
    "collapsed": true
   },
   "outputs": [],
   "source": [
    "g = [1,1,1]"
   ]
  },
  {
   "cell_type": "code",
   "execution_count": null,
   "metadata": {
    "collapsed": false
   },
   "outputs": [],
   "source": [
    "q = []\n",
    "for i in range(len(co)):\n",
    "\n",
    "  if i==0:\n",
    "    q.append(p[i] * integrate(g[i], t))\n",
    "  else:\n",
    "    q.append(q[i-1].subs(x,tau[i]) + p[i]* integrate(g[i], t))\n",
    "\n",
    "    \n",
    "\n",
    "print \"q =\", q"
   ]
  },
  {
   "cell_type": "code",
   "execution_count": null,
   "metadata": {
    "collapsed": false
   },
   "outputs": [],
   "source": [
    "qq = []\n",
    "\n",
    "for i in range(len(q)):  \n",
    "    qq.append(  integrate((q[i])**2, (t,0,tau[i+1])))"
   ]
  },
  {
   "cell_type": "code",
   "execution_count": null,
   "metadata": {
    "collapsed": false
   },
   "outputs": [],
   "source": [
    "sss = qq[0]\n",
    "for i in range(1,len(qq)):\n",
    "    sss += qq[i]\n",
    "\n",
    "print simplify(sss)\n"
   ]
  },
  {
   "cell_type": "code",
   "execution_count": null,
   "metadata": {
    "collapsed": false
   },
   "outputs": [],
   "source": [
    "sss =sss.subs(ld,1)"
   ]
  },
  {
   "cell_type": "code",
   "execution_count": null,
   "metadata": {
    "collapsed": false
   },
   "outputs": [],
   "source": []
  },
  {
   "cell_type": "code",
   "execution_count": null,
   "metadata": {
    "collapsed": true
   },
   "outputs": [],
   "source": []
  }
 ],
 "metadata": {
  "kernelspec": {
   "display_name": "Python 2",
   "language": "python",
   "name": "python2"
  },
  "language_info": {
   "codemirror_mode": {
    "name": "ipython",
    "version": 2
   },
   "file_extension": ".py",
   "mimetype": "text/x-python",
   "name": "python",
   "nbconvert_exporter": "python",
   "pygments_lexer": "ipython2",
   "version": "2.7.8"
  }
 },
 "nbformat": 4,
 "nbformat_minor": 0
}
