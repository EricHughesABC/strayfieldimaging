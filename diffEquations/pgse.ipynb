{
 "cells": [
  {
   "cell_type": "markdown",
   "metadata": {},
   "source": [
    "### Development of python notebook  to calculate B factors in MMME One Shot Method  from the papers:\n",
    "\n",
    "###K.I. Momot & P. W. Kuchel, Concepts in Magnetic Resonance,  Part A, v28A(2) 249-269 (2006)\n",
    "\n",
    "###Y-Q Song, Magnetic Resonance Imaging, 23, 301-303 (2005)"
   ]
  },
  {
   "cell_type": "markdown",
   "metadata": {},
   "source": [
    "###Stejskal-Tanner (ST) equation\n",
    "\n",
    "$$ E_{diff} = \\exp \\left ( -D \\gamma_{eff}^2  \\delta^2 \\sigma^2 g^2 \\Delta'  \\right ) $$"
   ]
  },
  {
   "cell_type": "markdown",
   "metadata": {},
   "source": [
    "$E_{diff}$ sigal attenuation due to diffusion\n",
    "\n",
    "$D$ Self diffusion coefficient of the molecules\n",
    "\n",
    "$\\gamma_{eff}$ is a linear combination of the gyromagnetic ratios of the nuclei studied depending on the coherence transfer pathway (CTP) of the experiment.\n",
    "\n",
    "$\\delta$ is the pulse field gradient (PFG) duration\n",
    "\n",
    "$\\sigma$ is the gradient shape factor\n",
    "\n",
    "$\\Delta'$ is the diffusion delay corrected for specific pulse sequence used.\n"
   ]
  },
  {
   "cell_type": "markdown",
   "metadata": {},
   "source": [
    "<img src=\"mmme-one-shot3.png\">"
   ]
  },
  {
   "cell_type": "code",
   "execution_count": 46,
   "metadata": {
    "collapsed": false
   },
   "outputs": [],
   "source": [
    "from sympy import *\n",
    "init_printing()"
   ]
  },
  {
   "cell_type": "code",
   "execution_count": 47,
   "metadata": {
    "collapsed": false
   },
   "outputs": [],
   "source": [
    "x, y, z, t, t1, t2, ld, bd, g = symbols('x y z t, t1 t2 ld bd, g')\n",
    "delta, Delta, t1, t2 = symbols(\"\\\\delta \\\\Delta \\\\tau_1 \\\\tau_2\")\n"
   ]
  },
  {
   "cell_type": "markdown",
   "metadata": {},
   "source": [
    "\n",
    "\n",
    "$$q(t) = \\int^t_0  \\gamma  p(t) g(t)  d t $$"
   ]
  },
  {
   "cell_type": "code",
   "execution_count": 53,
   "metadata": {
    "collapsed": false
   },
   "outputs": [
    {
     "name": "stdout",
     "output_type": "stream",
     "text": [
      "Time intervals for pulse sequence given the coherence pathway p =  [1, 0, -1]\n"
     ]
    },
    {
     "data": {
      "image/png": "[encoded data removed]",
      "text/latex": [
       "$$\\left [ 0, \\quad \\delta, \\quad \\Delta, \\quad \\delta\\right ]$$"
      ],
      "text/plain": [
       "[0, \\delta, \\Delta, \\delta]"
      ]
     },
     "execution_count": 53,
     "metadata": {},
     "output_type": "execute_result"
    }
   ],
   "source": [
    "#p = [1, 1, -1]\n",
    "\n",
    "#g = [1,1,1]\n",
    "\n",
    "#time = [0,t1,t2,p[0]*t1+p[1]*t2]\n",
    "\n",
    "p = [1,0, -1]\n",
    "\n",
    "g = [1,0,1]\n",
    "\n",
    "#0, \n",
    "time = [0,delta,Delta, delta]\n",
    "print \"Time intervals for pulse sequence given the coherence pathway p = \",p ; time\n",
    "\n"
   ]
  },
  {
   "cell_type": "markdown",
   "metadata": {},
   "source": [
    "### Calculate q for the pulse sequence"
   ]
  },
  {
   "cell_type": "markdown",
   "metadata": {},
   "source": [
    "$$\\frac {1}{\\gamma} q(t) = \\int^{\\tau_1}_0    p(t)\\ g(t)  \\ d t  +$$"
   ]
  },
  {
   "cell_type": "markdown",
   "metadata": {},
   "source": [
    "$$     +   \\int^{\\tau_1}_0    p(t)\\ g(t) \\ d t  +   \\int^{\\tau_2}_0  p(t)\\ g(t) \\ d t $$"
   ]
  },
  {
   "cell_type": "markdown",
   "metadata": {},
   "source": [
    "$$+ \\int^{\\tau_1}_0 p(t) \\ g(t) \\  d t  + \\int^{\\tau_2}_0  p(t) \\ g(t) \\ d t + \\int^{\\tau_1+\\tau_2}_0 p(t) \\ g(t) \\ d t $$"
   ]
  },
  {
   "cell_type": "code",
   "execution_count": 54,
   "metadata": {
    "collapsed": false
   },
   "outputs": [
    {
     "name": "stdout",
     "output_type": "stream",
     "text": [
      "Elements of q\n"
     ]
    },
    {
     "data": {
      "image/png": "[encoded data removed]",
      "text/latex": [
       "$$\\left [ t, \\quad \\delta, \\quad \\delta - t\\right ]$$"
      ],
      "text/plain": [
       "[t, \\delta, \\delta - t]"
      ]
     },
     "execution_count": 54,
     "metadata": {},
     "output_type": "execute_result"
    }
   ],
   "source": [
    "q = []\n",
    "for i in range(len(p)):\n",
    "\n",
    "  if i==0:\n",
    "    q.append(p[i] * integrate(g[i], t))\n",
    "  else:\n",
    "    q.append(q[i-1].subs(t,time[i]) + p[i]* integrate(g[i], t))\n",
    "\n",
    "    \n",
    "\n",
    "print \"Elements of q\";q"
   ]
  },
  {
   "cell_type": "markdown",
   "metadata": {},
   "source": [
    "### Calculate $q^2$ for the pulse sequence"
   ]
  },
  {
   "cell_type": "markdown",
   "metadata": {},
   "source": [
    "$$q^2 = \\int^{\\tau_1}_0 (q(t))^2  \\ d t  +  \\int^{\\tau_2}_0 (q(t))^2  \\ d t  +  \\int^{\\tau_1+\\tau2}_0 (q(t))^2  \\ d t  $$"
   ]
  },
  {
   "cell_type": "code",
   "execution_count": 55,
   "metadata": {
    "collapsed": false
   },
   "outputs": [
    {
     "data": {
      "image/png": "[encoded data removed]",
      "text/latex": [
       "$$\\left [ \\frac{\\delta^{3}}{3}, \\quad \\Delta \\delta^{2}, \\quad \\frac{\\delta^{3}}{3}\\right ]$$"
      ],
      "text/plain": [
       "⎡      3                        3⎤\n",
       "⎢\\delta                2  \\delta ⎥\n",
       "⎢───────, \\Delta⋅\\delta , ───────⎥\n",
       "⎣   3                        3   ⎦"
      ]
     },
     "execution_count": 55,
     "metadata": {},
     "output_type": "execute_result"
    }
   ],
   "source": [
    "qq = []\n",
    "\n",
    "for i in range(len(q)):  \n",
    "    qq.append(  integrate((q[i])**2, (t,0,time[i+1])))\n",
    "    \n",
    "qq"
   ]
  },
  {
   "cell_type": "code",
   "execution_count": 56,
   "metadata": {
    "collapsed": false
   },
   "outputs": [
    {
     "name": "stdout",
     "output_type": "stream",
     "text": [
      "Final Expression\n"
     ]
    },
    {
     "data": {
      "image/png": "[encoded data removed]",
      "text/latex": [
       "$$\\delta^{2} \\left(\\Delta + \\frac{2 \\delta}{3}\\right)$$"
      ],
      "text/plain": [
       "      2 ⎛         2⋅\\delta⎞\n",
       "\\delta ⋅⎜\\Delta + ────────⎟\n",
       "        ⎝            3    ⎠"
      ]
     },
     "execution_count": 56,
     "metadata": {},
     "output_type": "execute_result"
    }
   ],
   "source": [
    "sss = qq[0]\n",
    "for i in range(1,len(qq)):\n",
    "    sss += qq[i]\n",
    "\n",
    "print \"Final Expression\"; simplify(sss)\n"
   ]
  },
  {
   "cell_type": "markdown",
   "metadata": {},
   "source": [
    "### Setting $\\tau_2 = 3\\times\\tau_1  \\space and \\space \\tau_1 = 1$"
   ]
  },
  {
   "cell_type": "code",
   "execution_count": 52,
   "metadata": {
    "collapsed": false
   },
   "outputs": [
    {
     "name": "stdout",
     "output_type": "stream",
     "text": [
      "final answer\n"
     ]
    },
    {
     "data": {
      "image/png": "[encoded data removed]",
      "text/latex": [
       "$$\\Delta \\delta^{2} + \\frac{\\delta^{3}}{3} + \\delta^{2} \\left(\\Delta + \\delta\\right) - \\delta \\left(\\Delta + \\delta\\right)^{2} + \\frac{1}{3} \\left(\\Delta + \\delta\\right)^{3}$$"
      ],
      "text/plain": [
       "                       3                                                      \n",
       "             2   \\delta          2                                            \n",
       "\\Delta⋅\\delta  + ─────── + \\delta ⋅(\\Delta + \\delta) - \\delta⋅(\\Delta + \\delta\n",
       "                    3                                                         \n",
       "\n",
       "                      3\n",
       " 2   (\\Delta + \\delta) \n",
       ")  + ──────────────────\n",
       "             3         "
      ]
     },
     "execution_count": 52,
     "metadata": {},
     "output_type": "execute_result"
    }
   ],
   "source": [
    "sss =sss.subs(t1,1)\n",
    "print \"final answer\";sss.subs(t2,3)"
   ]
  },
  {
   "cell_type": "code",
   "execution_count": null,
   "metadata": {
    "collapsed": true
   },
   "outputs": [],
   "source": []
  }
 ],
 "metadata": {
  "kernelspec": {
   "display_name": "Python 2",
   "language": "python",
   "name": "python2"
  },
  "language_info": {
   "codemirror_mode": {
    "name": "ipython",
    "version": 2
   },
   "file_extension": ".py",
   "mimetype": "text/x-python",
   "name": "python",
   "nbconvert_exporter": "python",
   "pygments_lexer": "ipython2",
   "version": "2.7.11"
  }
 },
 "nbformat": 4,
 "nbformat_minor": 0
}
