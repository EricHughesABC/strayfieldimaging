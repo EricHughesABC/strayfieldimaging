{
 "cells": [
  {
   "cell_type": "code",
   "execution_count": 1,
   "metadata": {
    "collapsed": true
   },
   "outputs": [],
   "source": [
    "import sys"
   ]
  },
  {
   "cell_type": "code",
   "execution_count": 3,
   "metadata": {
    "collapsed": false
   },
   "outputs": [
    {
     "data": {
      "text/plain": [
       "['__add__',\n",
       " '__class__',\n",
       " '__contains__',\n",
       " '__delattr__',\n",
       " '__delitem__',\n",
       " '__delslice__',\n",
       " '__doc__',\n",
       " '__eq__',\n",
       " '__format__',\n",
       " '__ge__',\n",
       " '__getattribute__',\n",
       " '__getitem__',\n",
       " '__getslice__',\n",
       " '__gt__',\n",
       " '__hash__',\n",
       " '__iadd__',\n",
       " '__imul__',\n",
       " '__init__',\n",
       " '__iter__',\n",
       " '__le__',\n",
       " '__len__',\n",
       " '__lt__',\n",
       " '__mul__',\n",
       " '__ne__',\n",
       " '__new__',\n",
       " '__reduce__',\n",
       " '__reduce_ex__',\n",
       " '__repr__',\n",
       " '__reversed__',\n",
       " '__rmul__',\n",
       " '__setattr__',\n",
       " '__setitem__',\n",
       " '__setslice__',\n",
       " '__sizeof__',\n",
       " '__str__',\n",
       " '__subclasshook__',\n",
       " 'append',\n",
       " 'count',\n",
       " 'extend',\n",
       " 'index',\n",
       " 'insert',\n",
       " 'pop',\n",
       " 'remove',\n",
       " 'reverse',\n",
       " 'sort']"
      ]
     },
     "execution_count": 3,
     "metadata": {},
     "output_type": "execute_result"
    }
   ],
   "source": [
    "dir(sys.path)"
   ]
  },
  {
   "cell_type": "code",
   "execution_count": 4,
   "metadata": {
    "collapsed": false
   },
   "outputs": [
    {
     "name": "stdout",
     "output_type": "stream",
     "text": [
      "['', 'Z:\\\\Documents\\\\Continuum\\\\Anaconda2\\\\python27.zip', 'Z:\\\\Documents\\\\Continuum\\\\Anaconda2\\\\DLLs', 'Z:\\\\Documents\\\\Continuum\\\\Anaconda2\\\\lib', 'Z:\\\\Documents\\\\Continuum\\\\Anaconda2\\\\lib\\\\plat-win', 'Z:\\\\Documents\\\\Continuum\\\\Anaconda2\\\\lib\\\\lib-tk', 'Z:\\\\Documents\\\\Continuum\\\\Anaconda2', 'z:\\\\documents\\\\continuum\\\\anaconda2\\\\lib\\\\site-packages\\\\sphinx-1.3.5-py2.7.egg', 'z:\\\\documents\\\\continuum\\\\anaconda2\\\\lib\\\\site-packages\\\\setuptools-20.3-py2.7.egg', 'Z:\\\\Documents\\\\Continuum\\\\Anaconda2\\\\lib\\\\site-packages', 'Z:\\\\Documents\\\\Continuum\\\\Anaconda2\\\\lib\\\\site-packages\\\\win32', 'Z:\\\\Documents\\\\Continuum\\\\Anaconda2\\\\lib\\\\site-packages\\\\win32\\\\lib', 'Z:\\\\Documents\\\\Continuum\\\\Anaconda2\\\\lib\\\\site-packages\\\\Pythonwin', 'Z:\\\\Documents\\\\Continuum\\\\Anaconda2\\\\lib\\\\site-packages\\\\IPython\\\\extensions', 'C:\\\\Users\\\\flph74\\\\.ipython']\n"
     ]
    }
   ],
   "source": [
    "print sys.path"
   ]
  },
  {
   "cell_type": "code",
   "execution_count": 7,
   "metadata": {
    "collapsed": true
   },
   "outputs": [],
   "source": [
    "sys.path.append(\"..\\\\.\")"
   ]
  },
  {
   "cell_type": "code",
   "execution_count": 8,
   "metadata": {
    "collapsed": false
   },
   "outputs": [
    {
     "name": "stdout",
     "output_type": "stream",
     "text": [
      "['', 'Z:\\\\Documents\\\\Continuum\\\\Anaconda2\\\\python27.zip', 'Z:\\\\Documents\\\\Continuum\\\\Anaconda2\\\\DLLs', 'Z:\\\\Documents\\\\Continuum\\\\Anaconda2\\\\lib', 'Z:\\\\Documents\\\\Continuum\\\\Anaconda2\\\\lib\\\\plat-win', 'Z:\\\\Documents\\\\Continuum\\\\Anaconda2\\\\lib\\\\lib-tk', 'Z:\\\\Documents\\\\Continuum\\\\Anaconda2', 'z:\\\\documents\\\\continuum\\\\anaconda2\\\\lib\\\\site-packages\\\\sphinx-1.3.5-py2.7.egg', 'z:\\\\documents\\\\continuum\\\\anaconda2\\\\lib\\\\site-packages\\\\setuptools-20.3-py2.7.egg', 'Z:\\\\Documents\\\\Continuum\\\\Anaconda2\\\\lib\\\\site-packages', 'Z:\\\\Documents\\\\Continuum\\\\Anaconda2\\\\lib\\\\site-packages\\\\win32', 'Z:\\\\Documents\\\\Continuum\\\\Anaconda2\\\\lib\\\\site-packages\\\\win32\\\\lib', 'Z:\\\\Documents\\\\Continuum\\\\Anaconda2\\\\lib\\\\site-packages\\\\Pythonwin', 'Z:\\\\Documents\\\\Continuum\\\\Anaconda2\\\\lib\\\\site-packages\\\\IPython\\\\extensions', 'C:\\\\Users\\\\flph74\\\\.ipython', 'EH', '..\\\\.']\n"
     ]
    }
   ],
   "source": [
    "print sys.path"
   ]
  },
  {
   "cell_type": "code",
   "execution_count": 9,
   "metadata": {
    "collapsed": true
   },
   "outputs": [],
   "source": [
    "import twoDplot_1"
   ]
  },
  {
   "cell_type": "code",
   "execution_count": null,
   "metadata": {
    "collapsed": true
   },
   "outputs": [],
   "source": []
  }
 ],
 "metadata": {
  "kernelspec": {
   "display_name": "Python 2",
   "language": "python",
   "name": "python2"
  },
  "language_info": {
   "codemirror_mode": {
    "name": "ipython",
    "version": 2
   },
   "file_extension": ".py",
   "mimetype": "text/x-python",
   "name": "python",
   "nbconvert_exporter": "python",
   "pygments_lexer": "ipython2",
   "version": "2.7.11"
  }
 },
 "nbformat": 4,
 "nbformat_minor": 0
}
